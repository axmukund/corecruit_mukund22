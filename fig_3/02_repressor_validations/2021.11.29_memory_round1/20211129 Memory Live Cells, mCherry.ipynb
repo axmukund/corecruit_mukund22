{
 "cells": [
  {
   "cell_type": "code",
   "execution_count": 49,
   "metadata": {},
   "outputs": [],
   "source": [
    "from cytoflow import *\n",
    "import os\n",
    "\n",
    "import numpy as np\n",
    "import pandas as pd\n",
    "import seaborn as sns\n",
    "import matplotlib.pyplot as plt\n",
    "import matplotlib as mpl\n",
    "import scipy.stats as st\n",
    "import math\n",
    "import random\n",
    "import time\n",
    "import iteration_utilities\n",
    "import tqdm\n",
    "import itertools\n",
    "import fcsparser\n",
    "\n",
    "mpl.rcParams['font.sans-serif'] = \"Arial\"\n",
    "mpl.rcParams['font.family'] = \"sans-serif\"\n",
    "plt.rcParams['figure.figsize'] = (10, 6)\n",
    "mpl.rcParams['pdf.fonttype'] = 42\n",
    "sns.set_style(\"ticks\", { \"xtick.major.size\": 4, \"ytick.major.size\": 4, \"font_color\":'k', 'axes.edgecolor': 'k', 'xtick.color': 'k', 'ytick.color': 'k'})\n",
    "sns.set_context(\"talk\", font_scale=1.0)"
   ]
  },
  {
   "cell_type": "markdown",
   "metadata": {},
   "source": [
    "# Defining tube loading function"
   ]
  },
  {
   "cell_type": "code",
   "execution_count": 50,
   "metadata": {},
   "outputs": [],
   "source": [
    "plasmid_dict = { # maps plasmid number => plasmid name\n",
    "#     57 : \"ZIK1 KRAB + ZNF10 KRAB\",    58 : \"ZIK1 KRAB + FOXO3 TAD\",\n",
    "    59 : \"ZIK1 KRAB + Rand Ctrl 89\",  #60 : \"KMT2C Dual + ZNF10 KRAB\",\n",
    "    61 : \"KMT2C Dual + FOXO3 TAD\",    #62 : \"KMT2C Dual + Rand Ctrl 89\",\n",
    "    63 : \"KMT2D Dual + ZNF10 KRAB\",   #64 : \"KMT2D Dual + FOXO3 TAD\",\n",
    "    65 : \"KMT2D Dual + Rand Ctrl 89\", 66 : \"NCOA1 Dual + ZNF10 KRAB\",\n",
    "    67 : \"NCOA1 Dual + FOXO3 TAD\",    68 : \"NCOA1 Dual + Rand Ctrl 89\",\n",
    "    69 : \"NCOA2 Rep + FOXO3 TAD\",     #70 : \"Rand Ctrl + NCOA2 Act\",\n",
    "    #71 : \"NCOA2 Rep + NCOA2 Act\",     \n",
    "    72 : \"Rand Ctrl + Rand Ctrl 89\",\n",
    "    \n",
    "    74 : \"DMD - DMD\",     75 : \"DMD - RANDCTRL\",      76 : \"ZNF10 - ANM2\",\n",
    "    77 : \"ZNF10 - CBX1\",  78 : \"RANDCTRL - RANDCTRL\", 79 : \"ANM2 - KIBRA\",\n",
    "    80 : \"BIN1 - FOXO3\",  81 : \"CACO1 - ANM2\",        82 : \"CREM - MPP8\",\n",
    "    83 : \"DPF1 - HSF2\",   84 : \"DPY30 - HXA13\",       #85 : \"FOXO3 - ZNF10\",\n",
    "    #86 : \"IKKA - ANM2\",   \n",
    "    87 : \"MPP8 - ZNF791\", #88 : \"MYBA - FOXO3\",\n",
    "    #89 : \"NCOA2 - HXA13\", \n",
    "    90 : \"NOTC2 - ANM2\",        91 : \"NOTC2 - KIBRA\",\n",
    "    92 : \"SMCA2 - U2AF4\", 93 : \"SUMO3 - SSX2\",        94 : \"YAF2 - ZNF791\",\n",
    "    #95 : \"HES2 - NCOA2\",  \n",
    "    96 : \"ATRX - HERC2\",        97 : \"SCML2 - NOTC2\",\n",
    "    98 : \"CHD4 - CDYL2\",  99 : \"SMN2 - FOXO3\",       \n",
    "    \n",
    "    126 : \"rTetR only\",  217 : \"KRAB only\",          144 : \"MYB only\"\n",
    "}\n",
    "\n",
    "plasmid_numbers = sorted(list(plasmid_dict.keys()))\n",
    "plasmid_names = [plasmid_dict[p] for p in plasmid_numbers]"
   ]
  },
  {
   "cell_type": "code",
   "execution_count": 51,
   "metadata": {},
   "outputs": [],
   "source": [
    "days = [0, 1, 2, 3, 4, 5, 6, 8, 11, 13, 15, 18, 20]\n",
    "treatments = [\"none\", \"DMSO\", \"9-c-RA\"]\n",
    "dox_doses = [0, 1000]\n",
    "replicates = [1, 2]"
   ]
  },
  {
   "cell_type": "code",
   "execution_count": 52,
   "metadata": {},
   "outputs": [],
   "source": [
    "letters = [\"A\", \"B\", \"C\", \"D\", \"E\", \"F\", \"G\", \"H\"]\n",
    "numbers = [1, 2, 3, 4, 5, 6, 7, 8, 9, 10, 11, 12]\n",
    "\n",
    "def get_treatment_list(plasmid):\n",
    "    if plasmid in [66, 67, 68, 69]:\n",
    "        return [\"DMSO\", \"9-c-RA\"]\n",
    "    if plasmid in [126, 217]:\n",
    "        return [\"none\", \"DMSO\", \"9-c-RA\"]\n",
    "    return [\"none\"]\n",
    "\n",
    "def get_tube_location_d0(plasmid, treatment, replicate):\n",
    "    layout = [\n",
    "        [59, 61, 63, 64, 65, 66],\n",
    "        [67, 68, 69, 70, 71, 72],\n",
    "        [74, 75, 76, 77, 78, 79],\n",
    "        [80, 81, 82, 83, 84, 87],\n",
    "        [88, 89, 90, 91, 92, 93],\n",
    "        [94, 95, 96, 97, 98, 99],\n",
    "        [126, 217, 144]\n",
    "    ]\n",
    "    \n",
    "    for row in layout:\n",
    "        if plasmid in row:\n",
    "            r = layout.index(row)\n",
    "            c = row.index(plasmid) + 6 * (1-replicate)\n",
    "            return letters[r] + str(numbers[c])\n",
    "\n",
    "def get_tube_location(plasmid, treatment, replicate):\n",
    "    treatment_row = [66, 67, 68, 69, 126, 217]\n",
    "    if plasmid in treatment_row and treatment != \"none\":\n",
    "        row = 1 if treatment == \"DMSO\" else 2\n",
    "        col = 1 + treatment_row.index(plasmid) + 6 * (1 - replicate)\n",
    "        return letters[row-1] + str(numbers[col-1])\n",
    "    \n",
    "    rows = [\n",
    "        [59,  61,  63,  65],\n",
    "        [72, 126, 217, 144],\n",
    "        \n",
    "        [74, 75, 76, 77, 78, 79],\n",
    "        [80, 81, 82, 83, 84, 87],\n",
    "        [90, 91, 92, 93, 94, 96],\n",
    "        [97, 98, 99]\n",
    "    ]\n",
    "    four_one = [59, 61, 63, 65]\n",
    "    four_two = [72, 126, 217, 144]\n",
    "    \n",
    "    for row in rows:\n",
    "        if plasmid in row:\n",
    "            r = letters[rows.index(row) + 2]\n",
    "            c = row.index(plasmid) + 1 + 6 * (1-replicate)\n",
    "            return r + str(numbers[c-1])"
   ]
  },
  {
   "cell_type": "code",
   "execution_count": 53,
   "metadata": {},
   "outputs": [],
   "source": [
    "tube_dir_dict = {\n",
    "    0 : {\n",
    "        0    : 'axm-20211111_d0dox_jt039-20211111-1942',\n",
    "        1000 : 'axm-20211111_d0dox_jt039-20211111-1942'\n",
    "    },\n",
    "    1 : {\n",
    "        0    : 'axm-20211112_d1_nodox_jt039-20211112-1855',\n",
    "        1000 : 'axm-20211112_d1_dox_jt039-20211112-1825'\n",
    "    },\n",
    "\n",
    "    2 : {\n",
    "        0    : 'axm-20211113_d2_nodox_jt039-20211113-1704',\n",
    "        1000 : 'axm-20211113_d2_dox_jt039-20211113-2007'\n",
    "    },\n",
    "\n",
    "    3 : {\n",
    "        0    : 'axm-20211114_d3_nodox_jt039-20211114-1654',\n",
    "        1000 : 'axm-20211114_d3_dox_jt039-20211114-1724'\n",
    "    },\n",
    "\n",
    "    4 : {\n",
    "        0    : 'axm-20211115_d4_nodox_jt039-20211115-1637',\n",
    "        1000 : 'axm-20211115_d4_dox_jt039-20211115-1716'\n",
    "    },\n",
    "\n",
    "    5 : {\n",
    "        0    : 'axm-20211116_d5_nodox_jt039-20211116-1632',\n",
    "        1000 : 'axm-20211116_d5_dox_jt039-20211116-1709'\n",
    "    },\n",
    "    6 : {\n",
    "        1000 : 'axm-20211117_d6_dox_jt039-20211117-1604',\n",
    "        0 : 'axm-20211117_d6_nodox_jt039-20211117-1640'},\n",
    "    8 : {\n",
    "        1000 : 'axm-20211119_d8_dox_jt039-20211119-1659',\n",
    "        0 : 'axm-20211119_d8_nodox_jt039-20211119-1623'},\n",
    "    11 : {\n",
    "        1000 : 'axm-20211122_d11_dox_jt039-20211122-1652',\n",
    "        0 : 'axm-20211122_d11_nodox_jt039-20211122-1611'},\n",
    "    13 : {\n",
    "        1000 : 'axm-20211124_d13_dox_jt039-20211124-1615',\n",
    "        0 : 'axm-20211124_d13_nodox_jt039-20211124-1539'},\n",
    "    15 : {\n",
    "        1000 : 'axm-20211126_d15_dox_jt039-20211126-1616',\n",
    "        0: 'axm-20211126_d15_nodox_jt039-20211126-1540'},\n",
    "    18 : {\n",
    "        1000 : 'axm-20211129_d18_dox_jt039-20211129-1648',\n",
    "        0 : 'axm-20211129_d18_nodox_jt039-20211129-1607'\n",
    "    },\n",
    "    20 : {\n",
    "        1000 : 'axm-20211201_d20_dox_jt039-20211201-1614',\n",
    "        0 : 'axm-20211201_d20_nodox_jt039-20211201-1536'\n",
    "    }\n",
    "}"
   ]
  },
  {
   "cell_type": "code",
   "execution_count": 54,
   "metadata": {},
   "outputs": [],
   "source": [
    "def get_tube_file(day, dox, plasmid, treatment, replicate):\n",
    "    # first, get folder location\n",
    "    filedir = './data'\n",
    "    folder = tube_dir_dict[day][dox]\n",
    "    filedir = filedir + '/' + folder\n",
    "    \n",
    "    # get tube location\n",
    "    tubename = get_tube_location_d0(plasmid, treatment, replicate) if day == 0\\\n",
    "                else get_tube_location(plasmid, treatment, replicate)\n",
    "    \n",
    "    # there we go\n",
    "    return filedir + '/' + tubename + '.fcs'"
   ]
  },
  {
   "cell_type": "markdown",
   "metadata": {},
   "source": [
    "# Importing tubes"
   ]
  },
  {
   "cell_type": "code",
   "execution_count": 55,
   "metadata": {},
   "outputs": [
    {
     "name": "stdout",
     "output_type": "stream",
     "text": [
      "Loaded 2132 tubes\n"
     ]
    }
   ],
   "source": [
    "tubeslist = []\n",
    "\n",
    "for day in [0, 1, 2, 3, 4, 5, 6, 8, 11, 13, 15, 18, 20]:\n",
    "    for dox in [0, 1000]:\n",
    "        for plasmid in plasmid_dict:\n",
    "            for treatment in get_treatment_list(plasmid):\n",
    "                for replicate in [1, 2]:\n",
    "                    #print(day, dox, plasmid, treatment, replicate)\n",
    "                    tubeslist.extend([\n",
    "                        Tube(conditions = {'plasmid' : plasmid,\n",
    "                                           'description' : plasmid_dict[plasmid],\n",
    "                                           'day' : day,\n",
    "                                           'dox' : dox,\n",
    "                                           'treatment' : treatment,\n",
    "                                           'replicate' : replicate},\n",
    "                            file = get_tube_file(day, dox, plasmid, treatment, replicate),\n",
    "                            conditions_list = ['plasmid', 'description', 'day',\n",
    "                                               'dox', 'treatment', 'replicate'])])\n",
    "\n",
    "print(\"Loaded\", len(tubeslist), \"tubes\")"
   ]
  },
  {
   "cell_type": "code",
   "execution_count": 56,
   "metadata": {
    "scrolled": false
   },
   "outputs": [
    {
     "data": {
      "application/vnd.jupyter.widget-view+json": {
       "model_id": "a1f62f1957b14ecfabe3595311b8fb4b",
       "version_major": 2,
       "version_minor": 0
      },
      "text/plain": [
       "  0%|          | 0/2132 [00:00<?, ?it/s]"
      ]
     },
     "metadata": {},
     "output_type": "display_data"
    },
    {
     "data": {
      "application/vnd.jupyter.widget-view+json": {
       "model_id": "702e5e9700d6428389e17501aaae34fd",
       "version_major": 2,
       "version_minor": 0
      },
      "text/plain": [
       "  0%|          | 0/2132 [00:00<?, ?it/s]"
      ]
     },
     "metadata": {},
     "output_type": "display_data"
    },
    {
     "data": {
      "text/html": [
       "<div>\n",
       "<style scoped>\n",
       "    .dataframe tbody tr th:only-of-type {\n",
       "        vertical-align: middle;\n",
       "    }\n",
       "\n",
       "    .dataframe tbody tr th {\n",
       "        vertical-align: top;\n",
       "    }\n",
       "\n",
       "    .dataframe thead th {\n",
       "        text-align: right;\n",
       "    }\n",
       "</style>\n",
       "<table border=\"1\" class=\"dataframe\">\n",
       "  <thead>\n",
       "    <tr style=\"text-align: right;\">\n",
       "      <th></th>\n",
       "      <th>FSC 488/10-A</th>\n",
       "      <th>SSC 488/10-A</th>\n",
       "      <th>day</th>\n",
       "      <th>description</th>\n",
       "      <th>dox</th>\n",
       "      <th>mCherry-A</th>\n",
       "      <th>mCitrine-A</th>\n",
       "      <th>plasmid</th>\n",
       "      <th>replicate</th>\n",
       "      <th>treatment</th>\n",
       "    </tr>\n",
       "  </thead>\n",
       "  <tbody>\n",
       "    <tr>\n",
       "      <th>0</th>\n",
       "      <td>8.317540e+08</td>\n",
       "      <td>219492864.0</td>\n",
       "      <td>0.0</td>\n",
       "      <td>ZIK1 KRAB + Rand Ctrl 89</td>\n",
       "      <td>0.0</td>\n",
       "      <td>14387968.0</td>\n",
       "      <td>85923072.0</td>\n",
       "      <td>59</td>\n",
       "      <td>1.0</td>\n",
       "      <td>none</td>\n",
       "    </tr>\n",
       "    <tr>\n",
       "      <th>1</th>\n",
       "      <td>4.958666e+08</td>\n",
       "      <td>180896512.0</td>\n",
       "      <td>0.0</td>\n",
       "      <td>ZIK1 KRAB + Rand Ctrl 89</td>\n",
       "      <td>0.0</td>\n",
       "      <td>104767232.0</td>\n",
       "      <td>66599936.0</td>\n",
       "      <td>59</td>\n",
       "      <td>1.0</td>\n",
       "      <td>none</td>\n",
       "    </tr>\n",
       "    <tr>\n",
       "      <th>2</th>\n",
       "      <td>4.226458e+08</td>\n",
       "      <td>101837056.0</td>\n",
       "      <td>0.0</td>\n",
       "      <td>ZIK1 KRAB + Rand Ctrl 89</td>\n",
       "      <td>0.0</td>\n",
       "      <td>26209536.0</td>\n",
       "      <td>61377280.0</td>\n",
       "      <td>59</td>\n",
       "      <td>1.0</td>\n",
       "      <td>none</td>\n",
       "    </tr>\n",
       "    <tr>\n",
       "      <th>3</th>\n",
       "      <td>1.038254e+09</td>\n",
       "      <td>372244224.0</td>\n",
       "      <td>0.0</td>\n",
       "      <td>ZIK1 KRAB + Rand Ctrl 89</td>\n",
       "      <td>0.0</td>\n",
       "      <td>365425920.0</td>\n",
       "      <td>376630272.0</td>\n",
       "      <td>59</td>\n",
       "      <td>1.0</td>\n",
       "      <td>none</td>\n",
       "    </tr>\n",
       "    <tr>\n",
       "      <th>4</th>\n",
       "      <td>8.091105e+08</td>\n",
       "      <td>349765120.0</td>\n",
       "      <td>0.0</td>\n",
       "      <td>ZIK1 KRAB + Rand Ctrl 89</td>\n",
       "      <td>0.0</td>\n",
       "      <td>180713472.0</td>\n",
       "      <td>1863680.0</td>\n",
       "      <td>59</td>\n",
       "      <td>1.0</td>\n",
       "      <td>none</td>\n",
       "    </tr>\n",
       "  </tbody>\n",
       "</table>\n",
       "</div>"
      ],
      "text/plain": [
       "   FSC 488/10-A  SSC 488/10-A  day               description  dox  \\\n",
       "0  8.317540e+08   219492864.0  0.0  ZIK1 KRAB + Rand Ctrl 89  0.0   \n",
       "1  4.958666e+08   180896512.0  0.0  ZIK1 KRAB + Rand Ctrl 89  0.0   \n",
       "2  4.226458e+08   101837056.0  0.0  ZIK1 KRAB + Rand Ctrl 89  0.0   \n",
       "3  1.038254e+09   372244224.0  0.0  ZIK1 KRAB + Rand Ctrl 89  0.0   \n",
       "4  8.091105e+08   349765120.0  0.0  ZIK1 KRAB + Rand Ctrl 89  0.0   \n",
       "\n",
       "     mCherry-A   mCitrine-A  plasmid  replicate treatment  \n",
       "0   14387968.0   85923072.0       59        1.0      none  \n",
       "1  104767232.0   66599936.0       59        1.0      none  \n",
       "2   26209536.0   61377280.0       59        1.0      none  \n",
       "3  365425920.0  376630272.0       59        1.0      none  \n",
       "4  180713472.0    1863680.0       59        1.0      none  "
      ]
     },
     "execution_count": 56,
     "metadata": {},
     "output_type": "execute_result"
    }
   ],
   "source": [
    "# We have to do this the kind of stupid way \n",
    "# Let's try chunking..\n",
    "\n",
    "tls = tubeslist\n",
    "\n",
    "def get_ex0(chunk):\n",
    "    op0 = ImportOp(\n",
    "        conditions = {'plasmid'     : 'category',\n",
    "                      'description' : 'category',\n",
    "                      'day'         : 'float',\n",
    "                      'dox'         : 'float',\n",
    "                      'treatment'   : 'category',\n",
    "                      'replicate'   : 'float'},\n",
    "        tubes = chunk,\n",
    "        channels={'mCitrine-A':'mCitrine-A',\n",
    "                  'mCherry-A':'mCherry-A',\n",
    "                  'FSC 488/10-A':'FSC 488/10-A',\n",
    "                  'SSC 488/10-A':'SSC 488/10-A'})\n",
    "    ex0 = op0.apply()\n",
    "    return ex0\n",
    "\n",
    "\n",
    "ex0_list = [get_ex0(list(chunk)) \n",
    "            for chunk in tqdm.notebook.tqdm(iteration_utilities.grouper(tls, 1), \n",
    "                                            position = 0, leave = True, total = len(tls))]\n",
    "\n",
    "ex0 = ex0_list[0]\n",
    "all_data = pd.concat([e.data for e in tqdm.notebook.tqdm(ex0_list)])\n",
    "ex0.data = all_data\n",
    "ex0.data.head()"
   ]
  },
  {
   "cell_type": "markdown",
   "metadata": {},
   "source": [
    "# Live Gate"
   ]
  },
  {
   "cell_type": "code",
   "execution_count": 57,
   "metadata": {},
   "outputs": [
    {
     "name": "stdout",
     "output_type": "stream",
     "text": [
      "CPU times: user 10min 17s, sys: 2min 29s, total: 12min 46s\n",
      "Wall time: 7min 1s\n"
     ]
    },
    {
     "data": {
      "image/png": "[encoded data removed]",
      "text/plain": [
       "<Figure size 540x360 with 2 Axes>"
      ]
     },
     "metadata": {},
     "output_type": "display_data"
    }
   ],
   "source": [
    "%%time\n",
    "\n",
    "dens_op = DensityGateOp(\n",
    "    name = 'P1',\n",
    "    xchannel='FSC 488/10-A',\n",
    "    xscale = 'log',\n",
    "    ychannel='SSC 488/10-A',\n",
    "    yscale = 'log',\n",
    "    keep = 0.9)\n",
    "\n",
    "dens_op.estimate(ex0)\n",
    "ex1 = dens_op.apply(ex0)\n",
    "dens_op.default_view().plot(ex0, height = 5)"
   ]
  },
  {
   "cell_type": "markdown",
   "metadata": {},
   "source": [
    "# mCherry Gate"
   ]
  },
  {
   "cell_type": "code",
   "execution_count": 58,
   "metadata": {},
   "outputs": [
    {
     "data": {
      "image/png": "[encoded data removed]",
      "text/plain": [
       "<Figure size 324x216 with 1 Axes>"
      ]
     },
     "metadata": {},
     "output_type": "display_data"
    }
   ],
   "source": [
    "op_2 = ThresholdOp(\n",
    "    name='mCherry', threshold=1e7, channel='mCherry-A')\n",
    "ex_2 = op_2.apply(ex1)\n",
    "op_2.default_view(\n",
    "    subset='(P1==True)', scale='log').plot(ex_2)"
   ]
  },
  {
   "cell_type": "code",
   "execution_count": 59,
   "metadata": {},
   "outputs": [],
   "source": [
    "ex_2.data.to_csv('./data/all_cells_live_mch_gated.csv', index = False)"
   ]
  },
  {
   "cell_type": "code",
   "execution_count": null,
   "metadata": {},
   "outputs": [],
   "source": []
  }
 ],
 "metadata": {
  "kernelspec": {
   "display_name": "Python 3 (ipykernel)",
   "language": "python",
   "name": "python3"
  },
  "language_info": {
   "codemirror_mode": {
    "name": "ipython",
    "version": 3
   },
   "file_extension": ".py",
   "mimetype": "text/x-python",
   "name": "python",
   "nbconvert_exporter": "python",
   "pygments_lexer": "ipython3",
   "version": "3.8.5"
  },
  "varInspector": {
   "cols": {
    "lenName": 16,
    "lenType": 16,
    "lenVar": 40
   },
   "kernels_config": {
    "python": {
     "delete_cmd_postfix": "",
     "delete_cmd_prefix": "del ",
     "library": "var_list.py",
     "varRefreshCmd": "print(var_dic_list())"
    },
    "r": {
     "delete_cmd_postfix": ") ",
     "delete_cmd_prefix": "rm(",
     "library": "var_list.r",
     "varRefreshCmd": "cat(var_dic_list()) "
    }
   },
   "types_to_exclude": [
    "module",
    "function",
    "builtin_function_or_method",
    "instance",
    "_Feature"
   ],
   "window_display": false
  }
 },
 "nbformat": 4,
 "nbformat_minor": 4
}
