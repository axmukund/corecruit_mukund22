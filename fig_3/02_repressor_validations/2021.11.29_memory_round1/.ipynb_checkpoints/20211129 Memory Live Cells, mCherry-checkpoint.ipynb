{
 "cells": [
  {
   "cell_type": "code",
   "execution_count": 1,
   "metadata": {},
   "outputs": [],
   "source": [
    "from cytoflow import *\n",
    "import os\n",
    "\n",
    "import numpy as np\n",
    "import pandas as pd\n",
    "import seaborn as sns\n",
    "import matplotlib.pyplot as plt\n",
    "import matplotlib as mpl\n",
    "import scipy.stats as st\n",
    "import math\n",
    "\n",
    "mpl.rcParams['font.sans-serif'] = \"Arial\"\n",
    "mpl.rcParams['font.family'] = \"sans-serif\"\n",
    "plt.rcParams['figure.figsize'] = (10, 6)\n",
    "mpl.rcParams['pdf.fonttype'] = 42\n",
    "sns.set_style(\"ticks\", { \"xtick.major.size\": 4, \"ytick.major.size\": 4, \"font_color\":'k', 'axes.edgecolor': 'k', 'xtick.color': 'k', 'ytick.color': 'k'})\n",
    "sns.set_context(\"talk\", font_scale=1.0)"
   ]
  },
  {
   "cell_type": "markdown",
   "metadata": {},
   "source": [
    "# Defining tube loading function"
   ]
  },
  {
   "cell_type": "code",
   "execution_count": 2,
   "metadata": {},
   "outputs": [],
   "source": [
    "plasmid_dict = { # maps plasmid number => plasmid name\n",
    "#     57 : \"ZIK1 KRAB + ZNF10 KRAB\",    58 : \"ZIK1 KRAB + FOXO3 TAD\",\n",
    "    59 : \"ZIK1 KRAB + Rand Ctrl 89\",  #60 : \"KMT2C Dual + ZNF10 KRAB\",\n",
    "    61 : \"KMT2C Dual + FOXO3 TAD\",    #62 : \"KMT2C Dual + Rand Ctrl 89\",\n",
    "    63 : \"KMT2D Dual + ZNF10 KRAB\",   #64 : \"KMT2D Dual + FOXO3 TAD\",\n",
    "    65 : \"KMT2D Dual + Rand Ctrl 89\", 66 : \"NCOA1 Dual + ZNF10 KRAB\",\n",
    "    67 : \"NCOA1 Dual + FOXO3 TAD\",    68 : \"NCOA1 Dual + Rand Ctrl 89\",\n",
    "    69 : \"NCOA2 Rep + FOXO3 TAD\",     #70 : \"Rand Ctrl + NCOA2 Act\",\n",
    "    #71 : \"NCOA2 Rep + NCOA2 Act\",     \n",
    "    72 : \"Rand Ctrl + Rand Ctrl 89\",\n",
    "    \n",
    "    74 : \"DMD - DMD\",     75 : \"DMD - RANDCTRL\",      76 : \"ZNF10 - ANM2\",\n",
    "    77 : \"ZNF10 - CBX1\",  78 : \"RANDCTRL - RANDCTRL\", 79 : \"ANM2 - KIBRA\",\n",
    "    80 : \"BIN1 - FOXO3\",  81 : \"CACO1 - ANM2\",        82 : \"CREM - MPP8\",\n",
    "    83 : \"DPF1 - HSF2\",   84 : \"DPY30 - HXA13\",       #85 : \"FOXO3 - ZNF10\",\n",
    "    #86 : \"IKKA - ANM2\",   \n",
    "    87 : \"MPP8 - ZNF791\", #88 : \"MYBA - FOXO3\",\n",
    "    #89 : \"NCOA2 - HXA13\", \n",
    "    90 : \"NOTC2 - ANM2\",        91 : \"NOTC2 - KIBRA\",\n",
    "    92 : \"SMCA2 - U2AF4\", 93 : \"SUMO3 - SSX2\",        94 : \"YAF2 - ZNF791\",\n",
    "    #95 : \"HES2 - NCOA2\",  \n",
    "    96 : \"ATRX - HERC2\",        97 : \"SCML2 - NOTC2\",\n",
    "    98 : \"CHD4 - CDYL2\",  99 : \"SMN2 - FOXO3\",       \n",
    "    \n",
    "    126 : \"rTetR only\",  217 : \"KRAB only\",          144 : \"MYB only\"\n",
    "}\n",
    "\n",
    "plasmid_numbers = sorted(list(plasmid_dict.keys()))\n",
    "plasmid_names = [plasmid_dict[p] for p in plasmid_numbers]"
   ]
  },
  {
   "cell_type": "code",
   "execution_count": 3,
   "metadata": {},
   "outputs": [],
   "source": [
    "days = [0, 1, 2, 3, 4, 5, 6, 8, 11, 13, 15]\n",
    "treatments = [\"none\", \"DMSO\", \"9-c-RA\"]\n",
    "dox_doses = [0, 1000]\n",
    "replicates = [1, 2]"
   ]
  },
  {
   "cell_type": "code",
   "execution_count": 4,
   "metadata": {},
   "outputs": [],
   "source": [
    "letters = [\"A\", \"B\", \"C\", \"D\", \"E\", \"F\", \"G\", \"H\"]\n",
    "numbers = [1, 2, 3, 4, 5, 6, 7, 8, 9, 10, 11, 12]\n",
    "\n",
    "def get_treatment_list(plasmid):\n",
    "    if plasmid in [66, 67, 68, 69]:\n",
    "        return [\"DMSO\", \"9-c-RA\"]\n",
    "    if plasmid in [126, 217]:\n",
    "        return [\"none\", \"DMSO\", \"9-c-RA\"]\n",
    "    return [\"none\"]\n",
    "\n",
    "def get_tube_location_d0(plasmid, treatment, replicate):\n",
    "    layout = [\n",
    "        [59, 61, 63, 64, 65, 66],\n",
    "        [67, 68, 69, 70, 71, 72],\n",
    "        [74, 75, 76, 77, 78, 79],\n",
    "        [80, 81, 82, 83, 84, 87],\n",
    "        [88, 89, 90, 91, 92, 93],\n",
    "        [94, 95, 96, 97, 98, 99],\n",
    "        [126, 217, 144]\n",
    "    ]\n",
    "    \n",
    "    for row in layout:\n",
    "        if plasmid in row:\n",
    "            r = layout.index(row)\n",
    "            c = row.index(plasmid) + 6 * (1-replicate)\n",
    "            return letters[r] + str(numbers[c])\n",
    "\n",
    "def get_tube_location(plasmid, treatment, replicate):\n",
    "    treatment_row = [66, 67, 68, 69, 126, 217]\n",
    "    if plasmid in treatment_row and treatment != \"none\":\n",
    "        row = 1 if treatment == \"DMSO\" else 2\n",
    "        col = 1 + treatment_row.index(plasmid) + 6 * (1 - replicate)\n",
    "        return letters[row-1] + str(numbers[col-1])\n",
    "    \n",
    "    rows = [\n",
    "        [59,  61,  63,  65],\n",
    "        [72, 126, 217, 144],\n",
    "        \n",
    "        [74, 75, 76, 77, 78, 79],\n",
    "        [80, 81, 82, 83, 84, 87],\n",
    "        [90, 91, 92, 93, 94, 96],\n",
    "        [97, 98, 99]\n",
    "    ]\n",
    "    four_one = [59, 61, 63, 65]\n",
    "    four_two = [72, 126, 217, 144]\n",
    "    \n",
    "    for row in rows:\n",
    "        if plasmid in row:\n",
    "            r = letters[rows.index(row) + 2]\n",
    "            c = row.index(plasmid) + 1 + 6 * (1-replicate)\n",
    "            return r + str(numbers[c-1])"
   ]
  },
  {
   "cell_type": "code",
   "execution_count": 5,
   "metadata": {},
   "outputs": [],
   "source": [
    "tube_dir_dict = {\n",
    "    0 : {\n",
    "        0    : 'axm-20211111_d0dox_jt039-20211111-1942',\n",
    "        1000 : 'axm-20211111_d0dox_jt039-20211111-1942'\n",
    "    },\n",
    "    1 : {\n",
    "        0    : 'axm-20211112_d1_nodox_jt039-20211112-1855',\n",
    "        1000 : 'axm-20211112_d1_dox_jt039-20211112-1825'\n",
    "    },\n",
    "\n",
    "    2 : {\n",
    "        0    : 'axm-20211113_d2_nodox_jt039-20211113-1704',\n",
    "        1000 : 'axm-20211113_d2_dox_jt039-20211113-2007'\n",
    "    },\n",
    "\n",
    "    3 : {\n",
    "        0    : 'axm-20211114_d3_nodox_jt039-20211114-1654',\n",
    "        1000 : 'axm-20211114_d3_dox_jt039-20211114-1724'\n",
    "    },\n",
    "\n",
    "    4 : {\n",
    "        0    : 'axm-20211115_d4_nodox_jt039-20211115-1637',\n",
    "        1000 : 'axm-20211115_d4_dox_jt039-20211115-1716'\n",
    "    },\n",
    "\n",
    "    5 : {\n",
    "        0    : 'axm-20211116_d5_nodox_jt039-20211116-1632',\n",
    "        1000 : 'axm-20211116_d5_dox_jt039-20211116-1709'\n",
    "    },\n",
    "    6 : {\n",
    "        \n",
    "    }\n",
    "\n",
    "}"
   ]
  },
  {
   "cell_type": "code",
   "execution_count": 6,
   "metadata": {},
   "outputs": [],
   "source": [
    "def get_tube_file(day, dox, plasmid, treatment, replicate):\n",
    "    # first, get folder location\n",
    "    filedir = './data'\n",
    "    folder = tube_dir_dict[day][dox]\n",
    "    filedir = filedir + '/' + folder\n",
    "    \n",
    "    # get tube location\n",
    "    tubename = get_tube_location_d0(plasmid, treatment, replicate) if day == 0\\\n",
    "                else get_tube_location(plasmid, treatment, replicate)\n",
    "    \n",
    "    # there we go\n",
    "    return filedir + '/' + tubename + '.fcs'"
   ]
  },
  {
   "cell_type": "markdown",
   "metadata": {},
   "source": [
    "# Importing tubes"
   ]
  },
  {
   "cell_type": "code",
   "execution_count": 8,
   "metadata": {},
   "outputs": [
    {
     "name": "stdout",
     "output_type": "stream",
     "text": [
      "Loaded 984 tubes\n"
     ]
    }
   ],
   "source": [
    "tubeslist = []\n",
    "\n",
    "for day in [0, 1, 2, 3, 4, 5]:\n",
    "    for dox in [0, 1000]:\n",
    "        for plasmid in plasmid_dict:\n",
    "            for treatment in get_treatment_list(plasmid):\n",
    "                for replicate in [1, 2]:\n",
    "                    #print(day, dox, plasmid, treatment, replicate)\n",
    "                    tubeslist.extend([\n",
    "                        Tube(conditions = {'plasmid' : plasmid,\n",
    "                                           'description' : plasmid_dict[plasmid],\n",
    "                                           'day' : day,\n",
    "                                           'dox' : dox,\n",
    "                                           'treatment' : treatment,\n",
    "                                           'replicate' : replicate},\n",
    "                            file = get_tube_file(day, dox, plasmid, treatment, replicate),\n",
    "                            conditions_list = ['plasmid', 'description', 'day',\n",
    "                                               'dox', 'treatment', 'replicate'])])\n",
    "\n",
    "print(\"Loaded\", len(tubeslist), \"tubes\")"
   ]
  },
  {
   "cell_type": "code",
   "execution_count": 10,
   "metadata": {},
   "outputs": [
    {
     "name": "stdout",
     "output_type": "stream",
     "text": [
      "CPU times: user 28min 52s, sys: 5min 19s, total: 34min 11s\n",
      "Wall time: 34min 36s\n"
     ]
    }
   ],
   "source": [
    "%%time\n",
    "\n",
    "op0 = ImportOp(\n",
    "    conditions = {\n",
    "        'plasmid'     : 'category',\n",
    "        'description' : 'category',\n",
    "        'day'         : 'float',\n",
    "        'dox'         : 'float',\n",
    "        'treatment'   : 'category',\n",
    "        'replicate'   : 'float'\n",
    "    },\n",
    "    tubes = tubeslist,\n",
    "    channels={'mCitrine-A':'mCitrine-A',\n",
    "              'mCherry-A':'mCherry-A',\n",
    "              'FSC 488/10-A':'FSC 488/10-A',\n",
    "              'SSC 488/10-A':'SSC 488/10-A'}\n",
    ")\n",
    "\n",
    "ex0 = op0.apply()"
   ]
  },
  {
   "cell_type": "markdown",
   "metadata": {},
   "source": [
    "# Live Gate"
   ]
  },
  {
   "cell_type": "code",
   "execution_count": 11,
   "metadata": {},
   "outputs": [
    {
     "name": "stdout",
     "output_type": "stream",
     "text": [
      "CPU times: user 1min 3s, sys: 8.35 s, total: 1min 11s\n",
      "Wall time: 37.6 s\n"
     ]
    },
    {
     "data": {
      "image/png": "[encoded data removed]",
      "text/plain": [
       "<Figure size 540x360 with 2 Axes>"
      ]
     },
     "metadata": {},
     "output_type": "display_data"
    }
   ],
   "source": [
    "%%time\n",
    "\n",
    "dens_op = DensityGateOp(\n",
    "    name = 'P1',\n",
    "    xchannel='FSC 488/10-A',\n",
    "    xscale = 'log',\n",
    "    ychannel='SSC 488/10-A',\n",
    "    yscale = 'log',\n",
    "    keep = 0.9)\n",
    "\n",
    "dens_op.estimate(ex0)\n",
    "ex1 = dens_op.apply(ex0)\n",
    "dens_op.default_view().plot(ex0, height = 5)"
   ]
  },
  {
   "cell_type": "markdown",
   "metadata": {},
   "source": [
    "# mCherry Gate"
   ]
  },
  {
   "cell_type": "code",
   "execution_count": 12,
   "metadata": {},
   "outputs": [
    {
     "data": {
      "image/png": "[encoded data removed]",
      "text/plain": [
       "<Figure size 324x216 with 1 Axes>"
      ]
     },
     "metadata": {},
     "output_type": "display_data"
    }
   ],
   "source": [
    "op_2 = ThresholdOp(\n",
    "    name='mCherry', threshold=1e7, channel='mCherry-A')\n",
    "ex_2 = op_2.apply(ex1)\n",
    "op_2.default_view(\n",
    "    subset='(P1==True)', scale='log').plot(ex_2)"
   ]
  },
  {
   "cell_type": "code",
   "execution_count": 13,
   "metadata": {},
   "outputs": [],
   "source": [
    "ex_2.data.to_csv('./data/all_cells_live_mch_gated.csv', index = False)"
   ]
  }
 ],
 "metadata": {
  "kernelspec": {
   "display_name": "Python 3 (ipykernel)",
   "language": "python",
   "name": "python3"
  },
  "language_info": {
   "codemirror_mode": {
    "name": "ipython",
    "version": 3
   },
   "file_extension": ".py",
   "mimetype": "text/x-python",
   "name": "python",
   "nbconvert_exporter": "python",
   "pygments_lexer": "ipython3",
   "version": "3.8.5"
  }
 },
 "nbformat": 4,
 "nbformat_minor": 4
}
