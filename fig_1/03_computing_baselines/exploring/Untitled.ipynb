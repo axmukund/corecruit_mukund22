{
 "cells": [
  {
   "cell_type": "code",
   "execution_count": 1,
   "metadata": {
    "ExecuteTime": {
     "end_time": "2022-07-11T21:36:14.237793Z",
     "start_time": "2022-07-11T21:36:12.550488Z"
    }
   },
   "outputs": [],
   "source": [
    "import math\n",
    "import numpy as np\n",
    "import pandas as pd\n",
    "import seaborn as sns\n",
    "import matplotlib.pyplot as plt\n",
    "import matplotlib as mpl\n",
    "import scipy.stats as st\n",
    "import math\n",
    "from tqdm.notebook import tqdm as tqdn\n",
    "from tqdm import tqdm\n",
    "import iteration_utilities\n",
    "import statsmodels\n",
    "import scipy.optimize\n",
    "import scipy.spatial.distance as sd\n",
    "from lmfit import *\n",
    "from matplotlib.lines import Line2D\n",
    "\n",
    "mpl.rcParams['font.sans-serif'] = 'Arial'\n",
    "mpl.rcParams['font.family'] = 'sans-serif'\n",
    "plt.rcParams['figure.figsize'] = (5, 3)\n",
    "mpl.rcParams['pdf.fonttype'] = 42\n",
    "sns.set_style(\n",
    "    'ticks',\n",
    "    {\n",
    "        'xtick.major.size': 4,\n",
    "        'ytick.major.size': 4,\n",
    "        'font_color': 'k',\n",
    "        'axes.edgecolor': 'k',\n",
    "        'xtick.color': 'k',\n",
    "        'ytick.color': 'k',\n",
    "    },\n",
    ")\n",
    "sns.set_context('talk', font_scale=1.0)"
   ]
  },
  {
   "cell_type": "code",
   "execution_count": 2,
   "metadata": {
    "ExecuteTime": {
     "end_time": "2022-07-11T21:36:14.512117Z",
     "start_time": "2022-07-11T21:36:14.239917Z"
    }
   },
   "outputs": [
    {
     "data": {
      "text/plain": [
       "ThemeRegistry.enable('vox')"
      ]
     },
     "execution_count": 2,
     "metadata": {},
     "output_type": "execute_result"
    }
   ],
   "source": [
    "import os\n",
    "import altair as alt\n",
    "alt.data_transformers.enable('json', prefix='tmp/')\n",
    "alt.themes.enable('vox')\n",
    "\n"
   ]
  },
  {
   "cell_type": "code",
   "execution_count": 3,
   "metadata": {
    "ExecuteTime": {
     "end_time": "2022-07-11T21:36:14.673621Z",
     "start_time": "2022-07-11T21:36:14.514388Z"
    }
   },
   "outputs": [
    {
     "data": {
      "text/html": [
       "<div>\n",
       "<style scoped>\n",
       "    .dataframe tbody tr th:only-of-type {\n",
       "        vertical-align: middle;\n",
       "    }\n",
       "\n",
       "    .dataframe tbody tr th {\n",
       "        vertical-align: top;\n",
       "    }\n",
       "\n",
       "    .dataframe thead th {\n",
       "        text-align: right;\n",
       "    }\n",
       "</style>\n",
       "<table border=\"1\" class=\"dataframe\">\n",
       "  <thead>\n",
       "    <tr style=\"text-align: right;\">\n",
       "      <th></th>\n",
       "      <th>pair</th>\n",
       "      <th>type</th>\n",
       "      <th>enrichment_ratio_r1_d2</th>\n",
       "      <th>enrichment_ratio_r1_d5</th>\n",
       "      <th>enrichment_ratio_r2_d2</th>\n",
       "      <th>enrichment_ratio_r2_d5</th>\n",
       "      <th>enrichment_fraction_r1_d2</th>\n",
       "      <th>enrichment_fraction_r1_d5</th>\n",
       "      <th>enrichment_fraction_r2_d2</th>\n",
       "      <th>enrichment_fraction_r2_d5</th>\n",
       "      <th>...</th>\n",
       "      <th>d2_med_d5</th>\n",
       "      <th>d2_sd_d5</th>\n",
       "      <th>d2_description</th>\n",
       "      <th>d2_baseline_type</th>\n",
       "      <th>composition</th>\n",
       "      <th>character</th>\n",
       "      <th>act_pair_hit</th>\n",
       "      <th>rep_pair_hit</th>\n",
       "      <th>baseline_sum_d2</th>\n",
       "      <th>baseline_sum_d5</th>\n",
       "    </tr>\n",
       "  </thead>\n",
       "  <tbody>\n",
       "    <tr>\n",
       "      <th>0</th>\n",
       "      <td>Short_nuclear_domain;NCOA2_HUMAN;Nuc_rec_co-ac...</td>\n",
       "      <td>0 control Pair</td>\n",
       "      <td>3.369442</td>\n",
       "      <td>0.365155</td>\n",
       "      <td>3.719474</td>\n",
       "      <td>-0.000660</td>\n",
       "      <td>0.911776</td>\n",
       "      <td>0.562941</td>\n",
       "      <td>0.929442</td>\n",
       "      <td>0.499886</td>\n",
       "      <td>...</td>\n",
       "      <td>2.054285</td>\n",
       "      <td>0.493242</td>\n",
       "      <td>Repressor</td>\n",
       "      <td>Non-hit</td>\n",
       "      <td>A-N</td>\n",
       "      <td>Other</td>\n",
       "      <td>True</td>\n",
       "      <td>False</td>\n",
       "      <td>1.126839</td>\n",
       "      <td>2.462512</td>\n",
       "    </tr>\n",
       "    <tr>\n",
       "      <th>1</th>\n",
       "      <td>Silencer_tiles;ENSG00000179833;22 --- Silencer...</td>\n",
       "      <td>0 control Pair</td>\n",
       "      <td>2.414849</td>\n",
       "      <td>-0.758524</td>\n",
       "      <td>3.474812</td>\n",
       "      <td>-0.858615</td>\n",
       "      <td>0.842088</td>\n",
       "      <td>0.371504</td>\n",
       "      <td>0.917477</td>\n",
       "      <td>0.355455</td>\n",
       "      <td>...</td>\n",
       "      <td>0.351655</td>\n",
       "      <td>0.582309</td>\n",
       "      <td>Repressor</td>\n",
       "      <td>Activator</td>\n",
       "      <td>A-A</td>\n",
       "      <td>Activator</td>\n",
       "      <td>True</td>\n",
       "      <td>True</td>\n",
       "      <td>5.959180</td>\n",
       "      <td>0.703310</td>\n",
       "    </tr>\n",
       "    <tr>\n",
       "      <th>2</th>\n",
       "      <td>Silencer_tiles;ENSG00000069812;10 --- Silencer...</td>\n",
       "      <td>0 control Pair</td>\n",
       "      <td>-3.045459</td>\n",
       "      <td>-2.324324</td>\n",
       "      <td>-2.057486</td>\n",
       "      <td>-1.610970</td>\n",
       "      <td>0.108037</td>\n",
       "      <td>0.166436</td>\n",
       "      <td>0.193701</td>\n",
       "      <td>0.246635</td>\n",
       "      <td>...</td>\n",
       "      <td>-0.808308</td>\n",
       "      <td>0.670493</td>\n",
       "      <td>Repressor</td>\n",
       "      <td>Repressor</td>\n",
       "      <td>R-R</td>\n",
       "      <td>Repressor</td>\n",
       "      <td>False</td>\n",
       "      <td>True</td>\n",
       "      <td>-3.901673</td>\n",
       "      <td>-1.616616</td>\n",
       "    </tr>\n",
       "    <tr>\n",
       "      <th>3</th>\n",
       "      <td>Short_nuclear_domain;ZN473_HUMAN;KRAB;1;41 ---...</td>\n",
       "      <td>0 control Pair</td>\n",
       "      <td>2.151337</td>\n",
       "      <td>-0.643566</td>\n",
       "      <td>3.060479</td>\n",
       "      <td>-0.645404</td>\n",
       "      <td>0.816257</td>\n",
       "      <td>0.390292</td>\n",
       "      <td>0.892962</td>\n",
       "      <td>0.389989</td>\n",
       "      <td>...</td>\n",
       "      <td>0.745666</td>\n",
       "      <td>0.626952</td>\n",
       "      <td>Activator</td>\n",
       "      <td>Activator</td>\n",
       "      <td>A-A</td>\n",
       "      <td>Activator</td>\n",
       "      <td>True</td>\n",
       "      <td>True</td>\n",
       "      <td>5.391484</td>\n",
       "      <td>1.491332</td>\n",
       "    </tr>\n",
       "    <tr>\n",
       "      <th>4</th>\n",
       "      <td>Short_nuclear_domain;HERC2_HUMAN;Cyt-b5;1207;7...</td>\n",
       "      <td>0 control Pair</td>\n",
       "      <td>-1.554031</td>\n",
       "      <td>-1.183923</td>\n",
       "      <td>-1.379328</td>\n",
       "      <td>-2.532059</td>\n",
       "      <td>0.254042</td>\n",
       "      <td>0.305629</td>\n",
       "      <td>0.277664</td>\n",
       "      <td>0.147406</td>\n",
       "      <td>...</td>\n",
       "      <td>1.827117</td>\n",
       "      <td>0.364559</td>\n",
       "      <td>Repressor</td>\n",
       "      <td>Non-hit</td>\n",
       "      <td>R-N</td>\n",
       "      <td>Other</td>\n",
       "      <td>False</td>\n",
       "      <td>True</td>\n",
       "      <td>-3.468438</td>\n",
       "      <td>-1.219896</td>\n",
       "    </tr>\n",
       "  </tbody>\n",
       "</table>\n",
       "<p>5 rows × 58 columns</p>\n",
       "</div>"
      ],
      "text/plain": [
       "                                                pair            type  \\\n",
       "0  Short_nuclear_domain;NCOA2_HUMAN;Nuc_rec_co-ac...  0 control Pair   \n",
       "1  Silencer_tiles;ENSG00000179833;22 --- Silencer...  0 control Pair   \n",
       "2  Silencer_tiles;ENSG00000069812;10 --- Silencer...  0 control Pair   \n",
       "3  Short_nuclear_domain;ZN473_HUMAN;KRAB;1;41 ---...  0 control Pair   \n",
       "4  Short_nuclear_domain;HERC2_HUMAN;Cyt-b5;1207;7...  0 control Pair   \n",
       "\n",
       "   enrichment_ratio_r1_d2  enrichment_ratio_r1_d5  enrichment_ratio_r2_d2  \\\n",
       "0                3.369442                0.365155                3.719474   \n",
       "1                2.414849               -0.758524                3.474812   \n",
       "2               -3.045459               -2.324324               -2.057486   \n",
       "3                2.151337               -0.643566                3.060479   \n",
       "4               -1.554031               -1.183923               -1.379328   \n",
       "\n",
       "   enrichment_ratio_r2_d5  enrichment_fraction_r1_d2  \\\n",
       "0               -0.000660                   0.911776   \n",
       "1               -0.858615                   0.842088   \n",
       "2               -1.610970                   0.108037   \n",
       "3               -0.645404                   0.816257   \n",
       "4               -2.532059                   0.254042   \n",
       "\n",
       "   enrichment_fraction_r1_d5  enrichment_fraction_r2_d2  \\\n",
       "0                   0.562941                   0.929442   \n",
       "1                   0.371504                   0.917477   \n",
       "2                   0.166436                   0.193701   \n",
       "3                   0.390292                   0.892962   \n",
       "4                   0.305629                   0.277664   \n",
       "\n",
       "   enrichment_fraction_r2_d5  ...  d2_med_d5  d2_sd_d5  d2_description  \\\n",
       "0                   0.499886  ...   2.054285  0.493242       Repressor   \n",
       "1                   0.355455  ...   0.351655  0.582309       Repressor   \n",
       "2                   0.246635  ...  -0.808308  0.670493       Repressor   \n",
       "3                   0.389989  ...   0.745666  0.626952       Activator   \n",
       "4                   0.147406  ...   1.827117  0.364559       Repressor   \n",
       "\n",
       "   d2_baseline_type  composition  character  act_pair_hit  rep_pair_hit  \\\n",
       "0           Non-hit          A-N      Other          True         False   \n",
       "1         Activator          A-A  Activator          True          True   \n",
       "2         Repressor          R-R  Repressor         False          True   \n",
       "3         Activator          A-A  Activator          True          True   \n",
       "4           Non-hit          R-N      Other         False          True   \n",
       "\n",
       "   baseline_sum_d2  baseline_sum_d5  \n",
       "0         1.126839         2.462512  \n",
       "1         5.959180         0.703310  \n",
       "2        -3.901673        -1.616616  \n",
       "3         5.391484         1.491332  \n",
       "4        -3.468438        -1.219896  \n",
       "\n",
       "[5 rows x 58 columns]"
      ]
     },
     "execution_count": 3,
     "metadata": {},
     "output_type": "execute_result"
    }
   ],
   "source": [
    "df = pd.read_csv(\"../../../fig_3/01_repressor_additivity/pairs_baselinesums.csv\")\n",
    "df.head()"
   ]
  },
  {
   "cell_type": "code",
   "execution_count": 4,
   "metadata": {
    "ExecuteTime": {
     "end_time": "2022-07-11T21:36:14.722581Z",
     "start_time": "2022-07-11T21:36:14.677300Z"
    }
   },
   "outputs": [
    {
     "data": {
      "text/html": [
       "<div>\n",
       "<style scoped>\n",
       "    .dataframe tbody tr th:only-of-type {\n",
       "        vertical-align: middle;\n",
       "    }\n",
       "\n",
       "    .dataframe tbody tr th {\n",
       "        vertical-align: top;\n",
       "    }\n",
       "\n",
       "    .dataframe thead th {\n",
       "        text-align: right;\n",
       "    }\n",
       "</style>\n",
       "<table border=\"1\" class=\"dataframe\">\n",
       "  <thead>\n",
       "    <tr style=\"text-align: right;\">\n",
       "      <th></th>\n",
       "      <th>pair</th>\n",
       "      <th>type</th>\n",
       "      <th>enrichment_ratio_r1_d2</th>\n",
       "      <th>enrichment_ratio_r1_d5</th>\n",
       "      <th>enrichment_ratio_r2_d2</th>\n",
       "      <th>enrichment_ratio_r2_d5</th>\n",
       "      <th>enrichment_fraction_r1_d2</th>\n",
       "      <th>enrichment_fraction_r1_d5</th>\n",
       "      <th>enrichment_fraction_r2_d2</th>\n",
       "      <th>enrichment_fraction_r2_d5</th>\n",
       "      <th>...</th>\n",
       "      <th>d2_med_d5</th>\n",
       "      <th>d2_sd_d5</th>\n",
       "      <th>d2_description</th>\n",
       "      <th>d2_baseline_type</th>\n",
       "      <th>composition</th>\n",
       "      <th>character</th>\n",
       "      <th>act_pair_hit</th>\n",
       "      <th>rep_pair_hit</th>\n",
       "      <th>baseline_sum_d2</th>\n",
       "      <th>baseline_sum_d5</th>\n",
       "    </tr>\n",
       "  </thead>\n",
       "  <tbody>\n",
       "    <tr>\n",
       "      <th>5059</th>\n",
       "      <td>Silencer_tiles;ENSG00000179833;22 --- Random_c...</td>\n",
       "      <td>1 control Pair</td>\n",
       "      <td>3.746226</td>\n",
       "      <td>0.738330</td>\n",
       "      <td>3.545054</td>\n",
       "      <td>0.308524</td>\n",
       "      <td>0.930648</td>\n",
       "      <td>0.625222</td>\n",
       "      <td>0.921090</td>\n",
       "      <td>0.553260</td>\n",
       "      <td>...</td>\n",
       "      <td>0.834829</td>\n",
       "      <td>1.815016</td>\n",
       "      <td>Control</td>\n",
       "      <td>Control</td>\n",
       "      <td>A-C</td>\n",
       "      <td>Activator</td>\n",
       "      <td>True</td>\n",
       "      <td>False</td>\n",
       "      <td>1.600885</td>\n",
       "      <td>1.186484</td>\n",
       "    </tr>\n",
       "    <tr>\n",
       "      <th>5060</th>\n",
       "      <td>DMD_control_tiles;ENSG00000198947;;171; --- Sh...</td>\n",
       "      <td>1 control Pair</td>\n",
       "      <td>2.686799</td>\n",
       "      <td>1.329900</td>\n",
       "      <td>2.385927</td>\n",
       "      <td>0.903866</td>\n",
       "      <td>0.865570</td>\n",
       "      <td>0.715412</td>\n",
       "      <td>0.839404</td>\n",
       "      <td>0.651698</td>\n",
       "      <td>...</td>\n",
       "      <td>0.745666</td>\n",
       "      <td>0.626952</td>\n",
       "      <td>Activator</td>\n",
       "      <td>Activator</td>\n",
       "      <td>C-A</td>\n",
       "      <td>Activator</td>\n",
       "      <td>True</td>\n",
       "      <td>False</td>\n",
       "      <td>1.327140</td>\n",
       "      <td>1.578151</td>\n",
       "    </tr>\n",
       "    <tr>\n",
       "      <th>5061</th>\n",
       "      <td>Short_nuclear_domain;NCOA2_HUMAN;Nuc_rec_co-ac...</td>\n",
       "      <td>1 control Pair</td>\n",
       "      <td>3.755808</td>\n",
       "      <td>0.278484</td>\n",
       "      <td>3.969173</td>\n",
       "      <td>0.252153</td>\n",
       "      <td>0.931075</td>\n",
       "      <td>0.548108</td>\n",
       "      <td>0.939982</td>\n",
       "      <td>0.543584</td>\n",
       "      <td>...</td>\n",
       "      <td>-0.060837</td>\n",
       "      <td>1.791538</td>\n",
       "      <td>Control</td>\n",
       "      <td>Control</td>\n",
       "      <td>A-C</td>\n",
       "      <td>Activator</td>\n",
       "      <td>True</td>\n",
       "      <td>False</td>\n",
       "      <td>0.958324</td>\n",
       "      <td>0.347389</td>\n",
       "    </tr>\n",
       "    <tr>\n",
       "      <th>5062</th>\n",
       "      <td>Short_nuclear_domain;PYGO1_HUMAN;PHD;330;56 --...</td>\n",
       "      <td>1 control Pair</td>\n",
       "      <td>0.684541</td>\n",
       "      <td>0.567439</td>\n",
       "      <td>1.012714</td>\n",
       "      <td>0.912873</td>\n",
       "      <td>0.616445</td>\n",
       "      <td>0.597081</td>\n",
       "      <td>0.668622</td>\n",
       "      <td>0.653114</td>\n",
       "      <td>...</td>\n",
       "      <td>0.576543</td>\n",
       "      <td>1.684559</td>\n",
       "      <td>Control</td>\n",
       "      <td>Control</td>\n",
       "      <td>A-C</td>\n",
       "      <td>Activator</td>\n",
       "      <td>True</td>\n",
       "      <td>False</td>\n",
       "      <td>-1.865229</td>\n",
       "      <td>2.165385</td>\n",
       "    </tr>\n",
       "    <tr>\n",
       "      <th>5063</th>\n",
       "      <td>Random_control;;;205; --- Short_nuclear_domain...</td>\n",
       "      <td>1 control Pair</td>\n",
       "      <td>3.500972</td>\n",
       "      <td>0.572337</td>\n",
       "      <td>3.803942</td>\n",
       "      <td>-0.398164</td>\n",
       "      <td>0.918840</td>\n",
       "      <td>0.597898</td>\n",
       "      <td>0.933186</td>\n",
       "      <td>0.431438</td>\n",
       "      <td>...</td>\n",
       "      <td>0.408226</td>\n",
       "      <td>0.435211</td>\n",
       "      <td>Activator</td>\n",
       "      <td>Activator</td>\n",
       "      <td>C-A</td>\n",
       "      <td>Activator</td>\n",
       "      <td>True</td>\n",
       "      <td>True</td>\n",
       "      <td>0.958324</td>\n",
       "      <td>0.347389</td>\n",
       "    </tr>\n",
       "  </tbody>\n",
       "</table>\n",
       "<p>5 rows × 58 columns</p>\n",
       "</div>"
      ],
      "text/plain": [
       "                                                   pair            type  \\\n",
       "5059  Silencer_tiles;ENSG00000179833;22 --- Random_c...  1 control Pair   \n",
       "5060  DMD_control_tiles;ENSG00000198947;;171; --- Sh...  1 control Pair   \n",
       "5061  Short_nuclear_domain;NCOA2_HUMAN;Nuc_rec_co-ac...  1 control Pair   \n",
       "5062  Short_nuclear_domain;PYGO1_HUMAN;PHD;330;56 --...  1 control Pair   \n",
       "5063  Random_control;;;205; --- Short_nuclear_domain...  1 control Pair   \n",
       "\n",
       "      enrichment_ratio_r1_d2  enrichment_ratio_r1_d5  enrichment_ratio_r2_d2  \\\n",
       "5059                3.746226                0.738330                3.545054   \n",
       "5060                2.686799                1.329900                2.385927   \n",
       "5061                3.755808                0.278484                3.969173   \n",
       "5062                0.684541                0.567439                1.012714   \n",
       "5063                3.500972                0.572337                3.803942   \n",
       "\n",
       "      enrichment_ratio_r2_d5  enrichment_fraction_r1_d2  \\\n",
       "5059                0.308524                   0.930648   \n",
       "5060                0.903866                   0.865570   \n",
       "5061                0.252153                   0.931075   \n",
       "5062                0.912873                   0.616445   \n",
       "5063               -0.398164                   0.918840   \n",
       "\n",
       "      enrichment_fraction_r1_d5  enrichment_fraction_r2_d2  \\\n",
       "5059                   0.625222                   0.921090   \n",
       "5060                   0.715412                   0.839404   \n",
       "5061                   0.548108                   0.939982   \n",
       "5062                   0.597081                   0.668622   \n",
       "5063                   0.597898                   0.933186   \n",
       "\n",
       "      enrichment_fraction_r2_d5  ...  d2_med_d5  d2_sd_d5  d2_description  \\\n",
       "5059                   0.553260  ...   0.834829  1.815016         Control   \n",
       "5060                   0.651698  ...   0.745666  0.626952       Activator   \n",
       "5061                   0.543584  ...  -0.060837  1.791538         Control   \n",
       "5062                   0.653114  ...   0.576543  1.684559         Control   \n",
       "5063                   0.431438  ...   0.408226  0.435211       Activator   \n",
       "\n",
       "      d2_baseline_type  composition  character  act_pair_hit  rep_pair_hit  \\\n",
       "5059           Control          A-C  Activator          True         False   \n",
       "5060         Activator          C-A  Activator          True         False   \n",
       "5061           Control          A-C  Activator          True         False   \n",
       "5062           Control          A-C  Activator          True         False   \n",
       "5063         Activator          C-A  Activator          True          True   \n",
       "\n",
       "      baseline_sum_d2  baseline_sum_d5  \n",
       "5059         1.600885         1.186484  \n",
       "5060         1.327140         1.578151  \n",
       "5061         0.958324         0.347389  \n",
       "5062        -1.865229         2.165385  \n",
       "5063         0.958324         0.347389  \n",
       "\n",
       "[5 rows x 58 columns]"
      ]
     },
     "execution_count": 4,
     "metadata": {},
     "output_type": "execute_result"
    }
   ],
   "source": [
    "df = df[df['type']=='1 control Pair']\n",
    "df = df.dropna(subset=['avg_enrichment_d2', 'avg_enrichment_d5'])\n",
    "df.head()"
   ]
  },
  {
   "cell_type": "code",
   "execution_count": 5,
   "metadata": {
    "ExecuteTime": {
     "end_time": "2022-07-11T21:36:14.731442Z",
     "start_time": "2022-07-11T21:36:14.725272Z"
    }
   },
   "outputs": [
    {
     "data": {
      "text/plain": [
       "5059    0.523427\n",
       "5060    1.116883\n",
       "5061    0.265318\n",
       "5062    0.740156\n",
       "5063    0.087086\n",
       "          ...   \n",
       "7819   -3.796554\n",
       "7830   -2.313623\n",
       "7832    1.497986\n",
       "7837    2.377984\n",
       "7839    1.859543\n",
       "Name: avg_enrichment_d5, Length: 2443, dtype: float64"
      ]
     },
     "execution_count": 5,
     "metadata": {},
     "output_type": "execute_result"
    }
   ],
   "source": [
    "df['avg_enrichment_d5']"
   ]
  },
  {
   "cell_type": "code",
   "execution_count": 6,
   "metadata": {
    "ExecuteTime": {
     "end_time": "2022-07-11T21:36:14.943188Z",
     "start_time": "2022-07-11T21:36:14.733670Z"
    }
   },
   "outputs": [
    {
     "data": {
      "text/html": [
       "\n",
       "<div id=\"altair-viz-30f6afe7bc8e4b1b924e811fff76830d\"></div>\n",
       "<script type=\"text/javascript\">\n",
       "  var VEGA_DEBUG = (typeof VEGA_DEBUG == \"undefined\") ? {} : VEGA_DEBUG;\n",
       "  (function(spec, embedOpt){\n",
       "    let outputDiv = document.currentScript.previousElementSibling;\n",
       "    if (outputDiv.id !== \"altair-viz-30f6afe7bc8e4b1b924e811fff76830d\") {\n",
       "      outputDiv = document.getElementById(\"altair-viz-30f6afe7bc8e4b1b924e811fff76830d\");\n",
       "    }\n",
       "    const paths = {\n",
       "      \"vega\": \"https://cdn.jsdelivr.net/npm//vega@5?noext\",\n",
       "      \"vega-lib\": \"https://cdn.jsdelivr.net/npm//vega-lib?noext\",\n",
       "      \"vega-lite\": \"https://cdn.jsdelivr.net/npm//vega-lite@4.17.0?noext\",\n",
       "      \"vega-embed\": \"https://cdn.jsdelivr.net/npm//vega-embed@6?noext\",\n",
       "    };\n",
       "\n",
       "    function maybeLoadScript(lib, version) {\n",
       "      var key = `${lib.replace(\"-\", \"\")}_version`;\n",
       "      return (VEGA_DEBUG[key] == version) ?\n",
       "        Promise.resolve(paths[lib]) :\n",
       "        new Promise(function(resolve, reject) {\n",
       "          var s = document.createElement('script');\n",
       "          document.getElementsByTagName(\"head\")[0].appendChild(s);\n",
       "          s.async = true;\n",
       "          s.onload = () => {\n",
       "            VEGA_DEBUG[key] = version;\n",
       "            return resolve(paths[lib]);\n",
       "          };\n",
       "          s.onerror = () => reject(`Error loading script: ${paths[lib]}`);\n",
       "          s.src = paths[lib];\n",
       "        });\n",
       "    }\n",
       "\n",
       "    function showError(err) {\n",
       "      outputDiv.innerHTML = `<div class=\"error\" style=\"color:red;\">${err}</div>`;\n",
       "      throw err;\n",
       "    }\n",
       "\n",
       "    function displayChart(vegaEmbed) {\n",
       "      vegaEmbed(outputDiv, spec, embedOpt)\n",
       "        .catch(err => showError(`Javascript Error: ${err.message}<br>This usually means there's a typo in your chart specification. See the javascript console for the full traceback.`));\n",
       "    }\n",
       "\n",
       "    if(typeof define === \"function\" && define.amd) {\n",
       "      requirejs.config({paths});\n",
       "      require([\"vega-embed\"], displayChart, err => showError(`Error loading script: ${err.message}`));\n",
       "    } else {\n",
       "      maybeLoadScript(\"vega\", \"5\")\n",
       "        .then(() => maybeLoadScript(\"vega-lite\", \"4.17.0\"))\n",
       "        .then(() => maybeLoadScript(\"vega-embed\", \"6\"))\n",
       "        .catch(showError)\n",
       "        .then(() => displayChart(vegaEmbed));\n",
       "    }\n",
       "  })({\"usermeta\": {\"embedOptions\": {\"theme\": \"vox\"}}, \"config\": {\"view\": {\"continuousWidth\": 400, \"continuousHeight\": 300}}, \"data\": {\"url\": \"tmp/-7752f754d2dfd451f41b1c32b3937c85.json\", \"format\": {\"type\": \"json\"}}, \"mark\": \"point\", \"encoding\": {\"color\": {\"field\": \"character\", \"type\": \"nominal\"}, \"tooltip\": [{\"field\": \"d1_Gene\", \"type\": \"nominal\"}, {\"field\": \"d2_Gene\", \"type\": \"nominal\"}], \"x\": {\"field\": \"avg_enrichment_d2\", \"type\": \"quantitative\"}, \"y\": {\"field\": \"avg_enrichment_d5\", \"type\": \"quantitative\"}}, \"$schema\": \"https://vega.github.io/schema/vega-lite/v4.17.0.json\"}, {\"mode\": \"vega-lite\"});\n",
       "</script>"
      ],
      "text/plain": [
       "alt.Chart(...)"
      ]
     },
     "execution_count": 6,
     "metadata": {},
     "output_type": "execute_result"
    }
   ],
   "source": [
    "alt.Chart(df).mark_point().encode(\n",
    "    x=\"avg_enrichment_d2\",\n",
    "    y=\"avg_enrichment_d5\",\n",
    "    color=\"character\",\n",
    "    tooltip = ['d1_Gene', 'd2_Gene']\n",
    ")"
   ]
  },
  {
   "cell_type": "code",
   "execution_count": null,
   "metadata": {
    "ExecuteTime": {
     "end_time": "2022-07-05T17:22:23.411362Z",
     "start_time": "2022-07-05T17:22:23.406092Z"
    }
   },
   "outputs": [],
   "source": []
  },
  {
   "cell_type": "code",
   "execution_count": 7,
   "metadata": {
    "ExecuteTime": {
     "end_time": "2022-07-11T21:36:14.950440Z",
     "start_time": "2022-07-11T21:36:14.945440Z"
    }
   },
   "outputs": [],
   "source": [
    "def get_chart(gene):\n",
    "    dq = df[(df[\"d1_Gene\"] == gene) | (df[\"d2_Gene\"] == gene)]\n",
    "    return (\n",
    "        alt.Chart(dq)\n",
    "        .mark_point()\n",
    "        .encode(\n",
    "            x=alt.X(\"avg_enrichment_d2\", scale=alt.Scale(domain=(-5, 5))),\n",
    "            y=alt.Y(\"avg_enrichment_d5\", scale=alt.Scale(domain=(-5, 5))),\n",
    "            color=alt.Color(\"character\", scale=alt.Scale(scheme='dark2')),\n",
    "            tooltip=[\"d1_Gene\", \"d2_Gene\"],\n",
    "        )\n",
    "    )"
   ]
  },
  {
   "cell_type": "code",
   "execution_count": 8,
   "metadata": {
    "ExecuteTime": {
     "end_time": "2022-07-11T21:36:15.079876Z",
     "start_time": "2022-07-11T21:36:14.952539Z"
    }
   },
   "outputs": [
    {
     "data": {
      "text/html": [
       "\n",
       "<div id=\"altair-viz-62f27832011547448b3d7677ebfb09c1\"></div>\n",
       "<script type=\"text/javascript\">\n",
       "  var VEGA_DEBUG = (typeof VEGA_DEBUG == \"undefined\") ? {} : VEGA_DEBUG;\n",
       "  (function(spec, embedOpt){\n",
       "    let outputDiv = document.currentScript.previousElementSibling;\n",
       "    if (outputDiv.id !== \"altair-viz-62f27832011547448b3d7677ebfb09c1\") {\n",
       "      outputDiv = document.getElementById(\"altair-viz-62f27832011547448b3d7677ebfb09c1\");\n",
       "    }\n",
       "    const paths = {\n",
       "      \"vega\": \"https://cdn.jsdelivr.net/npm//vega@5?noext\",\n",
       "      \"vega-lib\": \"https://cdn.jsdelivr.net/npm//vega-lib?noext\",\n",
       "      \"vega-lite\": \"https://cdn.jsdelivr.net/npm//vega-lite@4.17.0?noext\",\n",
       "      \"vega-embed\": \"https://cdn.jsdelivr.net/npm//vega-embed@6?noext\",\n",
       "    };\n",
       "\n",
       "    function maybeLoadScript(lib, version) {\n",
       "      var key = `${lib.replace(\"-\", \"\")}_version`;\n",
       "      return (VEGA_DEBUG[key] == version) ?\n",
       "        Promise.resolve(paths[lib]) :\n",
       "        new Promise(function(resolve, reject) {\n",
       "          var s = document.createElement('script');\n",
       "          document.getElementsByTagName(\"head\")[0].appendChild(s);\n",
       "          s.async = true;\n",
       "          s.onload = () => {\n",
       "            VEGA_DEBUG[key] = version;\n",
       "            return resolve(paths[lib]);\n",
       "          };\n",
       "          s.onerror = () => reject(`Error loading script: ${paths[lib]}`);\n",
       "          s.src = paths[lib];\n",
       "        });\n",
       "    }\n",
       "\n",
       "    function showError(err) {\n",
       "      outputDiv.innerHTML = `<div class=\"error\" style=\"color:red;\">${err}</div>`;\n",
       "      throw err;\n",
       "    }\n",
       "\n",
       "    function displayChart(vegaEmbed) {\n",
       "      vegaEmbed(outputDiv, spec, embedOpt)\n",
       "        .catch(err => showError(`Javascript Error: ${err.message}<br>This usually means there's a typo in your chart specification. See the javascript console for the full traceback.`));\n",
       "    }\n",
       "\n",
       "    if(typeof define === \"function\" && define.amd) {\n",
       "      requirejs.config({paths});\n",
       "      require([\"vega-embed\"], displayChart, err => showError(`Error loading script: ${err.message}`));\n",
       "    } else {\n",
       "      maybeLoadScript(\"vega\", \"5\")\n",
       "        .then(() => maybeLoadScript(\"vega-lite\", \"4.17.0\"))\n",
       "        .then(() => maybeLoadScript(\"vega-embed\", \"6\"))\n",
       "        .catch(showError)\n",
       "        .then(() => displayChart(vegaEmbed));\n",
       "    }\n",
       "  })({\"usermeta\": {\"embedOptions\": {\"theme\": \"vox\"}}, \"config\": {\"view\": {\"continuousWidth\": 400, \"continuousHeight\": 300}}, \"data\": {\"url\": \"tmp/-e15d960295a92a7528b7bb9a1448535a.json\", \"format\": {\"type\": \"json\"}}, \"mark\": \"point\", \"encoding\": {\"color\": {\"field\": \"character\", \"scale\": {\"scheme\": \"dark2\"}, \"type\": \"nominal\"}, \"tooltip\": [{\"field\": \"d1_Gene\", \"type\": \"nominal\"}, {\"field\": \"d2_Gene\", \"type\": \"nominal\"}], \"x\": {\"field\": \"avg_enrichment_d2\", \"scale\": {\"domain\": [-5, 5]}, \"type\": \"quantitative\"}, \"y\": {\"field\": \"avg_enrichment_d5\", \"scale\": {\"domain\": [-5, 5]}, \"type\": \"quantitative\"}}, \"$schema\": \"https://vega.github.io/schema/vega-lite/v4.17.0.json\"}, {\"mode\": \"vega-lite\"});\n",
       "</script>"
      ],
      "text/plain": [
       "alt.Chart(...)"
      ]
     },
     "execution_count": 8,
     "metadata": {},
     "output_type": "execute_result"
    }
   ],
   "source": [
    "get_chart(\"SMCA2\")"
   ]
  },
  {
   "cell_type": "code",
   "execution_count": 9,
   "metadata": {
    "ExecuteTime": {
     "end_time": "2022-07-11T21:36:15.088455Z",
     "start_time": "2022-07-11T21:36:15.082748Z"
    }
   },
   "outputs": [
    {
     "ename": "SyntaxError",
     "evalue": "invalid syntax (949312341.py, line 9)",
     "output_type": "error",
     "traceback": [
      "\u001b[0;36m  File \u001b[0;32m\"/var/folders/dc/w29p98q54dv6v4wg20gnvzg40000gn/T/ipykernel_64461/949312341.py\"\u001b[0;36m, line \u001b[0;32m9\u001b[0m\n\u001b[0;31m    myfac = scipy.special.factorial(m * np.exp(gamma *))\u001b[0m\n\u001b[0m                                                      ^\u001b[0m\n\u001b[0;31mSyntaxError\u001b[0m\u001b[0;31m:\u001b[0m invalid syntax\n"
     ]
    }
   ],
   "source": [
    "bprime = 0.85\n",
    "lmbda = 20\n",
    "gamma = 0.75\n",
    "\n",
    "\n",
    "def p(m):\n",
    "    beta = bprime/(1-bprime)\n",
    "    mfac = scipy.special.factorial(m)\n",
    "    myfac = scipy.special.factorial(m * np.exp(gamma *))\n",
    "    pon = bprime * (np.power(lmbda, m) * np.exp(-lmbda))/mfac\n",
    "    poff = (1-bprime) * (np.exp(-lmbda) * )\n",
    "    return pon + poff"
   ]
  },
  {
   "cell_type": "code",
   "execution_count": null,
   "metadata": {
    "ExecuteTime": {
     "end_time": "2022-07-11T21:36:15.094904Z",
     "start_time": "2022-07-11T21:36:15.094884Z"
    }
   },
   "outputs": [],
   "source": [
    "x = np.arange(0, 50)\n",
    "y = p(x)\n",
    "\n",
    "fig, ax = plt.subplots()\n",
    "ax.plot(x, y)"
   ]
  },
  {
   "cell_type": "code",
   "execution_count": null,
   "metadata": {
    "ExecuteTime": {
     "end_time": "2022-07-11T21:36:15.096686Z",
     "start_time": "2022-07-11T21:36:15.096639Z"
    }
   },
   "outputs": [],
   "source": [
    "p"
   ]
  },
  {
   "cell_type": "markdown",
   "metadata": {},
   "source": [
    "Transition from OFF to ON with rate $c_f$, and from ON to OFF with rate $c_b$\n",
    "Produce mRNA at rate $k_b$, and degrade at rate $k_d$"
   ]
  },
  {
   "cell_type": "markdown",
   "metadata": {},
   "source": [
    "$$\\begin{align*}\n",
    "G &= G_0 + G_1 \\\\\n",
    "G_\\alpha(z,t) &= \\sum\\limits_{m=0}^{\\infty}{z^mP_\\alpha(m,t)} \\\\\n",
    "\\end{align*}$$"
   ]
  },
  {
   "cell_type": "markdown",
   "metadata": {},
   "source": [
    "To compute $P(m,t)$ we want the coefficient for the $z^m$ term in $G(z,t)$\n",
    "\n",
    "We then define:\n",
    "$$\\begin{align*}\n",
    "\\Phi(a, b, x) &= ~_1F_1(a; b; x) = \\mathtt{scipy.special.hyp1f1(a, b, x)} \\\\\n",
    "F_s(t) &= \\Phi(-c_f, 1-c_f-c_b, k_b e^{-t}(1-z)) \\\\\n",
    "F_{ns}(t) &= -\\frac{c_fk_b(1-z)}{(c_f + c_b)(1-c_f-c_b)} e^{-(c_f + c_b)t} \\times \n",
    "\\Phi(c_b, 1+c_f+c_b, k_b e^{-t}(1-z))\n",
    "\\end{align*}$$"
   ]
  },
  {
   "cell_type": "markdown",
   "metadata": {},
   "source": [
    "By black magic math, we have\n",
    "\n",
    "$$\\begin{align*}\n",
    "G(z,t) &= F_s(t) \\cdot \\Phi(c_f, c_f + c_b; -k_b(1-z)) + F_{ns}(t) \\Phi(1-c_b, 2-c_f-c_b, -k_b(1-z))\\\\\n",
    "\\end{align*}$$\n",
    "\n",
    "For details, see [BHJ09](https://journals.aps.org/pre/pdf/10.1103/PhysRevE.79.031911)"
   ]
  },
  {
   "cell_type": "markdown",
   "metadata": {},
   "source": [
    "Ok, let's try to write this garbage down in code. "
   ]
  },
  {
   "cell_type": "code",
   "execution_count": 11,
   "metadata": {
    "ExecuteTime": {
     "end_time": "2022-07-11T21:37:53.642884Z",
     "start_time": "2022-07-11T21:37:53.636928Z"
    }
   },
   "outputs": [],
   "source": [
    "cf = 85\n",
    "cb = 10\n",
    "kb = 2400\n",
    "kd = 2\n",
    "\n",
    "def Phi(a, b, x): \n",
    "    return scipy.special.hyp1f1(a, b, x)\n",
    "\n",
    "def Fs(t, z):\n",
    "    return Phi(-cf, 1-cf-cb, kb*np.exp(-t)*(1-z))\n",
    "\n",
    "def Fns(t, z):\n",
    "    t1 = - (cf*kb*(1-z))/((cf+cb)(1-cf-cb)) * np.exp(-(cf+cb)*t)\n",
    "    t2 = Phi(cb, 1+cf+cb, kb*np.exp(-t)*(1-z))\n",
    "    return t1 * t2"
   ]
  },
  {
   "cell_type": "code",
   "execution_count": 32,
   "metadata": {
    "ExecuteTime": {
     "end_time": "2022-07-11T21:55:32.302267Z",
     "start_time": "2022-07-11T21:55:32.296288Z"
    }
   },
   "outputs": [],
   "source": [
    "beta = 85\n",
    "lmbda = 1500\n",
    "gamma = 2\n",
    "tmax = 5\n",
    "\n",
    "\n",
    "def integrand(t, m, beta, lmbda, gamma):\n",
    "    return np.exp(-beta * t) * st.poisson(lmbda / gamma).pmf(m * np.exp(-gamma * t))\n",
    "\n",
    "\n",
    "def get_off_integral(m, t_current, beta, lmbda, gamma):\n",
    "    i = lambda t: integrand(t, m, beta, lmbda, gamma)\n",
    "    return scipy.integrate.quad(i, 0, t_current)"
   ]
  },
  {
   "cell_type": "code",
   "execution_count": 33,
   "metadata": {
    "ExecuteTime": {
     "end_time": "2022-07-11T21:55:33.085166Z",
     "start_time": "2022-07-11T21:55:33.069453Z"
    }
   },
   "outputs": [
    {
     "ename": "TypeError",
     "evalue": "get_off_integral() takes 5 positional arguments but 6 were given",
     "output_type": "error",
     "traceback": [
      "\u001b[0;31m---------------------------------------------------------------------------\u001b[0m",
      "\u001b[0;31mTypeError\u001b[0m                                 Traceback (most recent call last)",
      "\u001b[0;32m/var/folders/dc/w29p98q54dv6v4wg20gnvzg40000gn/T/ipykernel_64461/1318016406.py\u001b[0m in \u001b[0;36m<cell line: 2>\u001b[0;34m()\u001b[0m\n\u001b[1;32m      1\u001b[0m \u001b[0mx\u001b[0m \u001b[0;34m=\u001b[0m \u001b[0mnp\u001b[0m\u001b[0;34m.\u001b[0m\u001b[0marange\u001b[0m\u001b[0;34m(\u001b[0m\u001b[0;36m0\u001b[0m\u001b[0;34m,\u001b[0m \u001b[0;36m1500\u001b[0m\u001b[0;34m,\u001b[0m \u001b[0mstep\u001b[0m\u001b[0;34m=\u001b[0m\u001b[0;36m10\u001b[0m\u001b[0;34m)\u001b[0m\u001b[0;34m\u001b[0m\u001b[0;34m\u001b[0m\u001b[0m\n\u001b[0;32m----> 2\u001b[0;31m \u001b[0my\u001b[0m \u001b[0;34m=\u001b[0m \u001b[0;34m[\u001b[0m\u001b[0mget_off_integral\u001b[0m\u001b[0;34m(\u001b[0m\u001b[0mm\u001b[0m\u001b[0;34m,\u001b[0m \u001b[0;36m5\u001b[0m\u001b[0;34m,\u001b[0m \u001b[0mtmax\u001b[0m\u001b[0;34m,\u001b[0m \u001b[0mbeta\u001b[0m\u001b[0;34m,\u001b[0m \u001b[0mlmbda\u001b[0m\u001b[0;34m,\u001b[0m \u001b[0mgamma\u001b[0m\u001b[0;34m)\u001b[0m \u001b[0;32mfor\u001b[0m \u001b[0mm\u001b[0m \u001b[0;32min\u001b[0m \u001b[0mx\u001b[0m\u001b[0;34m]\u001b[0m\u001b[0;34m\u001b[0m\u001b[0;34m\u001b[0m\u001b[0m\n\u001b[0m\u001b[1;32m      3\u001b[0m \u001b[0;34m\u001b[0m\u001b[0m\n\u001b[1;32m      4\u001b[0m \u001b[0mfig\u001b[0m\u001b[0;34m,\u001b[0m \u001b[0max\u001b[0m \u001b[0;34m=\u001b[0m \u001b[0mplt\u001b[0m\u001b[0;34m.\u001b[0m\u001b[0msubplots\u001b[0m\u001b[0;34m(\u001b[0m\u001b[0;34m)\u001b[0m\u001b[0;34m\u001b[0m\u001b[0;34m\u001b[0m\u001b[0m\n\u001b[1;32m      5\u001b[0m \u001b[0;31m# ax.plot(x, y)\u001b[0m\u001b[0;34m\u001b[0m\u001b[0;34m\u001b[0m\u001b[0;34m\u001b[0m\u001b[0m\n",
      "\u001b[0;32m/var/folders/dc/w29p98q54dv6v4wg20gnvzg40000gn/T/ipykernel_64461/1318016406.py\u001b[0m in \u001b[0;36m<listcomp>\u001b[0;34m(.0)\u001b[0m\n\u001b[1;32m      1\u001b[0m \u001b[0mx\u001b[0m \u001b[0;34m=\u001b[0m \u001b[0mnp\u001b[0m\u001b[0;34m.\u001b[0m\u001b[0marange\u001b[0m\u001b[0;34m(\u001b[0m\u001b[0;36m0\u001b[0m\u001b[0;34m,\u001b[0m \u001b[0;36m1500\u001b[0m\u001b[0;34m,\u001b[0m \u001b[0mstep\u001b[0m\u001b[0;34m=\u001b[0m\u001b[0;36m10\u001b[0m\u001b[0;34m)\u001b[0m\u001b[0;34m\u001b[0m\u001b[0;34m\u001b[0m\u001b[0m\n\u001b[0;32m----> 2\u001b[0;31m \u001b[0my\u001b[0m \u001b[0;34m=\u001b[0m \u001b[0;34m[\u001b[0m\u001b[0mget_off_integral\u001b[0m\u001b[0;34m(\u001b[0m\u001b[0mm\u001b[0m\u001b[0;34m,\u001b[0m \u001b[0;36m5\u001b[0m\u001b[0;34m,\u001b[0m \u001b[0mtmax\u001b[0m\u001b[0;34m,\u001b[0m \u001b[0mbeta\u001b[0m\u001b[0;34m,\u001b[0m \u001b[0mlmbda\u001b[0m\u001b[0;34m,\u001b[0m \u001b[0mgamma\u001b[0m\u001b[0;34m)\u001b[0m \u001b[0;32mfor\u001b[0m \u001b[0mm\u001b[0m \u001b[0;32min\u001b[0m \u001b[0mx\u001b[0m\u001b[0;34m]\u001b[0m\u001b[0;34m\u001b[0m\u001b[0;34m\u001b[0m\u001b[0m\n\u001b[0m\u001b[1;32m      3\u001b[0m \u001b[0;34m\u001b[0m\u001b[0m\n\u001b[1;32m      4\u001b[0m \u001b[0mfig\u001b[0m\u001b[0;34m,\u001b[0m \u001b[0max\u001b[0m \u001b[0;34m=\u001b[0m \u001b[0mplt\u001b[0m\u001b[0;34m.\u001b[0m\u001b[0msubplots\u001b[0m\u001b[0;34m(\u001b[0m\u001b[0;34m)\u001b[0m\u001b[0;34m\u001b[0m\u001b[0;34m\u001b[0m\u001b[0m\n\u001b[1;32m      5\u001b[0m \u001b[0;31m# ax.plot(x, y)\u001b[0m\u001b[0;34m\u001b[0m\u001b[0;34m\u001b[0m\u001b[0;34m\u001b[0m\u001b[0m\n",
      "\u001b[0;31mTypeError\u001b[0m: get_off_integral() takes 5 positional arguments but 6 were given"
     ]
    }
   ],
   "source": [
    "x = np.arange(0, 1500, step=10)\n",
    "y = [get_off_integral(m, 1.25, beta, lmbda, gamma)[] for m in x]\n",
    "\n",
    "fig, ax = plt.subplots()\n",
    "# ax.plot(x, y)"
   ]
  },
  {
   "cell_type": "code",
   "execution_count": null,
   "metadata": {},
   "outputs": [],
   "source": []
  },
  {
   "cell_type": "code",
   "execution_count": null,
   "metadata": {},
   "outputs": [],
   "source": []
  },
  {
   "cell_type": "code",
   "execution_count": null,
   "metadata": {},
   "outputs": [],
   "source": []
  },
  {
   "cell_type": "code",
   "execution_count": null,
   "metadata": {},
   "outputs": [],
   "source": []
  },
  {
   "cell_type": "code",
   "execution_count": null,
   "metadata": {},
   "outputs": [],
   "source": []
  },
  {
   "cell_type": "code",
   "execution_count": null,
   "metadata": {},
   "outputs": [],
   "source": []
  },
  {
   "cell_type": "code",
   "execution_count": null,
   "metadata": {},
   "outputs": [],
   "source": []
  },
  {
   "cell_type": "code",
   "execution_count": null,
   "metadata": {},
   "outputs": [],
   "source": []
  },
  {
   "cell_type": "code",
   "execution_count": null,
   "metadata": {},
   "outputs": [],
   "source": []
  },
  {
   "cell_type": "code",
   "execution_count": null,
   "metadata": {},
   "outputs": [],
   "source": []
  }
 ],
 "metadata": {
  "kernelspec": {
   "display_name": "Python 3 (ipykernel)",
   "language": "python",
   "name": "python3"
  },
  "language_info": {
   "codemirror_mode": {
    "name": "ipython",
    "version": 3
   },
   "file_extension": ".py",
   "mimetype": "text/x-python",
   "name": "python",
   "nbconvert_exporter": "python",
   "pygments_lexer": "ipython3",
   "version": "3.8.5"
  },
  "varInspector": {
   "cols": {
    "lenName": 16,
    "lenType": 16,
    "lenVar": 40
   },
   "kernels_config": {
    "python": {
     "delete_cmd_postfix": "",
     "delete_cmd_prefix": "del ",
     "library": "var_list.py",
     "varRefreshCmd": "print(var_dic_list())"
    },
    "r": {
     "delete_cmd_postfix": ") ",
     "delete_cmd_prefix": "rm(",
     "library": "var_list.r",
     "varRefreshCmd": "cat(var_dic_list()) "
    }
   },
   "types_to_exclude": [
    "module",
    "function",
    "builtin_function_or_method",
    "instance",
    "_Feature"
   ],
   "window_display": false
  }
 },
 "nbformat": 4,
 "nbformat_minor": 4
}
