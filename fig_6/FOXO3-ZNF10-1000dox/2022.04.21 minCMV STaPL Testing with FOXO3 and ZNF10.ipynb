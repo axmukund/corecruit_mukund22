{
 "cells": [
  {
   "cell_type": "markdown",
   "metadata": {
    "heading_collapsed": true
   },
   "source": [
    "# Imports"
   ]
  },
  {
   "cell_type": "code",
   "execution_count": 2,
   "metadata": {
    "ExecuteTime": {
     "end_time": "2022-10-19T08:15:21.143734Z",
     "start_time": "2022-10-19T08:15:21.137798Z"
    },
    "hidden": true
   },
   "outputs": [],
   "source": [
    "from cytoflow import *\n",
    "import os\n",
    "\n",
    "import itertools\n",
    "import numpy as np\n",
    "import pandas as pd\n",
    "import seaborn as sns\n",
    "import matplotlib.pyplot as plt\n",
    "import matplotlib as mpl\n",
    "import scipy.stats as st\n",
    "import math\n",
    "from tqdm.notebook import tqdm\n",
    "\n",
    "from matplotlib.lines import Line2D\n",
    "\n",
    "mpl.rcParams[\"font.sans-serif\"] = \"Helvetica\"\n",
    "mpl.rcParams[\"font.family\"] = \"sans-serif\"\n",
    "plt.rcParams[\"figure.figsize\"] = (10, 6)\n",
    "mpl.rcParams[\"pdf.fonttype\"] = 42\n",
    "sns.set_style(\n",
    "    \"ticks\",\n",
    "    {\n",
    "        \"xtick.major.size\": 4,\n",
    "        \"ytick.major.size\": 4,\n",
    "        \"font_color\": \"k\",\n",
    "        \"axes.edgecolor\": \"k\",\n",
    "        \"xtick.color\": \"k\",\n",
    "        \"ytick.color\": \"k\",\n",
    "    },\n",
    ")\n",
    "sns.set_context(\"talk\", font_scale=1.0)"
   ]
  },
  {
   "cell_type": "markdown",
   "metadata": {
    "heading_collapsed": true
   },
   "source": [
    "# Setting up the plate"
   ]
  },
  {
   "cell_type": "code",
   "execution_count": 6,
   "metadata": {
    "ExecuteTime": {
     "end_time": "2022-10-19T08:16:01.597476Z",
     "start_time": "2022-10-19T08:16:01.593911Z"
    },
    "hidden": true
   },
   "outputs": [],
   "source": [
    "plasmid_dict = {\n",
    "    126: \"rTetR-only\",\n",
    "    217: \"ZNF10-only\",\n",
    "    222: \"FOXO3-only\",\n",
    "    56: \"STaPL-only\",\n",
    "    140:\"FOXO3-ZNF10\",\n",
    "    73: \"FOXO3-STaPL-ZNF10\",\n",
    "}\n",
    "\n",
    "plasmid_list = [126, 217, 222, 56, 140, 73]"
   ]
  },
  {
   "cell_type": "code",
   "execution_count": 7,
   "metadata": {
    "ExecuteTime": {
     "end_time": "2022-10-19T08:16:02.902388Z",
     "start_time": "2022-10-19T08:16:02.897761Z"
    },
    "hidden": true
   },
   "outputs": [],
   "source": [
    "columns = [1, 2, 3, 4, 5, 6, 7, 8, 9, 10, 11, 12]\n",
    "rows = [\"A\", \"B\", \"C\", \"D\", \"E\", \"F\", \"G\", \"H\"]\n",
    "\n",
    "\n",
    "def get_fcs(plasmid, dox, asv, replicate):\n",
    "    dirname = \"./fcs/axm-20220421_stapl_mincmv-20220421-1833/\"\n",
    "    column = columns[plasmid_list.index(plasmid) + 6 * (dox != 0)]\n",
    "    row = rows[2 * (asv == 1) + 1 * (replicate == 2)]\n",
    "    return dirname + row + str(column) + \".fcs\""
   ]
  },
  {
   "cell_type": "markdown",
   "metadata": {
    "ExecuteTime": {
     "end_time": "2022-04-22T04:58:00.298793Z",
     "start_time": "2022-04-22T04:58:00.294553Z"
    },
    "heading_collapsed": true
   },
   "source": [
    "# Importing Tubes"
   ]
  },
  {
   "cell_type": "code",
   "execution_count": 23,
   "metadata": {
    "ExecuteTime": {
     "end_time": "2022-04-22T05:03:16.782852Z",
     "start_time": "2022-04-22T05:03:16.774419Z"
    },
    "hidden": true
   },
   "outputs": [
    {
     "name": "stdout",
     "output_type": "stream",
     "text": [
      "Loaded 48 tubes\n"
     ]
    }
   ],
   "source": [
    "tubeslist = []\n",
    "\n",
    "for dox in [0, 1000]:\n",
    "    for asv in [0, 1]:\n",
    "        for replicate in [1, 2]:\n",
    "            for plasmid in plasmid_list:\n",
    "                tubeslist.extend(\n",
    "                    [\n",
    "                        Tube(\n",
    "                            conditions={\n",
    "                                \"plasmid\": plasmid,\n",
    "                                \"description\": plasmid_dict[plasmid],\n",
    "                                \"dox\": dox,\n",
    "                                \"asv\": asv,\n",
    "                                \"replicate\": replicate,\n",
    "                            },\n",
    "                            file=get_fcs(plasmid, dox, asv, replicate),\n",
    "                            conditions_list=[\n",
    "                                \"plasmid\",\n",
    "                                \"description\",\n",
    "                                \"dox\",\n",
    "                                \"asv\",\n",
    "                                \"replicate\",\n",
    "                            ],\n",
    "                        )\n",
    "                    ]\n",
    "                )\n",
    "                \n",
    "print(\"Loaded\", len(tubeslist), \"tubes\")"
   ]
  },
  {
   "cell_type": "code",
   "execution_count": 25,
   "metadata": {
    "ExecuteTime": {
     "end_time": "2022-04-22T05:05:05.108554Z",
     "start_time": "2022-04-22T05:05:01.799726Z"
    },
    "hidden": true
   },
   "outputs": [
    {
     "data": {
      "application/vnd.jupyter.widget-view+json": {
       "model_id": "9d52516990f443c8bc5183eab7e964a5",
       "version_major": 2,
       "version_minor": 0
      },
      "text/plain": [
       "  0%|          | 0/48 [00:00<?, ?it/s]"
      ]
     },
     "metadata": {},
     "output_type": "display_data"
    },
    {
     "data": {
      "application/vnd.jupyter.widget-view+json": {
       "model_id": "aa00995e2e2e41c98587162b42a9732d",
       "version_major": 2,
       "version_minor": 0
      },
      "text/plain": [
       "  0%|          | 0/48 [00:00<?, ?it/s]"
      ]
     },
     "metadata": {},
     "output_type": "display_data"
    },
    {
     "data": {
      "text/html": [
       "<div>\n",
       "<style scoped>\n",
       "    .dataframe tbody tr th:only-of-type {\n",
       "        vertical-align: middle;\n",
       "    }\n",
       "\n",
       "    .dataframe tbody tr th {\n",
       "        vertical-align: top;\n",
       "    }\n",
       "\n",
       "    .dataframe thead th {\n",
       "        text-align: right;\n",
       "    }\n",
       "</style>\n",
       "<table border=\"1\" class=\"dataframe\">\n",
       "  <thead>\n",
       "    <tr style=\"text-align: right;\">\n",
       "      <th></th>\n",
       "      <th>FSC 488/10-A</th>\n",
       "      <th>SSC 488/10-A</th>\n",
       "      <th>asv</th>\n",
       "      <th>description</th>\n",
       "      <th>dox</th>\n",
       "      <th>mCherry-A</th>\n",
       "      <th>mCitrine-A</th>\n",
       "      <th>plasmid</th>\n",
       "      <th>replicate</th>\n",
       "    </tr>\n",
       "  </thead>\n",
       "  <tbody>\n",
       "    <tr>\n",
       "      <th>0</th>\n",
       "      <td>669108224.0</td>\n",
       "      <td>198535936.0</td>\n",
       "      <td>0.0</td>\n",
       "      <td>rTetR-only</td>\n",
       "      <td>0.0</td>\n",
       "      <td>191138048.0</td>\n",
       "      <td>2103808.0</td>\n",
       "      <td>126</td>\n",
       "      <td>1.0</td>\n",
       "    </tr>\n",
       "    <tr>\n",
       "      <th>1</th>\n",
       "      <td>595002112.0</td>\n",
       "      <td>279674368.0</td>\n",
       "      <td>0.0</td>\n",
       "      <td>rTetR-only</td>\n",
       "      <td>0.0</td>\n",
       "      <td>200646400.0</td>\n",
       "      <td>2106112.0</td>\n",
       "      <td>126</td>\n",
       "      <td>1.0</td>\n",
       "    </tr>\n",
       "    <tr>\n",
       "      <th>2</th>\n",
       "      <td>422279424.0</td>\n",
       "      <td>126640896.0</td>\n",
       "      <td>0.0</td>\n",
       "      <td>rTetR-only</td>\n",
       "      <td>0.0</td>\n",
       "      <td>152885504.0</td>\n",
       "      <td>1572608.0</td>\n",
       "      <td>126</td>\n",
       "      <td>1.0</td>\n",
       "    </tr>\n",
       "    <tr>\n",
       "      <th>3</th>\n",
       "      <td>422191104.0</td>\n",
       "      <td>376752384.0</td>\n",
       "      <td>0.0</td>\n",
       "      <td>rTetR-only</td>\n",
       "      <td>0.0</td>\n",
       "      <td>10576128.0</td>\n",
       "      <td>6055168.0</td>\n",
       "      <td>126</td>\n",
       "      <td>1.0</td>\n",
       "    </tr>\n",
       "    <tr>\n",
       "      <th>4</th>\n",
       "      <td>338533120.0</td>\n",
       "      <td>186644992.0</td>\n",
       "      <td>0.0</td>\n",
       "      <td>rTetR-only</td>\n",
       "      <td>0.0</td>\n",
       "      <td>82312704.0</td>\n",
       "      <td>1349120.0</td>\n",
       "      <td>126</td>\n",
       "      <td>1.0</td>\n",
       "    </tr>\n",
       "  </tbody>\n",
       "</table>\n",
       "</div>"
      ],
      "text/plain": [
       "   FSC 488/10-A  SSC 488/10-A  asv description  dox    mCherry-A  mCitrine-A  \\\n",
       "0   669108224.0   198535936.0  0.0  rTetR-only  0.0  191138048.0   2103808.0   \n",
       "1   595002112.0   279674368.0  0.0  rTetR-only  0.0  200646400.0   2106112.0   \n",
       "2   422279424.0   126640896.0  0.0  rTetR-only  0.0  152885504.0   1572608.0   \n",
       "3   422191104.0   376752384.0  0.0  rTetR-only  0.0   10576128.0   6055168.0   \n",
       "4   338533120.0   186644992.0  0.0  rTetR-only  0.0   82312704.0   1349120.0   \n",
       "\n",
       "   plasmid  replicate  \n",
       "0      126        1.0  \n",
       "1      126        1.0  \n",
       "2      126        1.0  \n",
       "3      126        1.0  \n",
       "4      126        1.0  "
      ]
     },
     "execution_count": 25,
     "metadata": {},
     "output_type": "execute_result"
    }
   ],
   "source": [
    "def get_ex_0(tube):\n",
    "    op_0 = ImportOp(\n",
    "        conditions={\n",
    "            \"plasmid\" : \"category\",\n",
    "            \"description\" : \"category\",\n",
    "            \"dox\" : \"float\",\n",
    "            \"asv\" : \"float\",\n",
    "            \"replicate\" : \"float\"\n",
    "        },\n",
    "        tubes=[tube],\n",
    "        channels={\n",
    "            \"mCitrine-A\": \"mCitrine-A\",\n",
    "            \"mCherry-A\": \"mCherry-A\",\n",
    "            \"FSC 488/10-A\": \"FSC 488/10-A\",\n",
    "            \"SSC 488/10-A\": \"SSC 488/10-A\",\n",
    "        },\n",
    "    )\n",
    "    ex_0 = op_0.apply()\n",
    "    return ex_0\n",
    "\n",
    "\n",
    "ex_0_list = [get_ex_0(t) for t in tqdm(tubeslist)]\n",
    "all_data = pd.concat([e.data for e in tqdm(ex_0_list)])\n",
    "ex_0 = ex_0_list[0]\n",
    "ex_0.data = all_data\n",
    "ex_0.data.head()"
   ]
  },
  {
   "cell_type": "markdown",
   "metadata": {
    "heading_collapsed": true
   },
   "source": [
    "# Live cells, mCherry gating"
   ]
  },
  {
   "cell_type": "code",
   "execution_count": 28,
   "metadata": {
    "ExecuteTime": {
     "end_time": "2022-04-22T05:06:00.658533Z",
     "start_time": "2022-04-22T05:05:56.508391Z"
    },
    "hidden": true
   },
   "outputs": [
    {
     "name": "stdout",
     "output_type": "stream",
     "text": [
      "CPU times: user 5.99 s, sys: 962 ms, total: 6.95 s\n",
      "Wall time: 3.41 s\n"
     ]
    },
    {
     "data": {
      "image/png": "[encoded data removed]",
      "text/plain": [
       "<Figure size 432x288 with 2 Axes>"
      ]
     },
     "metadata": {},
     "output_type": "display_data"
    }
   ],
   "source": [
    "%%time\n",
    "\n",
    "dens_op = DensityGateOp(\n",
    "    name=\"P1\",\n",
    "    xchannel=\"FSC 488/10-A\",\n",
    "    xscale=\"log\",\n",
    "    ychannel=\"SSC 488/10-A\",\n",
    "    yscale=\"log\",\n",
    "    keep=0.9,\n",
    ")\n",
    "\n",
    "dens_op.estimate(ex_0)\n",
    "ex_1 = dens_op.apply(ex_0)\n",
    "dens_op.default_view().plot(ex_0, height=4)"
   ]
  },
  {
   "cell_type": "code",
   "execution_count": 29,
   "metadata": {
    "ExecuteTime": {
     "end_time": "2022-04-22T05:06:18.080358Z",
     "start_time": "2022-04-22T05:06:17.142744Z"
    },
    "hidden": true
   },
   "outputs": [
    {
     "data": {
      "image/png": "[encoded data removed]",
      "text/plain": [
       "<Figure size 324x216 with 1 Axes>"
      ]
     },
     "metadata": {},
     "output_type": "display_data"
    }
   ],
   "source": [
    "op_2 = ThresholdOp(name=\"mCherry\", threshold=4e7, channel=\"mCherry-A\")\n",
    "ex_2 = op_2.apply(ex_1)\n",
    "op_2.default_view(subset=\"(P1==True)\", scale=\"log\").plot(ex_2)"
   ]
  },
  {
   "cell_type": "code",
   "execution_count": 30,
   "metadata": {
    "ExecuteTime": {
     "end_time": "2022-04-22T05:07:20.308165Z",
     "start_time": "2022-04-22T05:07:16.884347Z"
    },
    "hidden": true
   },
   "outputs": [
    {
     "data": {
      "text/html": [
       "<div>\n",
       "<style scoped>\n",
       "    .dataframe tbody tr th:only-of-type {\n",
       "        vertical-align: middle;\n",
       "    }\n",
       "\n",
       "    .dataframe tbody tr th {\n",
       "        vertical-align: top;\n",
       "    }\n",
       "\n",
       "    .dataframe thead th {\n",
       "        text-align: right;\n",
       "    }\n",
       "</style>\n",
       "<table border=\"1\" class=\"dataframe\">\n",
       "  <thead>\n",
       "    <tr style=\"text-align: right;\">\n",
       "      <th></th>\n",
       "      <th>FSC 488/10-A</th>\n",
       "      <th>SSC 488/10-A</th>\n",
       "      <th>asv</th>\n",
       "      <th>description</th>\n",
       "      <th>dox</th>\n",
       "      <th>mCherry-A</th>\n",
       "      <th>mCitrine-A</th>\n",
       "      <th>plasmid</th>\n",
       "      <th>replicate</th>\n",
       "      <th>P1</th>\n",
       "      <th>mCherry</th>\n",
       "    </tr>\n",
       "  </thead>\n",
       "  <tbody>\n",
       "    <tr>\n",
       "      <th>0</th>\n",
       "      <td>669108224.0</td>\n",
       "      <td>198535936.0</td>\n",
       "      <td>0.0</td>\n",
       "      <td>rTetR-only</td>\n",
       "      <td>0.0</td>\n",
       "      <td>191138048.0</td>\n",
       "      <td>2103808.0</td>\n",
       "      <td>126</td>\n",
       "      <td>1.0</td>\n",
       "      <td>True</td>\n",
       "      <td>True</td>\n",
       "    </tr>\n",
       "    <tr>\n",
       "      <th>1</th>\n",
       "      <td>595002112.0</td>\n",
       "      <td>279674368.0</td>\n",
       "      <td>0.0</td>\n",
       "      <td>rTetR-only</td>\n",
       "      <td>0.0</td>\n",
       "      <td>200646400.0</td>\n",
       "      <td>2106112.0</td>\n",
       "      <td>126</td>\n",
       "      <td>1.0</td>\n",
       "      <td>True</td>\n",
       "      <td>True</td>\n",
       "    </tr>\n",
       "    <tr>\n",
       "      <th>2</th>\n",
       "      <td>422279424.0</td>\n",
       "      <td>126640896.0</td>\n",
       "      <td>0.0</td>\n",
       "      <td>rTetR-only</td>\n",
       "      <td>0.0</td>\n",
       "      <td>152885504.0</td>\n",
       "      <td>1572608.0</td>\n",
       "      <td>126</td>\n",
       "      <td>1.0</td>\n",
       "      <td>True</td>\n",
       "      <td>True</td>\n",
       "    </tr>\n",
       "    <tr>\n",
       "      <th>4</th>\n",
       "      <td>338533120.0</td>\n",
       "      <td>186644992.0</td>\n",
       "      <td>0.0</td>\n",
       "      <td>rTetR-only</td>\n",
       "      <td>0.0</td>\n",
       "      <td>82312704.0</td>\n",
       "      <td>1349120.0</td>\n",
       "      <td>126</td>\n",
       "      <td>1.0</td>\n",
       "      <td>True</td>\n",
       "      <td>True</td>\n",
       "    </tr>\n",
       "    <tr>\n",
       "      <th>5</th>\n",
       "      <td>496757248.0</td>\n",
       "      <td>205096960.0</td>\n",
       "      <td>0.0</td>\n",
       "      <td>rTetR-only</td>\n",
       "      <td>0.0</td>\n",
       "      <td>104084480.0</td>\n",
       "      <td>1945344.0</td>\n",
       "      <td>126</td>\n",
       "      <td>1.0</td>\n",
       "      <td>True</td>\n",
       "      <td>True</td>\n",
       "    </tr>\n",
       "    <tr>\n",
       "      <th>...</th>\n",
       "      <td>...</td>\n",
       "      <td>...</td>\n",
       "      <td>...</td>\n",
       "      <td>...</td>\n",
       "      <td>...</td>\n",
       "      <td>...</td>\n",
       "      <td>...</td>\n",
       "      <td>...</td>\n",
       "      <td>...</td>\n",
       "      <td>...</td>\n",
       "      <td>...</td>\n",
       "    </tr>\n",
       "    <tr>\n",
       "      <th>14025</th>\n",
       "      <td>673896448.0</td>\n",
       "      <td>222614528.0</td>\n",
       "      <td>1.0</td>\n",
       "      <td>FOXO3-STaPL-ZNF10</td>\n",
       "      <td>1000.0</td>\n",
       "      <td>85921536.0</td>\n",
       "      <td>5757696.0</td>\n",
       "      <td>73</td>\n",
       "      <td>2.0</td>\n",
       "      <td>True</td>\n",
       "      <td>True</td>\n",
       "    </tr>\n",
       "    <tr>\n",
       "      <th>14026</th>\n",
       "      <td>463902720.0</td>\n",
       "      <td>159699712.0</td>\n",
       "      <td>1.0</td>\n",
       "      <td>FOXO3-STaPL-ZNF10</td>\n",
       "      <td>1000.0</td>\n",
       "      <td>58426112.0</td>\n",
       "      <td>2525184.0</td>\n",
       "      <td>73</td>\n",
       "      <td>2.0</td>\n",
       "      <td>True</td>\n",
       "      <td>True</td>\n",
       "    </tr>\n",
       "    <tr>\n",
       "      <th>14027</th>\n",
       "      <td>416357632.0</td>\n",
       "      <td>133082368.0</td>\n",
       "      <td>1.0</td>\n",
       "      <td>FOXO3-STaPL-ZNF10</td>\n",
       "      <td>1000.0</td>\n",
       "      <td>95832832.0</td>\n",
       "      <td>3575808.0</td>\n",
       "      <td>73</td>\n",
       "      <td>2.0</td>\n",
       "      <td>True</td>\n",
       "      <td>True</td>\n",
       "    </tr>\n",
       "    <tr>\n",
       "      <th>14028</th>\n",
       "      <td>554682368.0</td>\n",
       "      <td>139582720.0</td>\n",
       "      <td>1.0</td>\n",
       "      <td>FOXO3-STaPL-ZNF10</td>\n",
       "      <td>1000.0</td>\n",
       "      <td>60224512.0</td>\n",
       "      <td>1680640.0</td>\n",
       "      <td>73</td>\n",
       "      <td>2.0</td>\n",
       "      <td>True</td>\n",
       "      <td>True</td>\n",
       "    </tr>\n",
       "    <tr>\n",
       "      <th>14029</th>\n",
       "      <td>675209728.0</td>\n",
       "      <td>240670976.0</td>\n",
       "      <td>1.0</td>\n",
       "      <td>FOXO3-STaPL-ZNF10</td>\n",
       "      <td>1000.0</td>\n",
       "      <td>160115200.0</td>\n",
       "      <td>3252736.0</td>\n",
       "      <td>73</td>\n",
       "      <td>2.0</td>\n",
       "      <td>True</td>\n",
       "      <td>True</td>\n",
       "    </tr>\n",
       "  </tbody>\n",
       "</table>\n",
       "<p>404013 rows × 11 columns</p>\n",
       "</div>"
      ],
      "text/plain": [
       "       FSC 488/10-A  SSC 488/10-A  asv        description     dox  \\\n",
       "0       669108224.0   198535936.0  0.0         rTetR-only     0.0   \n",
       "1       595002112.0   279674368.0  0.0         rTetR-only     0.0   \n",
       "2       422279424.0   126640896.0  0.0         rTetR-only     0.0   \n",
       "4       338533120.0   186644992.0  0.0         rTetR-only     0.0   \n",
       "5       496757248.0   205096960.0  0.0         rTetR-only     0.0   \n",
       "...             ...           ...  ...                ...     ...   \n",
       "14025   673896448.0   222614528.0  1.0  FOXO3-STaPL-ZNF10  1000.0   \n",
       "14026   463902720.0   159699712.0  1.0  FOXO3-STaPL-ZNF10  1000.0   \n",
       "14027   416357632.0   133082368.0  1.0  FOXO3-STaPL-ZNF10  1000.0   \n",
       "14028   554682368.0   139582720.0  1.0  FOXO3-STaPL-ZNF10  1000.0   \n",
       "14029   675209728.0   240670976.0  1.0  FOXO3-STaPL-ZNF10  1000.0   \n",
       "\n",
       "         mCherry-A  mCitrine-A  plasmid  replicate    P1  mCherry  \n",
       "0      191138048.0   2103808.0      126        1.0  True     True  \n",
       "1      200646400.0   2106112.0      126        1.0  True     True  \n",
       "2      152885504.0   1572608.0      126        1.0  True     True  \n",
       "4       82312704.0   1349120.0      126        1.0  True     True  \n",
       "5      104084480.0   1945344.0      126        1.0  True     True  \n",
       "...            ...         ...      ...        ...   ...      ...  \n",
       "14025   85921536.0   5757696.0       73        2.0  True     True  \n",
       "14026   58426112.0   2525184.0       73        2.0  True     True  \n",
       "14027   95832832.0   3575808.0       73        2.0  True     True  \n",
       "14028   60224512.0   1680640.0       73        2.0  True     True  \n",
       "14029  160115200.0   3252736.0       73        2.0  True     True  \n",
       "\n",
       "[404013 rows x 11 columns]"
      ]
     },
     "execution_count": 30,
     "metadata": {},
     "output_type": "execute_result"
    }
   ],
   "source": [
    "all_cells = ex_2.data\n",
    "all_cells = all_cells[(all_cells['P1'])&(all_cells['mCherry'])]\n",
    "all_cells.to_csv('./data/all_cells_mch_live.csv', index=False)\n",
    "all_cells"
   ]
  },
  {
   "cell_type": "markdown",
   "metadata": {},
   "source": [
    "# Drawing histograms and computing fractions"
   ]
  },
  {
   "cell_type": "code",
   "execution_count": 3,
   "metadata": {
    "ExecuteTime": {
     "end_time": "2022-10-19T08:15:47.771935Z",
     "start_time": "2022-10-19T08:15:47.231522Z"
    }
   },
   "outputs": [
    {
     "data": {
      "text/html": [
       "<div>\n",
       "<style scoped>\n",
       "    .dataframe tbody tr th:only-of-type {\n",
       "        vertical-align: middle;\n",
       "    }\n",
       "\n",
       "    .dataframe tbody tr th {\n",
       "        vertical-align: top;\n",
       "    }\n",
       "\n",
       "    .dataframe thead th {\n",
       "        text-align: right;\n",
       "    }\n",
       "</style>\n",
       "<table border=\"1\" class=\"dataframe\">\n",
       "  <thead>\n",
       "    <tr style=\"text-align: right;\">\n",
       "      <th></th>\n",
       "      <th>plasmid</th>\n",
       "      <th>description</th>\n",
       "      <th>dox</th>\n",
       "      <th>asv</th>\n",
       "      <th>Citrine On</th>\n",
       "    </tr>\n",
       "  </thead>\n",
       "  <tbody>\n",
       "    <tr>\n",
       "      <th>0</th>\n",
       "      <td>56</td>\n",
       "      <td>STaPL-only</td>\n",
       "      <td>0.0</td>\n",
       "      <td>0.0</td>\n",
       "      <td>0.001020</td>\n",
       "    </tr>\n",
       "    <tr>\n",
       "      <th>1</th>\n",
       "      <td>56</td>\n",
       "      <td>STaPL-only</td>\n",
       "      <td>0.0</td>\n",
       "      <td>1.0</td>\n",
       "      <td>0.000588</td>\n",
       "    </tr>\n",
       "    <tr>\n",
       "      <th>2</th>\n",
       "      <td>56</td>\n",
       "      <td>STaPL-only</td>\n",
       "      <td>1000.0</td>\n",
       "      <td>0.0</td>\n",
       "      <td>0.000878</td>\n",
       "    </tr>\n",
       "    <tr>\n",
       "      <th>3</th>\n",
       "      <td>56</td>\n",
       "      <td>STaPL-only</td>\n",
       "      <td>1000.0</td>\n",
       "      <td>1.0</td>\n",
       "      <td>0.000787</td>\n",
       "    </tr>\n",
       "    <tr>\n",
       "      <th>4</th>\n",
       "      <td>73</td>\n",
       "      <td>FOXO3-STaPL-ZNF10</td>\n",
       "      <td>0.0</td>\n",
       "      <td>0.0</td>\n",
       "      <td>0.000492</td>\n",
       "    </tr>\n",
       "    <tr>\n",
       "      <th>5</th>\n",
       "      <td>73</td>\n",
       "      <td>FOXO3-STaPL-ZNF10</td>\n",
       "      <td>0.0</td>\n",
       "      <td>1.0</td>\n",
       "      <td>0.000641</td>\n",
       "    </tr>\n",
       "    <tr>\n",
       "      <th>6</th>\n",
       "      <td>73</td>\n",
       "      <td>FOXO3-STaPL-ZNF10</td>\n",
       "      <td>1000.0</td>\n",
       "      <td>0.0</td>\n",
       "      <td>0.875863</td>\n",
       "    </tr>\n",
       "    <tr>\n",
       "      <th>7</th>\n",
       "      <td>73</td>\n",
       "      <td>FOXO3-STaPL-ZNF10</td>\n",
       "      <td>1000.0</td>\n",
       "      <td>1.0</td>\n",
       "      <td>0.031894</td>\n",
       "    </tr>\n",
       "    <tr>\n",
       "      <th>8</th>\n",
       "      <td>126</td>\n",
       "      <td>rTetR-only</td>\n",
       "      <td>0.0</td>\n",
       "      <td>0.0</td>\n",
       "      <td>0.000425</td>\n",
       "    </tr>\n",
       "    <tr>\n",
       "      <th>9</th>\n",
       "      <td>126</td>\n",
       "      <td>rTetR-only</td>\n",
       "      <td>0.0</td>\n",
       "      <td>1.0</td>\n",
       "      <td>0.001337</td>\n",
       "    </tr>\n",
       "    <tr>\n",
       "      <th>10</th>\n",
       "      <td>126</td>\n",
       "      <td>rTetR-only</td>\n",
       "      <td>1000.0</td>\n",
       "      <td>0.0</td>\n",
       "      <td>0.001120</td>\n",
       "    </tr>\n",
       "    <tr>\n",
       "      <th>11</th>\n",
       "      <td>126</td>\n",
       "      <td>rTetR-only</td>\n",
       "      <td>1000.0</td>\n",
       "      <td>1.0</td>\n",
       "      <td>0.001001</td>\n",
       "    </tr>\n",
       "    <tr>\n",
       "      <th>12</th>\n",
       "      <td>217</td>\n",
       "      <td>ZNF10-only</td>\n",
       "      <td>0.0</td>\n",
       "      <td>0.0</td>\n",
       "      <td>0.001159</td>\n",
       "    </tr>\n",
       "    <tr>\n",
       "      <th>13</th>\n",
       "      <td>217</td>\n",
       "      <td>ZNF10-only</td>\n",
       "      <td>0.0</td>\n",
       "      <td>1.0</td>\n",
       "      <td>0.001552</td>\n",
       "    </tr>\n",
       "    <tr>\n",
       "      <th>14</th>\n",
       "      <td>217</td>\n",
       "      <td>ZNF10-only</td>\n",
       "      <td>1000.0</td>\n",
       "      <td>0.0</td>\n",
       "      <td>0.002085</td>\n",
       "    </tr>\n",
       "    <tr>\n",
       "      <th>15</th>\n",
       "      <td>217</td>\n",
       "      <td>ZNF10-only</td>\n",
       "      <td>1000.0</td>\n",
       "      <td>1.0</td>\n",
       "      <td>0.001191</td>\n",
       "    </tr>\n",
       "    <tr>\n",
       "      <th>16</th>\n",
       "      <td>222</td>\n",
       "      <td>FOXO3-only</td>\n",
       "      <td>0.0</td>\n",
       "      <td>0.0</td>\n",
       "      <td>0.004040</td>\n",
       "    </tr>\n",
       "    <tr>\n",
       "      <th>17</th>\n",
       "      <td>222</td>\n",
       "      <td>FOXO3-only</td>\n",
       "      <td>0.0</td>\n",
       "      <td>1.0</td>\n",
       "      <td>0.000432</td>\n",
       "    </tr>\n",
       "    <tr>\n",
       "      <th>18</th>\n",
       "      <td>222</td>\n",
       "      <td>FOXO3-only</td>\n",
       "      <td>1000.0</td>\n",
       "      <td>0.0</td>\n",
       "      <td>0.772524</td>\n",
       "    </tr>\n",
       "    <tr>\n",
       "      <th>19</th>\n",
       "      <td>222</td>\n",
       "      <td>FOXO3-only</td>\n",
       "      <td>1000.0</td>\n",
       "      <td>1.0</td>\n",
       "      <td>0.831793</td>\n",
       "    </tr>\n",
       "  </tbody>\n",
       "</table>\n",
       "</div>"
      ],
      "text/plain": [
       "    plasmid        description     dox  asv  Citrine On\n",
       "0        56         STaPL-only     0.0  0.0    0.001020\n",
       "1        56         STaPL-only     0.0  1.0    0.000588\n",
       "2        56         STaPL-only  1000.0  0.0    0.000878\n",
       "3        56         STaPL-only  1000.0  1.0    0.000787\n",
       "4        73  FOXO3-STaPL-ZNF10     0.0  0.0    0.000492\n",
       "5        73  FOXO3-STaPL-ZNF10     0.0  1.0    0.000641\n",
       "6        73  FOXO3-STaPL-ZNF10  1000.0  0.0    0.875863\n",
       "7        73  FOXO3-STaPL-ZNF10  1000.0  1.0    0.031894\n",
       "8       126         rTetR-only     0.0  0.0    0.000425\n",
       "9       126         rTetR-only     0.0  1.0    0.001337\n",
       "10      126         rTetR-only  1000.0  0.0    0.001120\n",
       "11      126         rTetR-only  1000.0  1.0    0.001001\n",
       "12      217         ZNF10-only     0.0  0.0    0.001159\n",
       "13      217         ZNF10-only     0.0  1.0    0.001552\n",
       "14      217         ZNF10-only  1000.0  0.0    0.002085\n",
       "15      217         ZNF10-only  1000.0  1.0    0.001191\n",
       "16      222         FOXO3-only     0.0  0.0    0.004040\n",
       "17      222         FOXO3-only     0.0  1.0    0.000432\n",
       "18      222         FOXO3-only  1000.0  0.0    0.772524\n",
       "19      222         FOXO3-only  1000.0  1.0    0.831793"
      ]
     },
     "execution_count": 3,
     "metadata": {},
     "output_type": "execute_result"
    }
   ],
   "source": [
    "all_cells = pd.read_csv('./data/all_cells_mch_live.csv')\n",
    "all_cells = all_cells[all_cells[\"plasmid\"] != 140]\n",
    "\n",
    "all_cells[\"Citrine On\"] = all_cells[\"mCitrine-A\"] > 1e7\n",
    "gdf = all_cells.groupby([\"plasmid\", \"description\", \"dox\", \"asv\"]).mean().reset_index()\n",
    "gdf = gdf[[\"plasmid\", \"description\", \"dox\", \"asv\", \"Citrine On\"]]\n",
    "gdf"
   ]
  },
  {
   "cell_type": "code",
   "execution_count": 4,
   "metadata": {
    "ExecuteTime": {
     "end_time": "2022-10-19T08:15:54.176939Z",
     "start_time": "2022-10-19T08:15:54.168666Z"
    }
   },
   "outputs": [],
   "source": [
    "def plot_histograms(px, ax):\n",
    "    pdf = all_cells[all_cells[\"plasmid\"] == px]\n",
    "\n",
    "    sns.kdeplot(\n",
    "        data=pdf[pdf[\"dox\"] == 0],\n",
    "        x=\"mCitrine-A\",\n",
    "        color=\"#999999\",\n",
    "        fill=False,\n",
    "        log_scale=True,\n",
    "        common_norm=False,\n",
    "        ax=ax,\n",
    "    )\n",
    "\n",
    "    sns.kdeplot(\n",
    "        data=pdf[pdf[\"dox\"] == 1000],\n",
    "        x=\"mCitrine-A\",\n",
    "        hue=\"asv\",\n",
    "        palette=[\"#70cc33\", \"#2c7fb8\"],\n",
    "        fill=True,\n",
    "        legend=False,\n",
    "        log_scale=True,\n",
    "        common_norm=False,\n",
    "        ax=ax,\n",
    "    )\n",
    "\n",
    "    ax.set_yticks([])\n",
    "    ax.set_ylim([0, 4])\n",
    "    ax.set_xlim(5e5, 5e9)\n",
    "    ax.set_xticks([1e6, 1e7, 1e8, 1e9])\n",
    "    ax.set_ylabel(\"\")\n",
    "\n",
    "    qdf = gdf[gdf[\"plasmid\"] == px]\n",
    "    pasv_on = qdf[(qdf[\"dox\"] == 1000) & (qdf[\"asv\"] == 1)]\n",
    "    pasv_on = list(pasv_on[\"Citrine On\"])[0]\n",
    "    masv_on = qdf[(qdf[\"dox\"] == 1000) & (qdf[\"asv\"] == 0)]\n",
    "    masv_on = list(masv_on[\"Citrine On\"])[0]\n",
    "\n",
    "    ax.axvline(1e7, ymin=0, ymax=2, color=\"#444444\", linestyle=\"--\")\n",
    "\n",
    "    ax.text(2e7, 3, \"{:.0f}\".format(pasv_on * 100) + \"% On\", color=\"#2c7fb8\")\n",
    "    ax.text(2e7, 1.75, \"{:.0f}\".format(masv_on * 100) + \"% On\", color=\"#70cc33\")\n",
    "\n",
    "    ax.set_title(plasmid_dict[px])"
   ]
  },
  {
   "cell_type": "code",
   "execution_count": 8,
   "metadata": {
    "ExecuteTime": {
     "end_time": "2022-10-19T08:16:09.975914Z",
     "start_time": "2022-10-19T08:16:06.983001Z"
    }
   },
   "outputs": [
    {
     "data": {
      "image/png": "[encoded data removed]",
      "text/plain": [
       "<Figure size 750x475 with 6 Axes>"
      ]
     },
     "metadata": {},
     "output_type": "display_data"
    }
   ],
   "source": [
    "fig, axes = plt.subplots(2, 3, figsize=(7.5, 4.75))\n",
    "\n",
    "for i, ax in enumerate(axes.flat[:-1]):\n",
    "    plot_histograms([126, 217, 222, 56, 73][i], ax)\n",
    "\n",
    "axes.flat[-1].set_visible(False)\n",
    "\n",
    "sns.despine(fig)\n",
    "plt.tight_layout()\n",
    "# fig.suptitle(\"STaPL Testing at minCMV\", y=1.1)\n",
    "\n",
    "custom_lines = [\n",
    "    Line2D([0], [0], color=\"#999999\", lw=4),\n",
    "    Line2D([0], [0], color=\"#70cc33\", lw=4),\n",
    "    Line2D([0], [0], color=\"#2c7fb8\", lw=4),\n",
    "]\n",
    "axes.flat[0].legend(\n",
    "    custom_lines,\n",
    "    [\"$\\minus$ dox\", \"$\\minus$ ASV\", \"$\\plus$ ASV\"],\n",
    "    loc=\"center left\",\n",
    "    bbox_to_anchor=(2.5, -2),\n",
    ")\n",
    "\n",
    "fig.savefig(\"./plots/stapl_cmv_summary.pdf\", bbox_inches=\"tight\")\n",
    "fig.savefig(\"./plots/stapl_cmv_summary.png\", dpi=600)"
   ]
  },
  {
   "cell_type": "code",
   "execution_count": 19,
   "metadata": {
    "ExecuteTime": {
     "end_time": "2022-10-19T08:19:33.468892Z",
     "start_time": "2022-10-19T08:19:32.623807Z"
    }
   },
   "outputs": [
    {
     "data": {
      "image/png": "[encoded data removed]",
      "text/plain": [
       "<Figure size 300x100 with 1 Axes>"
      ]
     },
     "metadata": {},
     "output_type": "display_data"
    }
   ],
   "source": [
    "fig, ax = plt.subplots(figsize=(3, 1))\n",
    "\n",
    "plot_histograms(73, ax)\n",
    "\n",
    "sns.despine(fig)\n",
    "\n",
    "custom_lines = [\n",
    "    Line2D([0], [0], color=\"#999999\", lw=4),\n",
    "    Line2D([0], [0], color=\"#70cc33\", lw=4),\n",
    "    Line2D([0], [0], color=\"#2c7fb8\", lw=4),\n",
    "]\n",
    "ax.legend(\n",
    "    custom_lines,\n",
    "    [\"$\\minus$ dox\", \"$\\minus$ ASV\", \"$\\plus$ ASV\"],\n",
    "    loc=\"center left\",\n",
    "    bbox_to_anchor=(1.1, 0.3),\n",
    ")\n",
    "\n",
    "plt.savefig(\"./plots/stapl_cmv_73.pdf\", bbox_inches=\"tight\")"
   ]
  },
  {
   "cell_type": "code",
   "execution_count": null,
   "metadata": {},
   "outputs": [],
   "source": []
  },
  {
   "cell_type": "code",
   "execution_count": null,
   "metadata": {},
   "outputs": [],
   "source": []
  },
  {
   "cell_type": "code",
   "execution_count": null,
   "metadata": {},
   "outputs": [],
   "source": []
  },
  {
   "cell_type": "code",
   "execution_count": null,
   "metadata": {},
   "outputs": [],
   "source": []
  }
 ],
 "metadata": {
  "kernelspec": {
   "display_name": "Python [conda env:flow] *",
   "language": "python",
   "name": "conda-env-flow-py"
  },
  "language_info": {
   "codemirror_mode": {
    "name": "ipython",
    "version": 3
   },
   "file_extension": ".py",
   "mimetype": "text/x-python",
   "name": "python",
   "nbconvert_exporter": "python",
   "pygments_lexer": "ipython3",
   "version": "3.8.5"
  },
  "varInspector": {
   "cols": {
    "lenName": 16,
    "lenType": 16,
    "lenVar": 40
   },
   "kernels_config": {
    "python": {
     "delete_cmd_postfix": "",
     "delete_cmd_prefix": "del ",
     "library": "var_list.py",
     "varRefreshCmd": "print(var_dic_list())"
    },
    "r": {
     "delete_cmd_postfix": ") ",
     "delete_cmd_prefix": "rm(",
     "library": "var_list.r",
     "varRefreshCmd": "cat(var_dic_list()) "
    }
   },
   "types_to_exclude": [
    "module",
    "function",
    "builtin_function_or_method",
    "instance",
    "_Feature"
   ],
   "window_display": false
  }
 },
 "nbformat": 4,
 "nbformat_minor": 4
}
