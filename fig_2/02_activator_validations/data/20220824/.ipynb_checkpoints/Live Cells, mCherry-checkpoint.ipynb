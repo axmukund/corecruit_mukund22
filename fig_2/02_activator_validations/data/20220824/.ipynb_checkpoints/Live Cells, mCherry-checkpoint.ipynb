{
 "cells": [
  {
   "cell_type": "markdown",
   "metadata": {},
   "source": [
    "# Imports"
   ]
  },
  {
   "cell_type": "code",
   "execution_count": 1,
   "metadata": {
    "ExecuteTime": {
     "end_time": "2022-08-24T22:25:31.263968Z",
     "start_time": "2022-08-24T22:25:27.012687Z"
    }
   },
   "outputs": [],
   "source": [
    "from cytoflow import *\n",
    "import os\n",
    "\n",
    "import math\n",
    "import numpy as np\n",
    "import pandas as pd\n",
    "import seaborn as sns\n",
    "import matplotlib.pyplot as plt\n",
    "import matplotlib as mpl\n",
    "import scipy.stats as st\n",
    "import math\n",
    "from tqdm.notebook import tqdm\n",
    "import iteration_utilities\n",
    "import statsmodels\n",
    "import scipy.optimize\n",
    "import scipy.spatial.distance as sd\n",
    "from lmfit import *\n",
    "from matplotlib.lines import Line2D\n",
    "\n",
    "mpl.rcParams['font.sans-serif'] = 'Arial'\n",
    "mpl.rcParams['font.family'] = 'sans-serif'\n",
    "plt.rcParams['figure.figsize'] = (10, 6)\n",
    "mpl.rcParams['pdf.fonttype'] = 42\n",
    "sns.set_style(\n",
    "    'ticks',\n",
    "    {\n",
    "        'xtick.major.size': 4,\n",
    "        'ytick.major.size': 4,\n",
    "        'font_color': 'k',\n",
    "        'axes.edgecolor': 'k',\n",
    "        'xtick.color': 'k',\n",
    "        'ytick.color': 'k',\n",
    "    },\n",
    ")\n",
    "sns.set_context('talk', font_scale=1.0)"
   ]
  },
  {
   "cell_type": "markdown",
   "metadata": {},
   "source": [
    "# Loading Tubes"
   ]
  },
  {
   "cell_type": "code",
   "execution_count": 3,
   "metadata": {
    "ExecuteTime": {
     "end_time": "2022-08-24T22:32:32.733365Z",
     "start_time": "2022-08-24T22:32:32.729442Z"
    }
   },
   "outputs": [],
   "source": [
    "plasmid_dict = {\n",
    "    79: \"ANM2-KIBRA\",\n",
    "    80: \"BIN1-FOXO3\",\n",
    "    91: \"NOTC2-KIBRA\",\n",
    "    134: \"MYBA-ZN473\",\n",
    "    192: \"ANM2-Rand124\",\n",
    "    193: \"Rand124-KIBRA\",\n",
    "    194: \"NOTC2-Rand124\",\n",
    "    196: \"ANM2-NOTC2\",\n",
    "    198: \"MYBA-Rand124\",\n",
    "    199: \"Rand124-ZN473\",\n",
    "    201: \"BIN1-Rand124\",\n",
    "    202: \"Rand124-FOXO3\",\n",
    "}\n",
    "plasmids = sorted(list(plasmid_dict.keys()))"
   ]
  },
  {
   "cell_type": "code",
   "execution_count": 14,
   "metadata": {
    "ExecuteTime": {
     "end_time": "2022-08-24T22:41:29.919437Z",
     "start_time": "2022-08-24T22:41:29.914868Z"
    }
   },
   "outputs": [],
   "source": [
    "def get_tube(day, replicate, plasmid):\n",
    "    letters = [\"A\", \"B\", \"C\", \"D\", \"E\", \"F\", \"G\", \"H\"]\n",
    "    numbers = [1, 2, 3, 4, 5, 6, 7, 8, 9, 10, 11, 12]\n",
    "    layout = [[192, 193, 194, 79, 196, 91], [198, 199, 134, 201, 202, 80]]\n",
    "    for row in layout:\n",
    "        if plasmid in row:\n",
    "            r = layout.index(row) + 2 * (replicate - 1)\n",
    "            c = row.index(plasmid) + 6 * (day == 0)\n",
    "            return (\n",
    "                \"./axm-20220824_actsyn_d2dox-20220824-1414/\"\n",
    "                + letters[r]\n",
    "                + str(numbers[c])\n",
    "                + \".fcs\"\n",
    "            )"
   ]
  },
  {
   "cell_type": "code",
   "execution_count": 16,
   "metadata": {
    "ExecuteTime": {
     "end_time": "2022-08-24T22:42:06.234862Z",
     "start_time": "2022-08-24T22:42:06.228710Z"
    }
   },
   "outputs": [
    {
     "name": "stdout",
     "output_type": "stream",
     "text": [
      "Loaded 48 tubes\n"
     ]
    }
   ],
   "source": [
    "tubeslist = []\n",
    "for day in [0, 2]:\n",
    "    for plasmid in plasmids:\n",
    "        for replicate in [1, 2]:\n",
    "            tubeslist.extend(\n",
    "                [\n",
    "                    Tube(\n",
    "                        conditions={\n",
    "                            \"plasmid\": plasmid,\n",
    "                            \"day\": day,\n",
    "                            \"description\": plasmid_dict[plasmid],\n",
    "                            \"replicate\": replicate,\n",
    "                        },\n",
    "                        file=get_tube(dox, replicate, plasmid),\n",
    "                        conditions_list=[\"plasmid\", \"day\", \"description\", \"replicate\"],\n",
    "                    )\n",
    "                ]\n",
    "            )\n",
    "print(\"Loaded\", len(tubeslist), \"tubes\")"
   ]
  },
  {
   "cell_type": "code",
   "execution_count": 17,
   "metadata": {
    "ExecuteTime": {
     "end_time": "2022-08-24T22:43:03.359120Z",
     "start_time": "2022-08-24T22:42:59.647526Z"
    }
   },
   "outputs": [
    {
     "name": "stdout",
     "output_type": "stream",
     "text": [
      "CPU times: user 3.19 s, sys: 350 ms, total: 3.54 s\n",
      "Wall time: 3.69 s\n"
     ]
    },
    {
     "data": {
      "text/html": [
       "<div>\n",
       "<style scoped>\n",
       "    .dataframe tbody tr th:only-of-type {\n",
       "        vertical-align: middle;\n",
       "    }\n",
       "\n",
       "    .dataframe tbody tr th {\n",
       "        vertical-align: top;\n",
       "    }\n",
       "\n",
       "    .dataframe thead th {\n",
       "        text-align: right;\n",
       "    }\n",
       "</style>\n",
       "<table border=\"1\" class=\"dataframe\">\n",
       "  <thead>\n",
       "    <tr style=\"text-align: right;\">\n",
       "      <th></th>\n",
       "      <th>FSC 488/10-A</th>\n",
       "      <th>SSC 488/10-A</th>\n",
       "      <th>day</th>\n",
       "      <th>description</th>\n",
       "      <th>mCherry-A</th>\n",
       "      <th>mCitrine-A</th>\n",
       "      <th>plasmid</th>\n",
       "      <th>replicate</th>\n",
       "    </tr>\n",
       "  </thead>\n",
       "  <tbody>\n",
       "    <tr>\n",
       "      <th>0</th>\n",
       "      <td>614823424.0</td>\n",
       "      <td>288971520.0</td>\n",
       "      <td>0.0</td>\n",
       "      <td>ANM2-KIBRA</td>\n",
       "      <td>337234432.0</td>\n",
       "      <td>1688320.0</td>\n",
       "      <td>79</td>\n",
       "      <td>1.0</td>\n",
       "    </tr>\n",
       "    <tr>\n",
       "      <th>1</th>\n",
       "      <td>671013632.0</td>\n",
       "      <td>352127488.0</td>\n",
       "      <td>0.0</td>\n",
       "      <td>ANM2-KIBRA</td>\n",
       "      <td>86745088.0</td>\n",
       "      <td>2579712.0</td>\n",
       "      <td>79</td>\n",
       "      <td>1.0</td>\n",
       "    </tr>\n",
       "    <tr>\n",
       "      <th>2</th>\n",
       "      <td>654321920.0</td>\n",
       "      <td>301587200.0</td>\n",
       "      <td>0.0</td>\n",
       "      <td>ANM2-KIBRA</td>\n",
       "      <td>133310208.0</td>\n",
       "      <td>1481216.0</td>\n",
       "      <td>79</td>\n",
       "      <td>1.0</td>\n",
       "    </tr>\n",
       "    <tr>\n",
       "      <th>3</th>\n",
       "      <td>633477632.0</td>\n",
       "      <td>392356352.0</td>\n",
       "      <td>0.0</td>\n",
       "      <td>ANM2-KIBRA</td>\n",
       "      <td>256325376.0</td>\n",
       "      <td>2531840.0</td>\n",
       "      <td>79</td>\n",
       "      <td>1.0</td>\n",
       "    </tr>\n",
       "    <tr>\n",
       "      <th>4</th>\n",
       "      <td>563697152.0</td>\n",
       "      <td>329208576.0</td>\n",
       "      <td>0.0</td>\n",
       "      <td>ANM2-KIBRA</td>\n",
       "      <td>173319168.0</td>\n",
       "      <td>1849088.0</td>\n",
       "      <td>79</td>\n",
       "      <td>1.0</td>\n",
       "    </tr>\n",
       "  </tbody>\n",
       "</table>\n",
       "</div>"
      ],
      "text/plain": [
       "   FSC 488/10-A  SSC 488/10-A  day description    mCherry-A  mCitrine-A  \\\n",
       "0   614823424.0   288971520.0  0.0  ANM2-KIBRA  337234432.0   1688320.0   \n",
       "1   671013632.0   352127488.0  0.0  ANM2-KIBRA   86745088.0   2579712.0   \n",
       "2   654321920.0   301587200.0  0.0  ANM2-KIBRA  133310208.0   1481216.0   \n",
       "3   633477632.0   392356352.0  0.0  ANM2-KIBRA  256325376.0   2531840.0   \n",
       "4   563697152.0   329208576.0  0.0  ANM2-KIBRA  173319168.0   1849088.0   \n",
       "\n",
       "  plasmid  replicate  \n",
       "0      79        1.0  \n",
       "1      79        1.0  \n",
       "2      79        1.0  \n",
       "3      79        1.0  \n",
       "4      79        1.0  "
      ]
     },
     "execution_count": 17,
     "metadata": {},
     "output_type": "execute_result"
    }
   ],
   "source": [
    "%%time\n",
    "\n",
    "op0 = ImportOp(\n",
    "    conditions={\n",
    "        \"plasmid\": \"category\",\n",
    "        \"day\": \"float\",\n",
    "        \"replicate\": \"float\",\n",
    "        \"description\": \"category\",\n",
    "    },\n",
    "    tubes=tubeslist,\n",
    "    channels={\n",
    "        \"mCitrine-A\": \"mCitrine-A\",\n",
    "        \"mCherry-A\": \"mCherry-A\",\n",
    "        \"FSC 488/10-A\": \"FSC 488/10-A\",\n",
    "        \"SSC 488/10-A\": \"SSC 488/10-A\",\n",
    "    },\n",
    ")\n",
    "ex0 = op0.apply()\n",
    "ex0.data.head()"
   ]
  },
  {
   "cell_type": "markdown",
   "metadata": {},
   "source": [
    "# Gate for Live Cells"
   ]
  },
  {
   "cell_type": "code",
   "execution_count": 18,
   "metadata": {
    "ExecuteTime": {
     "end_time": "2022-08-24T22:43:31.964691Z",
     "start_time": "2022-08-24T22:43:29.785305Z"
    }
   },
   "outputs": [
    {
     "data": {
      "image/png": "[encoded data removed]",
      "text/plain": [
       "<Figure size 540x360 with 2 Axes>"
      ]
     },
     "metadata": {},
     "output_type": "display_data"
    }
   ],
   "source": [
    "dens_op = DensityGateOp(\n",
    "    name = 'P1',\n",
    "    xchannel='FSC 488/10-A',\n",
    "    xscale = 'log',\n",
    "    ychannel='SSC 488/10-A',\n",
    "    yscale = 'log',\n",
    "    keep = 0.9)\n",
    "\n",
    "dens_op.estimate(ex0)\n",
    "ex1 = dens_op.apply(ex0)\n",
    "dens_op.default_view().plot(ex0, height = 5)"
   ]
  },
  {
   "cell_type": "code",
   "execution_count": 19,
   "metadata": {
    "ExecuteTime": {
     "end_time": "2022-08-24T22:43:41.315766Z",
     "start_time": "2022-08-24T22:43:41.303385Z"
    }
   },
   "outputs": [
    {
     "data": {
      "text/plain": [
       "P1\n",
       "False     25506\n",
       "True     240586\n",
       "dtype: int64"
      ]
     },
     "execution_count": 19,
     "metadata": {},
     "output_type": "execute_result"
    }
   ],
   "source": [
    "ex1.data.groupby('P1').size()"
   ]
  },
  {
   "cell_type": "markdown",
   "metadata": {},
   "source": [
    "# Gate on mCherry"
   ]
  },
  {
   "cell_type": "code",
   "execution_count": 21,
   "metadata": {
    "ExecuteTime": {
     "end_time": "2022-08-24T22:44:08.580028Z",
     "start_time": "2022-08-24T22:44:08.108470Z"
    }
   },
   "outputs": [
    {
     "data": {
      "image/png": "[encoded data removed]",
      "text/plain": [
       "<Figure size 324x216 with 1 Axes>"
      ]
     },
     "metadata": {},
     "output_type": "display_data"
    }
   ],
   "source": [
    "op_2 = ThresholdOp(\n",
    "    name='mCherry', threshold=2e7, channel='mCherry-A')\n",
    "ex_2 = op_2.apply(ex1)\n",
    "op_2.default_view(\n",
    "    subset='(P1==True)', scale='log').plot(ex_2)"
   ]
  },
  {
   "cell_type": "code",
   "execution_count": 22,
   "metadata": {
    "ExecuteTime": {
     "end_time": "2022-08-24T22:44:28.505704Z",
     "start_time": "2022-08-24T22:44:28.477943Z"
    }
   },
   "outputs": [
    {
     "data": {
      "text/plain": [
       "plasmid  mCherry\n",
       "79       False        748\n",
       "         True       16720\n",
       "80       False       1300\n",
       "         True       19720\n",
       "91       False        750\n",
       "         True        9474\n",
       "134      False       1820\n",
       "         True        6584\n",
       "192      False        866\n",
       "         True       19656\n",
       "193      False       1106\n",
       "         True       23784\n",
       "194      False       1284\n",
       "         True       20420\n",
       "196      False       1098\n",
       "         True       18680\n",
       "198      False       2038\n",
       "         True       26612\n",
       "199      False       1348\n",
       "         True       31380\n",
       "201      False       2180\n",
       "         True       30596\n",
       "202      False       1586\n",
       "         True       26342\n",
       "dtype: int64"
      ]
     },
     "execution_count": 22,
     "metadata": {},
     "output_type": "execute_result"
    }
   ],
   "source": [
    "ex_2.data.groupby(['plasmid', 'mCherry']).size()"
   ]
  },
  {
   "cell_type": "markdown",
   "metadata": {},
   "source": [
    "# Export data"
   ]
  },
  {
   "cell_type": "code",
   "execution_count": 24,
   "metadata": {
    "ExecuteTime": {
     "end_time": "2022-08-24T22:45:23.166803Z",
     "start_time": "2022-08-24T22:45:21.574248Z"
    }
   },
   "outputs": [],
   "source": [
    "ex_2.data.to_csv('./data/all_cells_live_mch_gated.csv', index = False)"
   ]
  },
  {
   "cell_type": "code",
   "execution_count": null,
   "metadata": {},
   "outputs": [],
   "source": []
  }
 ],
 "metadata": {
  "kernelspec": {
   "display_name": "Python 3 (ipykernel)",
   "language": "python",
   "name": "python3"
  },
  "language_info": {
   "codemirror_mode": {
    "name": "ipython",
    "version": 3
   },
   "file_extension": ".py",
   "mimetype": "text/x-python",
   "name": "python",
   "nbconvert_exporter": "python",
   "pygments_lexer": "ipython3",
   "version": "3.8.5"
  },
  "varInspector": {
   "cols": {
    "lenName": 16,
    "lenType": 16,
    "lenVar": 40
   },
   "kernels_config": {
    "python": {
     "delete_cmd_postfix": "",
     "delete_cmd_prefix": "del ",
     "library": "var_list.py",
     "varRefreshCmd": "print(var_dic_list())"
    },
    "r": {
     "delete_cmd_postfix": ") ",
     "delete_cmd_prefix": "rm(",
     "library": "var_list.r",
     "varRefreshCmd": "cat(var_dic_list()) "
    }
   },
   "types_to_exclude": [
    "module",
    "function",
    "builtin_function_or_method",
    "instance",
    "_Feature"
   ],
   "window_display": false
  }
 },
 "nbformat": 4,
 "nbformat_minor": 4
}
