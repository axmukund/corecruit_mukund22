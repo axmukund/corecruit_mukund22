{
 "cells": [
  {
   "cell_type": "code",
   "execution_count": 16,
   "metadata": {},
   "outputs": [],
   "source": [
    "from cytoflow import *\n",
    "import os\n",
    "\n",
    "import numpy as np\n",
    "import pandas as pd\n",
    "import seaborn as sns\n",
    "import matplotlib.pyplot as plt\n",
    "import matplotlib as mpl\n",
    "import scipy.stats as st\n",
    "import math\n",
    "import tqdm\n",
    "import iteration_utilities\n",
    "\n",
    "mpl.rcParams['font.sans-serif'] = \"Arial\"\n",
    "mpl.rcParams['font.family'] = \"sans-serif\"\n",
    "plt.rcParams['figure.figsize'] = (10, 6)\n",
    "mpl.rcParams['pdf.fonttype'] = 42\n",
    "sns.set_style(\"ticks\", { \"xtick.major.size\": 4, \"ytick.major.size\": 4, \"font_color\":'k', 'axes.edgecolor': 'k', 'xtick.color': 'k', 'ytick.color': 'k'})\n",
    "sns.set_context(\"talk\", font_scale=1.0)"
   ]
  },
  {
   "cell_type": "markdown",
   "metadata": {},
   "source": [
    "# Loading Tubes"
   ]
  },
  {
   "cell_type": "markdown",
   "metadata": {},
   "source": [
    "## Defining the tube-loading function\n",
    "\n",
    "Copy this for future reference"
   ]
  },
  {
   "cell_type": "code",
   "execution_count": 17,
   "metadata": {},
   "outputs": [],
   "source": [
    "plasmid_dict = { # maps plasmid number => plasmid name \n",
    "    1260 : \"rTetR only\",\n",
    "    78 : \"Ctrl - Ctrl\",\n",
    "    1440 : \"MYBA only\",\n",
    "    80 : \"BIN1 - FOXO3\",\n",
    "    141 : \"BIN1 - Ctrl\",\n",
    "    142 : \"Ctrl - FOXO3\",\n",
    "    92 : \"SMCA2 - U2AF4\",\n",
    "    144 : \"SMCA2 - Ctrl\",\n",
    "    131 : \"U2AF4 - Ctrl\",\n",
    "    134 : \"MYBA - ZN473\",\n",
    "    133 : \"MYBA - Ctrl\",\n",
    "    135 : \"Ctrl - ZN473\",\n",
    "    125 : \"BTK - ABL1\",\n",
    "    129 : \"BTK - Ctrl\",\n",
    "    130 : \"Ctrl - ABL1\",\n",
    "    126 : \"U2AF4 - BTK\",\n",
    "    127 : \"BTK - WWP2\",\n",
    "    132 : \"CTRL - WWP2\",\n",
    "    79 : \"ANM2 - KIBRA\",\n",
    "    136 : \"ANM2 - Ctrl\",\n",
    "    138 : \"KIBRA - Ctrl\",\n",
    "    90 : \"NOTC2 - ANM2\",\n",
    "    91 : \"NOTC2 - KIBRA\",\n",
    "    157 : \"NOTC2 - Ctrl\"\n",
    "}\n",
    "\n",
    "plasmid_numbers = sorted(list(plasmid_dict.keys()))\n",
    "plasmid_names = [plasmid_dict[p] for p in plasmid_numbers]"
   ]
  },
  {
   "cell_type": "code",
   "execution_count": 18,
   "metadata": {},
   "outputs": [],
   "source": [
    "days = [0, 1, 2]\n",
    "replicates = [1, 2]"
   ]
  },
  {
   "cell_type": "code",
   "execution_count": 19,
   "metadata": {},
   "outputs": [],
   "source": [
    "letters = [\"A\", \"B\", \"C\", \"D\", \"E\", \"F\", \"G\", \"H\"]\n",
    "numbers = [1, 2, 3, 4, 5, 6, 7, 8, 9, 10, 11, 12]\n",
    "\n",
    "def get_tube_location(day, plasmid, replicate):\n",
    "    layout = [\n",
    "        [1260, 78, 1440, 80, 141, 142],\n",
    "        [ 92, 144, 131, 134, 133, 135],\n",
    "        [125, 129, 130, 126, 127, 132],\n",
    "        [ 79, 136, 138,  90,  91, 157]\n",
    "    ]\n",
    "    \n",
    "    for row in layout:\n",
    "        if plasmid in row:\n",
    "            r = layout.index(row) + 4 * (1 - replicate) # get row\n",
    "            c = row.index(plasmid) + 6 * (day // 2) # get col\n",
    "            return letters[r] + str(numbers[c])\n",
    "\n",
    "def get_tube_file(day, plasmid, replicate):\n",
    "    # first, get folder location\n",
    "    filedir = './fcs'\n",
    "    if day == 0:\n",
    "        filedir = filedir + '/axm-20220303_actsyn_0dox-20220303-1555/'\n",
    "    else:\n",
    "        filedir = filedir + '/axm-20220303_actsyn_dox-20220303-1617/'\n",
    "    tubename = get_tube_location(day, plasmid, replicate)\n",
    "    return filedir + tubename + '.fcs'"
   ]
  },
  {
   "cell_type": "markdown",
   "metadata": {},
   "source": [
    "## Here we go"
   ]
  },
  {
   "cell_type": "code",
   "execution_count": 38,
   "metadata": {
    "scrolled": false
   },
   "outputs": [
    {
     "name": "stdout",
     "output_type": "stream",
     "text": [
      "Loaded 144 tubes\n"
     ]
    }
   ],
   "source": [
    "tubeslist = []\n",
    "\n",
    "for day in [0, 1, 2]:\n",
    "    for plasmid in plasmid_dict:\n",
    "        for replicate in [1, 2]:\n",
    "#             print(day, plasmid, replicate)\n",
    "            tubeslist.extend([\n",
    "                Tube(conditions = {'plasmid' : plasmid,\n",
    "                                   'description' : plasmid_dict[plasmid],\n",
    "                                   'day' : day,\n",
    "                                   'replicate' : replicate},\n",
    "                    file = get_tube_file(day, plasmid, replicate),\n",
    "                    conditions_list = ['plasmid', 'description', 'day', 'replicate'])])\n",
    "\n",
    "print(\"Loaded\", len(tubeslist), \"tubes\")"
   ]
  },
  {
   "cell_type": "code",
   "execution_count": 39,
   "metadata": {},
   "outputs": [
    {
     "data": {
      "text/plain": [
       "'./fcs/axm-20220303_actsyn_dox-20220303-1617/H3.fcs'"
      ]
     },
     "execution_count": 39,
     "metadata": {},
     "output_type": "execute_result"
    }
   ],
   "source": [
    "get_tube_file(1, 138, 2)"
   ]
  },
  {
   "cell_type": "markdown",
   "metadata": {},
   "source": [
    "# Import"
   ]
  },
  {
   "cell_type": "code",
   "execution_count": 40,
   "metadata": {},
   "outputs": [
    {
     "name": "stderr",
     "output_type": "stream",
     "text": [
      "<ipython-input-40-27297fd6e26f>:1: TqdmDeprecationWarning: This function will be removed in tqdm==5.0.0\n",
      "Please use `tqdm.notebook.tqdm` instead of `tqdm.tqdm_notebook`\n"
     ]
    },
    {
     "data": {
      "application/vnd.jupyter.widget-view+json": {
       "model_id": "f975bc775b0242339513c056ff07a4e3",
       "version_major": 2,
       "version_minor": 0
      },
      "text/plain": [
       "0it [00:00, ?it/s]"
      ]
     },
     "metadata": {},
     "output_type": "display_data"
    },
    {
     "data": {
      "text/plain": [
       "<tqdm.notebook.tqdm_notebook at 0x7fd7dd13a520>"
      ]
     },
     "execution_count": 40,
     "metadata": {},
     "output_type": "execute_result"
    }
   ],
   "source": [
    "tqdm.tqdm_notebook()"
   ]
  },
  {
   "cell_type": "code",
   "execution_count": 41,
   "metadata": {},
   "outputs": [
    {
     "data": {
      "application/vnd.jupyter.widget-view+json": {
       "model_id": "d2a38bbff5e8408388c556db76a1b636",
       "version_major": 2,
       "version_minor": 0
      },
      "text/plain": [
       "  0%|          | 0/144 [00:00<?, ?it/s]"
      ]
     },
     "metadata": {},
     "output_type": "display_data"
    },
    {
     "data": {
      "application/vnd.jupyter.widget-view+json": {
       "model_id": "be1fb2ff7f1b46debe1a7e2919febbae",
       "version_major": 2,
       "version_minor": 0
      },
      "text/plain": [
       "  0%|          | 0/144 [00:00<?, ?it/s]"
      ]
     },
     "metadata": {},
     "output_type": "display_data"
    },
    {
     "name": "stdout",
     "output_type": "stream",
     "text": [
      "CPU times: user 6.87 s, sys: 394 ms, total: 7.27 s\n",
      "Wall time: 7.41 s\n"
     ]
    },
    {
     "data": {
      "text/html": [
       "<div>\n",
       "<style scoped>\n",
       "    .dataframe tbody tr th:only-of-type {\n",
       "        vertical-align: middle;\n",
       "    }\n",
       "\n",
       "    .dataframe tbody tr th {\n",
       "        vertical-align: top;\n",
       "    }\n",
       "\n",
       "    .dataframe thead th {\n",
       "        text-align: right;\n",
       "    }\n",
       "</style>\n",
       "<table border=\"1\" class=\"dataframe\">\n",
       "  <thead>\n",
       "    <tr style=\"text-align: right;\">\n",
       "      <th></th>\n",
       "      <th>FSC 488/10-A</th>\n",
       "      <th>SSC 488/10-A</th>\n",
       "      <th>day</th>\n",
       "      <th>description</th>\n",
       "      <th>mCherry-A</th>\n",
       "      <th>mCitrine-A</th>\n",
       "      <th>plasmid</th>\n",
       "      <th>replicate</th>\n",
       "    </tr>\n",
       "  </thead>\n",
       "  <tbody>\n",
       "    <tr>\n",
       "      <th>0</th>\n",
       "      <td>357657344.0</td>\n",
       "      <td>130077184.0</td>\n",
       "      <td>0.0</td>\n",
       "      <td>rTetR only</td>\n",
       "      <td>214476800.0</td>\n",
       "      <td>935936.0</td>\n",
       "      <td>1260</td>\n",
       "      <td>1.0</td>\n",
       "    </tr>\n",
       "    <tr>\n",
       "      <th>1</th>\n",
       "      <td>613253888.0</td>\n",
       "      <td>186921472.0</td>\n",
       "      <td>0.0</td>\n",
       "      <td>rTetR only</td>\n",
       "      <td>88771328.0</td>\n",
       "      <td>1988608.0</td>\n",
       "      <td>1260</td>\n",
       "      <td>1.0</td>\n",
       "    </tr>\n",
       "    <tr>\n",
       "      <th>2</th>\n",
       "      <td>409882368.0</td>\n",
       "      <td>184542208.0</td>\n",
       "      <td>0.0</td>\n",
       "      <td>rTetR only</td>\n",
       "      <td>340477184.0</td>\n",
       "      <td>2286848.0</td>\n",
       "      <td>1260</td>\n",
       "      <td>1.0</td>\n",
       "    </tr>\n",
       "    <tr>\n",
       "      <th>3</th>\n",
       "      <td>438074880.0</td>\n",
       "      <td>229615616.0</td>\n",
       "      <td>0.0</td>\n",
       "      <td>rTetR only</td>\n",
       "      <td>140216320.0</td>\n",
       "      <td>2050560.0</td>\n",
       "      <td>1260</td>\n",
       "      <td>1.0</td>\n",
       "    </tr>\n",
       "    <tr>\n",
       "      <th>4</th>\n",
       "      <td>550200064.0</td>\n",
       "      <td>295275008.0</td>\n",
       "      <td>0.0</td>\n",
       "      <td>rTetR only</td>\n",
       "      <td>163602944.0</td>\n",
       "      <td>2893824.0</td>\n",
       "      <td>1260</td>\n",
       "      <td>1.0</td>\n",
       "    </tr>\n",
       "  </tbody>\n",
       "</table>\n",
       "</div>"
      ],
      "text/plain": [
       "   FSC 488/10-A  SSC 488/10-A  day description    mCherry-A  mCitrine-A  \\\n",
       "0   357657344.0   130077184.0  0.0  rTetR only  214476800.0    935936.0   \n",
       "1   613253888.0   186921472.0  0.0  rTetR only   88771328.0   1988608.0   \n",
       "2   409882368.0   184542208.0  0.0  rTetR only  340477184.0   2286848.0   \n",
       "3   438074880.0   229615616.0  0.0  rTetR only  140216320.0   2050560.0   \n",
       "4   550200064.0   295275008.0  0.0  rTetR only  163602944.0   2893824.0   \n",
       "\n",
       "   plasmid  replicate  \n",
       "0     1260        1.0  \n",
       "1     1260        1.0  \n",
       "2     1260        1.0  \n",
       "3     1260        1.0  \n",
       "4     1260        1.0  "
      ]
     },
     "execution_count": 41,
     "metadata": {},
     "output_type": "execute_result"
    }
   ],
   "source": [
    "%%time\n",
    "\n",
    "tls = tubeslist\n",
    "\n",
    "def get_ex0(chunk):\n",
    "    op0 = ImportOp(\n",
    "        conditions = {'plasmid'     : 'category',\n",
    "                      'description' : 'category',\n",
    "                      'day'         : 'float',\n",
    "                      'replicate'   : 'float'},\n",
    "        tubes = chunk,\n",
    "        channels={'mCitrine-A':'mCitrine-A',\n",
    "                  'mCherry-A':'mCherry-A',\n",
    "                  'FSC 488/10-A':'FSC 488/10-A',\n",
    "                  'SSC 488/10-A':'SSC 488/10-A'})\n",
    "    ex0 = op0.apply()\n",
    "    return ex0\n",
    "\n",
    "\n",
    "ex0_list = [get_ex0(list(chunk))  \n",
    "            for chunk in tqdm.notebook.tqdm_notebook(iteration_utilities.grouper(tls, 1), \n",
    "                                            position = 0, leave = True, total = len(tls))]\n",
    "\n",
    "ex0 = ex0_list[0]\n",
    "all_data = pd.concat([e.data for e in tqdm.notebook.tqdm(ex0_list)])\n",
    "ex0.data = all_data\n",
    "ex0.data.head()"
   ]
  },
  {
   "cell_type": "markdown",
   "metadata": {},
   "source": [
    "# Gate for live cells"
   ]
  },
  {
   "cell_type": "code",
   "execution_count": 42,
   "metadata": {},
   "outputs": [
    {
     "name": "stdout",
     "output_type": "stream",
     "text": [
      "CPU times: user 21.1 s, sys: 1.46 s, total: 22.6 s\n",
      "Wall time: 9 s\n"
     ]
    },
    {
     "data": {
      "image/png": "[encoded data removed]",
      "text/plain": [
       "<Figure size 540x360 with 2 Axes>"
      ]
     },
     "metadata": {},
     "output_type": "display_data"
    }
   ],
   "source": [
    "%%time\n",
    "\n",
    "dens_op = DensityGateOp(\n",
    "    name = 'P1',\n",
    "    xchannel='FSC 488/10-A',\n",
    "    xscale = 'log',\n",
    "    ychannel='SSC 488/10-A',\n",
    "    yscale = 'log',\n",
    "    keep = 0.9)\n",
    "\n",
    "dens_op.estimate(ex0)\n",
    "ex1 = dens_op.apply(ex0)\n",
    "dens_op.default_view().plot(ex0, height = 5)"
   ]
  },
  {
   "cell_type": "code",
   "execution_count": 43,
   "metadata": {},
   "outputs": [
    {
     "data": {
      "text/plain": [
       "P1\n",
       "False     120905\n",
       "True     1564840\n",
       "dtype: int64"
      ]
     },
     "execution_count": 43,
     "metadata": {},
     "output_type": "execute_result"
    }
   ],
   "source": [
    "ex1.data.groupby('P1').size()"
   ]
  },
  {
   "cell_type": "code",
   "execution_count": 44,
   "metadata": {},
   "outputs": [
    {
     "data": {
      "text/html": [
       "<div>\n",
       "<style scoped>\n",
       "    .dataframe tbody tr th:only-of-type {\n",
       "        vertical-align: middle;\n",
       "    }\n",
       "\n",
       "    .dataframe tbody tr th {\n",
       "        vertical-align: top;\n",
       "    }\n",
       "\n",
       "    .dataframe thead th {\n",
       "        text-align: right;\n",
       "    }\n",
       "</style>\n",
       "<table border=\"1\" class=\"dataframe\">\n",
       "  <thead>\n",
       "    <tr style=\"text-align: right;\">\n",
       "      <th></th>\n",
       "      <th>FSC 488/10-A</th>\n",
       "      <th>SSC 488/10-A</th>\n",
       "      <th>day</th>\n",
       "      <th>description</th>\n",
       "      <th>mCherry-A</th>\n",
       "      <th>mCitrine-A</th>\n",
       "      <th>plasmid</th>\n",
       "      <th>replicate</th>\n",
       "    </tr>\n",
       "  </thead>\n",
       "  <tbody>\n",
       "    <tr>\n",
       "      <th>0</th>\n",
       "      <td>5.174733e+08</td>\n",
       "      <td>183806720.0</td>\n",
       "      <td>0.0</td>\n",
       "      <td>KIBRA - Ctrl</td>\n",
       "      <td>142389248.0</td>\n",
       "      <td>1900288.0</td>\n",
       "      <td>138</td>\n",
       "      <td>1.0</td>\n",
       "    </tr>\n",
       "    <tr>\n",
       "      <th>1</th>\n",
       "      <td>6.622164e+08</td>\n",
       "      <td>238872320.0</td>\n",
       "      <td>0.0</td>\n",
       "      <td>KIBRA - Ctrl</td>\n",
       "      <td>208458496.0</td>\n",
       "      <td>2371840.0</td>\n",
       "      <td>138</td>\n",
       "      <td>1.0</td>\n",
       "    </tr>\n",
       "    <tr>\n",
       "      <th>2</th>\n",
       "      <td>6.309066e+08</td>\n",
       "      <td>288128512.0</td>\n",
       "      <td>0.0</td>\n",
       "      <td>KIBRA - Ctrl</td>\n",
       "      <td>113195776.0</td>\n",
       "      <td>2787840.0</td>\n",
       "      <td>138</td>\n",
       "      <td>1.0</td>\n",
       "    </tr>\n",
       "    <tr>\n",
       "      <th>3</th>\n",
       "      <td>5.067402e+08</td>\n",
       "      <td>192910080.0</td>\n",
       "      <td>0.0</td>\n",
       "      <td>KIBRA - Ctrl</td>\n",
       "      <td>175829504.0</td>\n",
       "      <td>3108096.0</td>\n",
       "      <td>138</td>\n",
       "      <td>1.0</td>\n",
       "    </tr>\n",
       "    <tr>\n",
       "      <th>4</th>\n",
       "      <td>7.010967e+08</td>\n",
       "      <td>292076544.0</td>\n",
       "      <td>0.0</td>\n",
       "      <td>KIBRA - Ctrl</td>\n",
       "      <td>358389248.0</td>\n",
       "      <td>2453504.0</td>\n",
       "      <td>138</td>\n",
       "      <td>1.0</td>\n",
       "    </tr>\n",
       "    <tr>\n",
       "      <th>...</th>\n",
       "      <td>...</td>\n",
       "      <td>...</td>\n",
       "      <td>...</td>\n",
       "      <td>...</td>\n",
       "      <td>...</td>\n",
       "      <td>...</td>\n",
       "      <td>...</td>\n",
       "      <td>...</td>\n",
       "    </tr>\n",
       "    <tr>\n",
       "      <th>12628</th>\n",
       "      <td>4.854339e+08</td>\n",
       "      <td>115119872.0</td>\n",
       "      <td>2.0</td>\n",
       "      <td>KIBRA - Ctrl</td>\n",
       "      <td>258048256.0</td>\n",
       "      <td>1196288.0</td>\n",
       "      <td>138</td>\n",
       "      <td>2.0</td>\n",
       "    </tr>\n",
       "    <tr>\n",
       "      <th>12629</th>\n",
       "      <td>1.009637e+09</td>\n",
       "      <td>238825216.0</td>\n",
       "      <td>2.0</td>\n",
       "      <td>KIBRA - Ctrl</td>\n",
       "      <td>102774528.0</td>\n",
       "      <td>2065664.0</td>\n",
       "      <td>138</td>\n",
       "      <td>2.0</td>\n",
       "    </tr>\n",
       "    <tr>\n",
       "      <th>12630</th>\n",
       "      <td>5.384136e+08</td>\n",
       "      <td>110054912.0</td>\n",
       "      <td>2.0</td>\n",
       "      <td>KIBRA - Ctrl</td>\n",
       "      <td>127019776.0</td>\n",
       "      <td>1971712.0</td>\n",
       "      <td>138</td>\n",
       "      <td>2.0</td>\n",
       "    </tr>\n",
       "    <tr>\n",
       "      <th>12631</th>\n",
       "      <td>4.344074e+08</td>\n",
       "      <td>96544512.0</td>\n",
       "      <td>2.0</td>\n",
       "      <td>KIBRA - Ctrl</td>\n",
       "      <td>8364032.0</td>\n",
       "      <td>3684864.0</td>\n",
       "      <td>138</td>\n",
       "      <td>2.0</td>\n",
       "    </tr>\n",
       "    <tr>\n",
       "      <th>12632</th>\n",
       "      <td>4.155310e+08</td>\n",
       "      <td>927242496.0</td>\n",
       "      <td>2.0</td>\n",
       "      <td>KIBRA - Ctrl</td>\n",
       "      <td>1932800.0</td>\n",
       "      <td>1166848.0</td>\n",
       "      <td>138</td>\n",
       "      <td>2.0</td>\n",
       "    </tr>\n",
       "  </tbody>\n",
       "</table>\n",
       "<p>79218 rows × 8 columns</p>\n",
       "</div>"
      ],
      "text/plain": [
       "       FSC 488/10-A  SSC 488/10-A  day   description    mCherry-A  mCitrine-A  \\\n",
       "0      5.174733e+08   183806720.0  0.0  KIBRA - Ctrl  142389248.0   1900288.0   \n",
       "1      6.622164e+08   238872320.0  0.0  KIBRA - Ctrl  208458496.0   2371840.0   \n",
       "2      6.309066e+08   288128512.0  0.0  KIBRA - Ctrl  113195776.0   2787840.0   \n",
       "3      5.067402e+08   192910080.0  0.0  KIBRA - Ctrl  175829504.0   3108096.0   \n",
       "4      7.010967e+08   292076544.0  0.0  KIBRA - Ctrl  358389248.0   2453504.0   \n",
       "...             ...           ...  ...           ...          ...         ...   \n",
       "12628  4.854339e+08   115119872.0  2.0  KIBRA - Ctrl  258048256.0   1196288.0   \n",
       "12629  1.009637e+09   238825216.0  2.0  KIBRA - Ctrl  102774528.0   2065664.0   \n",
       "12630  5.384136e+08   110054912.0  2.0  KIBRA - Ctrl  127019776.0   1971712.0   \n",
       "12631  4.344074e+08    96544512.0  2.0  KIBRA - Ctrl    8364032.0   3684864.0   \n",
       "12632  4.155310e+08   927242496.0  2.0  KIBRA - Ctrl    1932800.0   1166848.0   \n",
       "\n",
       "       plasmid  replicate  \n",
       "0          138        1.0  \n",
       "1          138        1.0  \n",
       "2          138        1.0  \n",
       "3          138        1.0  \n",
       "4          138        1.0  \n",
       "...        ...        ...  \n",
       "12628      138        2.0  \n",
       "12629      138        2.0  \n",
       "12630      138        2.0  \n",
       "12631      138        2.0  \n",
       "12632      138        2.0  \n",
       "\n",
       "[79218 rows x 8 columns]"
      ]
     },
     "execution_count": 44,
     "metadata": {},
     "output_type": "execute_result"
    }
   ],
   "source": [
    "edf = ex1.data\n",
    "all_data[all_data['plasmid']==138]"
   ]
  },
  {
   "cell_type": "markdown",
   "metadata": {},
   "source": [
    "# Gate on mCherry"
   ]
  },
  {
   "cell_type": "code",
   "execution_count": 45,
   "metadata": {},
   "outputs": [
    {
     "data": {
      "image/png": "[encoded data removed]",
      "text/plain": [
       "<Figure size 324x216 with 1 Axes>"
      ]
     },
     "metadata": {},
     "output_type": "display_data"
    }
   ],
   "source": [
    "op_2 = ThresholdOp(\n",
    "    name='mCherry', threshold=1e7, channel='mCherry-A')\n",
    "ex_2 = op_2.apply(ex1)\n",
    "op_2.default_view(\n",
    "    subset='(P1==True)', scale='log').plot(ex_2)"
   ]
  },
  {
   "cell_type": "markdown",
   "metadata": {},
   "source": [
    "# Export data"
   ]
  },
  {
   "cell_type": "code",
   "execution_count": 46,
   "metadata": {},
   "outputs": [],
   "source": [
    "ex_2.data.to_csv('./data/all_cells_live_mch_gated.csv', index = False)"
   ]
  }
 ],
 "metadata": {
  "kernelspec": {
   "display_name": "Python 3",
   "language": "python",
   "name": "python3"
  },
  "language_info": {
   "codemirror_mode": {
    "name": "ipython",
    "version": 3
   },
   "file_extension": ".py",
   "mimetype": "text/x-python",
   "name": "python",
   "nbconvert_exporter": "python",
   "pygments_lexer": "ipython3",
   "version": "3.8.5"
  }
 },
 "nbformat": 4,
 "nbformat_minor": 4
}
