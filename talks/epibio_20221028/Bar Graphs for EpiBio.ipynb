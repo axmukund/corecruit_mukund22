{
 "cells": [
  {
   "cell_type": "code",
   "execution_count": 3,
   "metadata": {
    "ExecuteTime": {
     "end_time": "2022-10-23T20:42:10.665788Z",
     "start_time": "2022-10-23T20:42:10.658381Z"
    }
   },
   "outputs": [],
   "source": [
    "import math\n",
    "import numpy as np\n",
    "import pandas as pd\n",
    "import seaborn as sns\n",
    "import matplotlib.pyplot as plt\n",
    "import matplotlib as mpl\n",
    "import scipy.stats as st\n",
    "import math\n",
    "from tqdm.notebook import tqdm\n",
    "import iteration_utilities\n",
    "import statsmodels\n",
    "import scipy.optimize\n",
    "import scipy.spatial.distance as sd\n",
    "from lmfit import *\n",
    "from matplotlib.lines import Line2D\n",
    "\n",
    "mpl.rcParams['font.sans-serif'] = 'Arial'\n",
    "mpl.rcParams['font.family'] = 'sans-serif'\n",
    "plt.rcParams['figure.figsize'] = (5, 3)\n",
    "mpl.rcParams['pdf.fonttype'] = 42\n",
    "sns.set_style(\n",
    "    'ticks',\n",
    "    {\n",
    "        'xtick.major.size': 4,\n",
    "        'ytick.major.size': 4,\n",
    "        'font_color': 'k',\n",
    "        'axes.edgecolor': 'k',\n",
    "        'xtick.color': 'k',\n",
    "        'ytick.color': 'k',\n",
    "    },\n",
    ")\n",
    "sns.set_context('talk', font_scale=1.0)"
   ]
  },
  {
   "cell_type": "markdown",
   "metadata": {},
   "source": [
    "# Activator Validation Barplots"
   ]
  },
  {
   "cell_type": "code",
   "execution_count": 4,
   "metadata": {
    "ExecuteTime": {
     "end_time": "2022-10-23T20:42:11.284371Z",
     "start_time": "2022-10-23T20:42:11.255173Z"
    }
   },
   "outputs": [
    {
     "data": {
      "text/html": [
       "<div>\n",
       "<style scoped>\n",
       "    .dataframe tbody tr th:only-of-type {\n",
       "        vertical-align: middle;\n",
       "    }\n",
       "\n",
       "    .dataframe tbody tr th {\n",
       "        vertical-align: top;\n",
       "    }\n",
       "\n",
       "    .dataframe thead th {\n",
       "        text-align: right;\n",
       "    }\n",
       "</style>\n",
       "<table border=\"1\" class=\"dataframe\">\n",
       "  <thead>\n",
       "    <tr style=\"text-align: right;\">\n",
       "      <th></th>\n",
       "      <th>concat</th>\n",
       "      <th>frac_on</th>\n",
       "    </tr>\n",
       "  </thead>\n",
       "  <tbody>\n",
       "    <tr>\n",
       "      <th>0</th>\n",
       "      <td>ANM2 + Ctrl</td>\n",
       "      <td>1.2</td>\n",
       "    </tr>\n",
       "    <tr>\n",
       "      <th>1</th>\n",
       "      <td>Ctrl + KIBRA</td>\n",
       "      <td>37.9</td>\n",
       "    </tr>\n",
       "    <tr>\n",
       "      <th>2</th>\n",
       "      <td>ANM2 + KIBRA</td>\n",
       "      <td>93.0</td>\n",
       "    </tr>\n",
       "  </tbody>\n",
       "</table>\n",
       "</div>"
      ],
      "text/plain": [
       "         concat  frac_on\n",
       "0   ANM2 + Ctrl      1.2\n",
       "1  Ctrl + KIBRA     37.9\n",
       "2  ANM2 + KIBRA     93.0"
      ]
     },
     "execution_count": 4,
     "metadata": {},
     "output_type": "execute_result"
    }
   ],
   "source": [
    "act_vals = pd.DataFrame.from_dict(\n",
    "    {\n",
    "        \"concat\": [\n",
    "            \"ANM2 + Ctrl\",\n",
    "#             \"NOTC2 + Ctrl\",\n",
    "            \"Ctrl + KIBRA\",\n",
    "            \"ANM2 + KIBRA\",\n",
    "#             \"NOTC2 + KIBRA\",\n",
    "#             \"ANM2 + NOTC2\",\n",
    "        ],\n",
    "        \"frac_on\": [1.2, 37.9, 93.0],\n",
    "    }\n",
    ")\n",
    "act_vals.head()"
   ]
  },
  {
   "cell_type": "code",
   "execution_count": 5,
   "metadata": {
    "ExecuteTime": {
     "end_time": "2022-10-23T20:42:11.929434Z",
     "start_time": "2022-10-23T20:42:11.556377Z"
    }
   },
   "outputs": [
    {
     "data": {
      "image/png": "[encoded data removed]",
      "text/plain": [
       "<Figure size 500x150 with 1 Axes>"
      ]
     },
     "metadata": {},
     "output_type": "display_data"
    }
   ],
   "source": [
    "fig, ax = plt.subplots(figsize=(5, 1.5))\n",
    "g = sns.barplot(\n",
    "    data=act_vals,\n",
    "    y=\"concat\",\n",
    "    x=\"frac_on\",\n",
    "    orient=\"h\",\n",
    "    color = \"#DBC60D\",\n",
    "    ax=ax,\n",
    ")\n",
    "for i in range(len(list(act_vals[\"concat\"]))):\n",
    "    ax.text(\n",
    "        x=list(act_vals[\"frac_on\"])[i] + 1,\n",
    "        y=i + 0.2,\n",
    "        s=\"{:.1f}%\".format(list(act_vals[\"frac_on\"])[i]),\n",
    "    )\n",
    "\n",
    "ax.set_xlim(0, 120)\n",
    "ax.set_xticks([0, 50, 100])\n",
    "ax.set_xlabel(\"Percent On\")\n",
    "ax.set_ylabel(\"\")\n",
    "\n",
    "sns.despine(fig)\n",
    "\n",
    "fig.savefig(\"./act_validation_bars.png\", dpi=600, bbox_inches=\"tight\")"
   ]
  },
  {
   "cell_type": "code",
   "execution_count": 6,
   "metadata": {
    "ExecuteTime": {
     "end_time": "2022-10-23T20:42:11.949909Z",
     "start_time": "2022-10-23T20:42:11.940761Z"
    }
   },
   "outputs": [
    {
     "data": {
      "text/html": [
       "<div>\n",
       "<style scoped>\n",
       "    .dataframe tbody tr th:only-of-type {\n",
       "        vertical-align: middle;\n",
       "    }\n",
       "\n",
       "    .dataframe tbody tr th {\n",
       "        vertical-align: top;\n",
       "    }\n",
       "\n",
       "    .dataframe thead th {\n",
       "        text-align: right;\n",
       "    }\n",
       "</style>\n",
       "<table border=\"1\" class=\"dataframe\">\n",
       "  <thead>\n",
       "    <tr style=\"text-align: right;\">\n",
       "      <th></th>\n",
       "      <th>concat</th>\n",
       "      <th>frac_on</th>\n",
       "    </tr>\n",
       "  </thead>\n",
       "  <tbody>\n",
       "    <tr>\n",
       "      <th>0</th>\n",
       "      <td>MYBA + Ctrl</td>\n",
       "      <td>88.8</td>\n",
       "    </tr>\n",
       "    <tr>\n",
       "      <th>1</th>\n",
       "      <td>Ctrl + ZN473 KRAB</td>\n",
       "      <td>69.8</td>\n",
       "    </tr>\n",
       "    <tr>\n",
       "      <th>2</th>\n",
       "      <td>MYBA + ZN473 KRAB</td>\n",
       "      <td>32.8</td>\n",
       "    </tr>\n",
       "  </tbody>\n",
       "</table>\n",
       "</div>"
      ],
      "text/plain": [
       "              concat  frac_on\n",
       "0        MYBA + Ctrl     88.8\n",
       "1  Ctrl + ZN473 KRAB     69.8\n",
       "2  MYBA + ZN473 KRAB     32.8"
      ]
     },
     "execution_count": 6,
     "metadata": {},
     "output_type": "execute_result"
    }
   ],
   "source": [
    "act_antag_vals = pd.DataFrame.from_dict(\n",
    "    {\n",
    "        \"concat\": [\n",
    "            \"MYBA + Ctrl\",\n",
    "            \"Ctrl + ZN473 KRAB\",\n",
    "            \"MYBA + ZN473 KRAB\",\n",
    "        ],\n",
    "        \"frac_on\": [88.8, 69.8, 32.8],\n",
    "    }\n",
    ")\n",
    "act_antag_vals.head()"
   ]
  },
  {
   "cell_type": "code",
   "execution_count": 7,
   "metadata": {
    "ExecuteTime": {
     "end_time": "2022-10-23T20:42:12.609536Z",
     "start_time": "2022-10-23T20:42:12.255476Z"
    }
   },
   "outputs": [
    {
     "data": {
      "image/png": "[encoded data removed]",
      "text/plain": [
       "<Figure size 500x150 with 1 Axes>"
      ]
     },
     "metadata": {},
     "output_type": "display_data"
    }
   ],
   "source": [
    "fig, ax = plt.subplots(figsize=(5, 1.5))\n",
    "g = sns.barplot(\n",
    "    data=act_antag_vals,\n",
    "    y=\"concat\",\n",
    "    x=\"frac_on\",\n",
    "    orient=\"h\",\n",
    "    color = \"#E34A33\",\n",
    "    ax=ax,\n",
    ")\n",
    "for i in range(len(list(act_antag_vals[\"concat\"]))):\n",
    "    ax.text(\n",
    "        x=list(act_antag_vals[\"frac_on\"])[i] + 1,\n",
    "        y=i + 0.2,\n",
    "        s=\"{:.1f}%\".format(list(act_antag_vals[\"frac_on\"])[i]),\n",
    "    )\n",
    "\n",
    "ax.set_xlim(0, 120)\n",
    "ax.set_xticks([0, 50, 100])\n",
    "ax.set_xlabel(\"Percent On\")\n",
    "ax.set_ylabel(\"\")\n",
    "\n",
    "sns.despine(fig)\n",
    "\n",
    "fig.savefig(\"./act_antag_bars.png\", dpi=600, bbox_inches=\"tight\")"
   ]
  },
  {
   "cell_type": "markdown",
   "metadata": {},
   "source": [
    "# StaPL bars"
   ]
  },
  {
   "cell_type": "code",
   "execution_count": 52,
   "metadata": {
    "ExecuteTime": {
     "end_time": "2022-10-23T20:56:30.298937Z",
     "start_time": "2022-10-23T20:56:30.275579Z"
    }
   },
   "outputs": [
    {
     "data": {
      "text/html": [
       "<div>\n",
       "<style scoped>\n",
       "    .dataframe tbody tr th:only-of-type {\n",
       "        vertical-align: middle;\n",
       "    }\n",
       "\n",
       "    .dataframe tbody tr th {\n",
       "        vertical-align: top;\n",
       "    }\n",
       "\n",
       "    .dataframe thead th {\n",
       "        text-align: right;\n",
       "    }\n",
       "</style>\n",
       "<table border=\"1\" class=\"dataframe\">\n",
       "  <thead>\n",
       "    <tr style=\"text-align: right;\">\n",
       "      <th></th>\n",
       "      <th>plasmid</th>\n",
       "      <th>description</th>\n",
       "      <th>asv</th>\n",
       "      <th>day</th>\n",
       "      <th>replicate</th>\n",
       "      <th>norm Citrine Off</th>\n",
       "      <th>order</th>\n",
       "    </tr>\n",
       "  </thead>\n",
       "  <tbody>\n",
       "    <tr>\n",
       "      <th>3</th>\n",
       "      <td>222</td>\n",
       "      <td>FOXO3</td>\n",
       "      <td>1.0</td>\n",
       "      <td>5.0</td>\n",
       "      <td>1.5</td>\n",
       "      <td>41.470970</td>\n",
       "      <td>221.0</td>\n",
       "    </tr>\n",
       "    <tr>\n",
       "      <th>2</th>\n",
       "      <td>217</td>\n",
       "      <td>KRAB</td>\n",
       "      <td>1.0</td>\n",
       "      <td>5.0</td>\n",
       "      <td>1.5</td>\n",
       "      <td>98.594476</td>\n",
       "      <td>216.0</td>\n",
       "    </tr>\n",
       "    <tr>\n",
       "      <th>0</th>\n",
       "      <td>73</td>\n",
       "      <td>StaPL TF, $-$ASV</td>\n",
       "      <td>0.0</td>\n",
       "      <td>5.0</td>\n",
       "      <td>1.5</td>\n",
       "      <td>38.542463</td>\n",
       "      <td>73.0</td>\n",
       "    </tr>\n",
       "    <tr>\n",
       "      <th>1</th>\n",
       "      <td>73</td>\n",
       "      <td>StaPL TF, $+$ASV</td>\n",
       "      <td>1.0</td>\n",
       "      <td>5.0</td>\n",
       "      <td>1.5</td>\n",
       "      <td>99.105829</td>\n",
       "      <td>72.0</td>\n",
       "    </tr>\n",
       "  </tbody>\n",
       "</table>\n",
       "</div>"
      ],
      "text/plain": [
       "   plasmid       description  asv  day  replicate  norm Citrine Off  order\n",
       "3      222             FOXO3  1.0  5.0        1.5         41.470970  221.0\n",
       "2      217              KRAB  1.0  5.0        1.5         98.594476  216.0\n",
       "0       73  StaPL TF, $-$ASV  0.0  5.0        1.5         38.542463   73.0\n",
       "1       73  StaPL TF, $+$ASV  1.0  5.0        1.5         99.105829   72.0"
      ]
     },
     "execution_count": 52,
     "metadata": {},
     "output_type": "execute_result"
    }
   ],
   "source": [
    "rep_df = pd.read_csv(\n",
    "    \"../../fig_3/02_repressor_validations/2022.04.18_repadd_stapl/data/plasmids_norm_cit_off.csv\"\n",
    ")\n",
    "rep_df = rep_df[rep_df[\"plasmid\"].isin([73, 217, 222])]\n",
    "srdf = (\n",
    "    rep_df[(rep_df[\"day\"] == 5) & ((rep_df[\"plasmid\"] == 73) | (rep_df[\"asv\"] == 1))]\n",
    "    .groupby([\"plasmid\", \"description\", \"asv\"])\n",
    "    .mean()\n",
    "    .reset_index()\n",
    ")\n",
    "\n",
    "descr_dict = {73: \"StaPL TF\", 217: \"KRAB\", 222: \"FOXO3\"}\n",
    "srdf[\"description\"] = [\n",
    "    \"StaPL TF, $-$ASV\",\n",
    "    \"StaPL TF, $+$ASV\",\n",
    "    \"KRAB\", \n",
    "    \"FOXO3\"\n",
    "]\n",
    "srdf[\"order\"] = srdf[\"plasmid\"] - srdf[\"asv\"]\n",
    "srdf[\"norm Citrine Off\"] = 100 * srdf[\"norm Citrine Off\"]\n",
    "srdf = srdf.sort_values(by=\"order\", ascending=False)\n",
    "\n",
    "srdf"
   ]
  },
  {
   "cell_type": "code",
   "execution_count": 63,
   "metadata": {
    "ExecuteTime": {
     "end_time": "2022-10-23T20:58:17.221816Z",
     "start_time": "2022-10-23T20:58:16.811661Z"
    }
   },
   "outputs": [
    {
     "data": {
      "image/png": "[encoded data removed]",
      "text/plain": [
       "<Figure size 500x150 with 1 Axes>"
      ]
     },
     "metadata": {},
     "output_type": "display_data"
    }
   ],
   "source": [
    "fig, ax = plt.subplots(figsize=(5, 1.5))\n",
    "\n",
    "g = sns.barplot(\n",
    "    data=srdf,\n",
    "    x=\"norm Citrine Off\",\n",
    "    y=\"description\",\n",
    "    orient=\"h\",\n",
    "    palette = [\"#0fa616\", \"#23bedb\", \"thistle\", \"tab:purple\"],\n",
    "    ax=ax\n",
    ")\n",
    "\n",
    "for i in range(len(list(srdf[\"plasmid\"]))):\n",
    "    ax.text(\n",
    "        x=list(srdf[\"norm Citrine Off\"])[i] + 1,\n",
    "        y=i + 0.2,\n",
    "        s=\"{:.1f}%\".format(list(srdf[\"norm Citrine Off\"])[i]),\n",
    "    )\n",
    "\n",
    "ax.set_xlim(0, 120)\n",
    "ax.set_xticks([0, 50, 100])\n",
    "ax.set_xlabel(\"Percent Off\")\n",
    "ax.set_ylabel(\"\")\n",
    "ax.set_title(\"Repression\", fontsize=22, y=1.1)\n",
    "\n",
    "sns.despine(fig)\n",
    "\n",
    "fig.savefig(\"./stapl_repr_bars.png\", bbox_inches=\"tight\", dpi=600)"
   ]
  },
  {
   "cell_type": "code",
   "execution_count": 65,
   "metadata": {
    "ExecuteTime": {
     "end_time": "2022-10-23T21:03:07.064756Z",
     "start_time": "2022-10-23T21:03:07.060779Z"
    }
   },
   "outputs": [],
   "source": [
    "sadf = pd.DataFrame.from_dict(\n",
    "    {\n",
    "        \"description\": [\"FOXO3\", \"KRAB\", \"StaPL TF, $-$ASV\", \"StaPL, $+$ASV\"],\n",
    "        \"frac_on\": [83.2, 0.0, 87.6, 0.0],\n",
    "    }\n",
    ")"
   ]
  },
  {
   "cell_type": "code",
   "execution_count": 71,
   "metadata": {
    "ExecuteTime": {
     "end_time": "2022-10-23T21:04:11.804859Z",
     "start_time": "2022-10-23T21:04:11.437340Z"
    }
   },
   "outputs": [
    {
     "data": {
      "image/png": "[encoded data removed]",
      "text/plain": [
       "<Figure size 500x150 with 1 Axes>"
      ]
     },
     "metadata": {},
     "output_type": "display_data"
    }
   ],
   "source": [
    "fig, ax = plt.subplots(figsize=(5, 1.5))\n",
    "\n",
    "g = sns.barplot(\n",
    "    data=sadf,\n",
    "    x=\"frac_on\",\n",
    "    y=\"description\",\n",
    "    orient=\"h\",\n",
    "    palette = [\"#0fa616\", \"#23bedb\", \"thistle\", \"tab:purple\"],\n",
    "    ax=ax\n",
    ")\n",
    "\n",
    "for i in range(len(list(sadf[\"description\"]))):\n",
    "    ax.text(\n",
    "        x=list(sadf[\"frac_on\"])[i] + 1,\n",
    "        y=i + 0.3,\n",
    "        s=\"{:.1f}%\".format(list(sadf[\"frac_on\"])[i]),\n",
    "    )\n",
    "\n",
    "ax.set_xlim(0, 120)\n",
    "ax.set_xticks([0, 50, 100])\n",
    "ax.set_xlabel(\"Percent Off\")\n",
    "ax.set_ylabel(\"\")\n",
    "ax.set_title(\"Activation\", fontsize=22, y=1.1)\n",
    "\n",
    "sns.despine(fig)\n",
    "\n",
    "fig.savefig(\"./stapl_act_bars.png\", bbox_inches=\"tight\", dpi=600)"
   ]
  },
  {
   "cell_type": "markdown",
   "metadata": {},
   "source": [
    "# Repression Validations"
   ]
  },
  {
   "cell_type": "code",
   "execution_count": 72,
   "metadata": {
    "ExecuteTime": {
     "end_time": "2022-10-24T19:10:00.764477Z",
     "start_time": "2022-10-24T19:10:00.697678Z"
    }
   },
   "outputs": [
    {
     "data": {
      "text/html": [
       "<div>\n",
       "<style scoped>\n",
       "    .dataframe tbody tr th:only-of-type {\n",
       "        vertical-align: middle;\n",
       "    }\n",
       "\n",
       "    .dataframe tbody tr th {\n",
       "        vertical-align: top;\n",
       "    }\n",
       "\n",
       "    .dataframe thead th {\n",
       "        text-align: right;\n",
       "    }\n",
       "</style>\n",
       "<table border=\"1\" class=\"dataframe\">\n",
       "  <thead>\n",
       "    <tr style=\"text-align: right;\">\n",
       "      <th></th>\n",
       "      <th>plasmid</th>\n",
       "      <th>description</th>\n",
       "      <th>day</th>\n",
       "      <th>asv</th>\n",
       "      <th>replicate</th>\n",
       "      <th>norm Citrine Off</th>\n",
       "    </tr>\n",
       "  </thead>\n",
       "  <tbody>\n",
       "    <tr>\n",
       "      <th>0</th>\n",
       "      <td>56</td>\n",
       "      <td>STaPL-only</td>\n",
       "      <td>0.0</td>\n",
       "      <td>0.0</td>\n",
       "      <td>1.0</td>\n",
       "      <td>0.048413</td>\n",
       "    </tr>\n",
       "    <tr>\n",
       "      <th>1</th>\n",
       "      <td>56</td>\n",
       "      <td>STaPL-only</td>\n",
       "      <td>0.0</td>\n",
       "      <td>0.0</td>\n",
       "      <td>2.0</td>\n",
       "      <td>0.028066</td>\n",
       "    </tr>\n",
       "    <tr>\n",
       "      <th>2</th>\n",
       "      <td>56</td>\n",
       "      <td>STaPL-only</td>\n",
       "      <td>0.0</td>\n",
       "      <td>1.0</td>\n",
       "      <td>1.0</td>\n",
       "      <td>-0.003232</td>\n",
       "    </tr>\n",
       "    <tr>\n",
       "      <th>3</th>\n",
       "      <td>56</td>\n",
       "      <td>STaPL-only</td>\n",
       "      <td>0.0</td>\n",
       "      <td>1.0</td>\n",
       "      <td>2.0</td>\n",
       "      <td>0.008932</td>\n",
       "    </tr>\n",
       "    <tr>\n",
       "      <th>4</th>\n",
       "      <td>56</td>\n",
       "      <td>STaPL-only</td>\n",
       "      <td>1.0</td>\n",
       "      <td>0.0</td>\n",
       "      <td>1.0</td>\n",
       "      <td>0.001454</td>\n",
       "    </tr>\n",
       "    <tr>\n",
       "      <th>...</th>\n",
       "      <td>...</td>\n",
       "      <td>...</td>\n",
       "      <td>...</td>\n",
       "      <td>...</td>\n",
       "      <td>...</td>\n",
       "      <td>...</td>\n",
       "    </tr>\n",
       "    <tr>\n",
       "      <th>259</th>\n",
       "      <td>222</td>\n",
       "      <td>FOXO3-only</td>\n",
       "      <td>4.0</td>\n",
       "      <td>1.0</td>\n",
       "      <td>2.0</td>\n",
       "      <td>0.367725</td>\n",
       "    </tr>\n",
       "    <tr>\n",
       "      <th>260</th>\n",
       "      <td>222</td>\n",
       "      <td>FOXO3-only</td>\n",
       "      <td>5.0</td>\n",
       "      <td>0.0</td>\n",
       "      <td>1.0</td>\n",
       "      <td>0.447175</td>\n",
       "    </tr>\n",
       "    <tr>\n",
       "      <th>261</th>\n",
       "      <td>222</td>\n",
       "      <td>FOXO3-only</td>\n",
       "      <td>5.0</td>\n",
       "      <td>0.0</td>\n",
       "      <td>2.0</td>\n",
       "      <td>0.454140</td>\n",
       "    </tr>\n",
       "    <tr>\n",
       "      <th>262</th>\n",
       "      <td>222</td>\n",
       "      <td>FOXO3-only</td>\n",
       "      <td>5.0</td>\n",
       "      <td>1.0</td>\n",
       "      <td>1.0</td>\n",
       "      <td>0.404868</td>\n",
       "    </tr>\n",
       "    <tr>\n",
       "      <th>263</th>\n",
       "      <td>222</td>\n",
       "      <td>FOXO3-only</td>\n",
       "      <td>5.0</td>\n",
       "      <td>1.0</td>\n",
       "      <td>2.0</td>\n",
       "      <td>0.424551</td>\n",
       "    </tr>\n",
       "  </tbody>\n",
       "</table>\n",
       "<p>264 rows × 6 columns</p>\n",
       "</div>"
      ],
      "text/plain": [
       "     plasmid description  day  asv  replicate  norm Citrine Off\n",
       "0         56  STaPL-only  0.0  0.0        1.0          0.048413\n",
       "1         56  STaPL-only  0.0  0.0        2.0          0.028066\n",
       "2         56  STaPL-only  0.0  1.0        1.0         -0.003232\n",
       "3         56  STaPL-only  0.0  1.0        2.0          0.008932\n",
       "4         56  STaPL-only  1.0  0.0        1.0          0.001454\n",
       "..       ...         ...  ...  ...        ...               ...\n",
       "259      222  FOXO3-only  4.0  1.0        2.0          0.367725\n",
       "260      222  FOXO3-only  5.0  0.0        1.0          0.447175\n",
       "261      222  FOXO3-only  5.0  0.0        2.0          0.454140\n",
       "262      222  FOXO3-only  5.0  1.0        1.0          0.404868\n",
       "263      222  FOXO3-only  5.0  1.0        2.0          0.424551\n",
       "\n",
       "[264 rows x 6 columns]"
      ]
     },
     "execution_count": 72,
     "metadata": {},
     "output_type": "execute_result"
    }
   ],
   "source": [
    "rep_df = pd.read_csv(\n",
    "    \"../../fig_3/02_repressor_validations/2022.04.18_repadd_stapl/data/plasmids_norm_cit_off.csv\"\n",
    ")\n",
    "rep_df"
   ]
  },
  {
   "cell_type": "code",
   "execution_count": 84,
   "metadata": {
    "ExecuteTime": {
     "end_time": "2022-10-24T19:20:26.888836Z",
     "start_time": "2022-10-24T19:20:26.869272Z"
    }
   },
   "outputs": [
    {
     "data": {
      "text/html": [
       "<div>\n",
       "<style scoped>\n",
       "    .dataframe tbody tr th:only-of-type {\n",
       "        vertical-align: middle;\n",
       "    }\n",
       "\n",
       "    .dataframe tbody tr th {\n",
       "        vertical-align: top;\n",
       "    }\n",
       "\n",
       "    .dataframe thead th {\n",
       "        text-align: right;\n",
       "    }\n",
       "</style>\n",
       "<table border=\"1\" class=\"dataframe\">\n",
       "  <thead>\n",
       "    <tr style=\"text-align: right;\">\n",
       "      <th></th>\n",
       "      <th>index</th>\n",
       "      <th>plasmid</th>\n",
       "      <th>description</th>\n",
       "      <th>day</th>\n",
       "      <th>asv</th>\n",
       "      <th>replicate</th>\n",
       "      <th>norm Citrine Off</th>\n",
       "    </tr>\n",
       "  </thead>\n",
       "  <tbody>\n",
       "    <tr>\n",
       "      <th>0</th>\n",
       "      <td>2</td>\n",
       "      <td>182</td>\n",
       "      <td>CBX1 + Ctrl</td>\n",
       "      <td>5.0</td>\n",
       "      <td>0.0</td>\n",
       "      <td>1.5</td>\n",
       "      <td>99.026223</td>\n",
       "    </tr>\n",
       "    <tr>\n",
       "      <th>1</th>\n",
       "      <td>1</td>\n",
       "      <td>181</td>\n",
       "      <td>ZNF10 + Ctrl</td>\n",
       "      <td>5.0</td>\n",
       "      <td>0.0</td>\n",
       "      <td>1.5</td>\n",
       "      <td>98.943850</td>\n",
       "    </tr>\n",
       "    <tr>\n",
       "      <th>2</th>\n",
       "      <td>0</td>\n",
       "      <td>77</td>\n",
       "      <td>ZNF10 + CBX1</td>\n",
       "      <td>5.0</td>\n",
       "      <td>0.0</td>\n",
       "      <td>1.5</td>\n",
       "      <td>99.071294</td>\n",
       "    </tr>\n",
       "  </tbody>\n",
       "</table>\n",
       "</div>"
      ],
      "text/plain": [
       "   index  plasmid   description  day  asv  replicate  norm Citrine Off\n",
       "0      2      182   CBX1 + Ctrl  5.0  0.0        1.5         99.026223\n",
       "1      1      181  ZNF10 + Ctrl  5.0  0.0        1.5         98.943850\n",
       "2      0       77  ZNF10 + CBX1  5.0  0.0        1.5         99.071294"
      ]
     },
     "execution_count": 84,
     "metadata": {},
     "output_type": "execute_result"
    }
   ],
   "source": [
    "rdf = (\n",
    "    rep_df[\n",
    "        (rep_df[\"day\"] == 5)\n",
    "        & (rep_df[\"plasmid\"].isin([181, 182, 77]))\n",
    "        & (rep_df[\"asv\"] == 0)\n",
    "    ]\n",
    "    .groupby([\"plasmid\", \"description\"])\n",
    "    .mean()\n",
    "    .reset_index()\n",
    "    .sort_values(by=\"plasmid\", ascending=False)\n",
    "    .reset_index()\n",
    ")\n",
    "rdf[\"description\"] = [\"CBX1 + Ctrl\", \"ZNF10 + Ctrl\", \"ZNF10 + CBX1\"]\n",
    "rdf[\"norm Citrine Off\"] = rdf[\"norm Citrine Off\"] * 100\n",
    "rdf"
   ]
  },
  {
   "cell_type": "code",
   "execution_count": 85,
   "metadata": {
    "ExecuteTime": {
     "end_time": "2022-10-24T19:20:28.766818Z",
     "start_time": "2022-10-24T19:20:28.448817Z"
    }
   },
   "outputs": [
    {
     "data": {
      "image/png": "[encoded data removed]",
      "text/plain": [
       "<Figure size 500x150 with 1 Axes>"
      ]
     },
     "metadata": {},
     "output_type": "display_data"
    }
   ],
   "source": [
    "fig, ax = plt.subplots(figsize=(5, 1.5))\n",
    "g = sns.barplot(\n",
    "    data=rdf,\n",
    "    y=\"description\",\n",
    "    x=\"norm Citrine Off\",\n",
    "    orient=\"h\",\n",
    "    color = \"#23BEDB\",\n",
    "    ax=ax,\n",
    ")\n",
    "for i in range(len(list(rdf[\"plasmid\"]))):\n",
    "    ax.text(\n",
    "        x=list(rdf[\"norm Citrine Off\"])[i] + 1,\n",
    "        y=i + 0.2,\n",
    "        s=\"{:.1f}%\".format(list(rdf[\"norm Citrine Off\"])[i]),\n",
    "    )\n",
    "\n",
    "ax.set_xlim(0, 120)\n",
    "ax.set_xticks([0, 50, 100])\n",
    "ax.set_xlabel(\"Percent Off\")\n",
    "ax.set_ylabel(\"\")\n",
    "\n",
    "sns.despine(fig)\n",
    "\n",
    "fig.savefig(\"./rep_sat_bars.png\", dpi=600, bbox_inches=\"tight\")"
   ]
  },
  {
   "cell_type": "code",
   "execution_count": null,
   "metadata": {},
   "outputs": [],
   "source": []
  },
  {
   "cell_type": "code",
   "execution_count": null,
   "metadata": {},
   "outputs": [],
   "source": []
  },
  {
   "cell_type": "code",
   "execution_count": null,
   "metadata": {},
   "outputs": [],
   "source": []
  },
  {
   "cell_type": "code",
   "execution_count": null,
   "metadata": {},
   "outputs": [],
   "source": []
  },
  {
   "cell_type": "code",
   "execution_count": null,
   "metadata": {},
   "outputs": [],
   "source": []
  },
  {
   "cell_type": "code",
   "execution_count": null,
   "metadata": {},
   "outputs": [],
   "source": []
  },
  {
   "cell_type": "code",
   "execution_count": null,
   "metadata": {},
   "outputs": [],
   "source": []
  },
  {
   "cell_type": "code",
   "execution_count": null,
   "metadata": {},
   "outputs": [],
   "source": []
  },
  {
   "cell_type": "code",
   "execution_count": null,
   "metadata": {},
   "outputs": [],
   "source": []
  },
  {
   "cell_type": "code",
   "execution_count": null,
   "metadata": {},
   "outputs": [],
   "source": []
  },
  {
   "cell_type": "code",
   "execution_count": null,
   "metadata": {},
   "outputs": [],
   "source": []
  }
 ],
 "metadata": {
  "kernelspec": {
   "display_name": "Python [conda env:flow] *",
   "language": "python",
   "name": "conda-env-flow-py"
  },
  "language_info": {
   "codemirror_mode": {
    "name": "ipython",
    "version": 3
   },
   "file_extension": ".py",
   "mimetype": "text/x-python",
   "name": "python",
   "nbconvert_exporter": "python",
   "pygments_lexer": "ipython3",
   "version": "3.8.5"
  },
  "varInspector": {
   "cols": {
    "lenName": 16,
    "lenType": 16,
    "lenVar": 40
   },
   "kernels_config": {
    "python": {
     "delete_cmd_postfix": "",
     "delete_cmd_prefix": "del ",
     "library": "var_list.py",
     "varRefreshCmd": "print(var_dic_list())"
    },
    "r": {
     "delete_cmd_postfix": ") ",
     "delete_cmd_prefix": "rm(",
     "library": "var_list.r",
     "varRefreshCmd": "cat(var_dic_list()) "
    }
   },
   "types_to_exclude": [
    "module",
    "function",
    "builtin_function_or_method",
    "instance",
    "_Feature"
   ],
   "window_display": false
  }
 },
 "nbformat": 4,
 "nbformat_minor": 4
}
